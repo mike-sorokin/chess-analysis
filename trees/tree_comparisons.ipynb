{
 "cells": [
  {
   "cell_type": "code",
   "execution_count": null,
   "metadata": {},
   "outputs": [],
   "source": [
    "from edist.multiprocess import pairwise_distances_symmetric\n",
    "from edist.uted import uted\n",
    "from importlib import reload\n",
    "from sklearn.cluster import OPTICS, cluster_optics_dbscan, DBSCAN, HDBSCAN, AgglomerativeClustering\n",
    "from sklearn.manifold import TSNE, MDS\n",
    "from tqdm import tqdm\n",
    "import chess\n",
    "import json\n",
    "import main\n",
    "import matplotlib.pyplot as plt\n",
    "import numpy as np\n",
    "import itertools\n",
    "import os\n",
    "import pandas as pd\n",
    "import pickle\n",
    "import random\n",
    "import zss\n",
    "reload(main)\n",
    "from main import ChessTreeNode, expand_tree"
   ]
  },
  {
   "cell_type": "code",
   "execution_count": null,
   "metadata": {},
   "outputs": [],
   "source": [
    "# Download and unzip stockfish\n",
    "if not os.path.exists(\"stockfish\"):\n",
    "    !wget https://github.com/official-stockfish/Stockfish/releases/latest/download/stockfish-ubuntu-x86-64-avx2.tar\n",
    "    !tar -xf stockfish-ubuntu-x86-64-avx2.tar"
   ]
  },
  {
   "cell_type": "code",
   "execution_count": null,
   "metadata": {},
   "outputs": [],
   "source": [
    "def convert_to_adj_node_lists(t):\n",
    "    # First we label each node with an integer\n",
    "    counter = itertools.count()\n",
    "    idxs = {}\n",
    "    stack = [t]\n",
    "    all_nodes = []\n",
    "    while stack:\n",
    "        n = stack.pop()\n",
    "        all_nodes.append(n)\n",
    "        idxs[id(n)] = next(counter)\n",
    "        for c in reversed(n.children):\n",
    "            stack.append(c)\n",
    "            \n",
    "    nodes = [None for _ in idxs]\n",
    "    adj = [None for _ in idxs]\n",
    "\n",
    "    for n in all_nodes:\n",
    "        nodes[idxs[id(n)]] = n.move_attributes\n",
    "        adj[idxs[id(n)]] = [idxs[id(c)] for c in n.children]\n",
    "\n",
    "    return nodes, adj"
   ]
  },
  {
   "cell_type": "code",
   "execution_count": null,
   "metadata": {},
   "outputs": [],
   "source": [
    "# Read `all_trees`, parse to ChessTreeNode, and load to memory.\n",
    "trees = {}\n",
    "with open(\"../data/trees/condor/all\", \"r\") as f:\n",
    "    for idx, line in enumerate(tqdm(f.readlines())):\n",
    "        try:\n",
    "            puzzle_id, tree = json.loads(line)\n",
    "        except Exception: # lol\n",
    "            continue\n",
    "        if len(tree) == 0:\n",
    "            continue\n",
    "\n",
    "        t = ChessTreeNode(*tree[0])\n",
    "        trees[puzzle_id] = (t, convert_to_adj_node_lists(t))\n",
    "    with open(\"tree_dict.pkl\", \"wb\") as f:\n",
    "        pickle.dump(trees, f)"
   ]
  },
  {
   "cell_type": "code",
   "execution_count": null,
   "metadata": {},
   "outputs": [],
   "source": [
    "def compare(t1, t2):\n",
    "    #return zss.simple_distance(t1, t2, ChessTreeNode.get_children, ChessTreeNode.get_label, ChessTreeNode.compare)\n",
    "    _, (x_nodes, x_adj) = t1\n",
    "    _, (y_nodes, y_adj) = t2\n",
    "    return uted(x_nodes, x_adj, y_nodes, y_adj, ChessTreeNode.compare)\n",
    "\n",
    "def treeify_fen(fen):\n",
    "    flipped = False\n",
    "    board = chess.Board(fen)\n",
    "    if board.turn == chess.BLACK:\n",
    "        flipped = True\n",
    "        board.apply_mirror()\n",
    "\n",
    "    stockfish = chess.engine.SimpleEngine.popen_uci(\"./stockfish/stockfish-ubuntu-x86-64-avx2\", timeout=None)\n",
    "    try:\n",
    "        return ChessTreeNode(*expand_tree(board.fen(), chess.Move.null(), stockfish)[0]), flipped\n",
    "    finally:\n",
    "        stockfish.quit()\n",
    "        \n",
    "df = pd.read_csv(\"../data/lichess/lichess_db_puzzle.csv\")\n",
    "def lookup_id(puzzle_id):\n",
    "    matched = df.loc[df[\"PuzzleId\"] == puzzle_id]\n",
    "    return f\"{puzzle_id} {matched['GameUrl'].item()} {matched['Themes'].item()}\"\n",
    "    "
   ]
  },
  {
   "cell_type": "code",
   "execution_count": null,
   "metadata": {},
   "outputs": [],
   "source": [
    "with open(\"tree_dict.pkl\", \"rb\") as f:\n",
    "    trees = pickle.load(f)"
   ]
  },
  {
   "cell_type": "code",
   "execution_count": null,
   "metadata": {},
   "outputs": [],
   "source": [
    "custom_fens = {\n",
    "    \"Rook Backrank M1\": \"6k1/5ppp/8/8/8/8/r4PPP/1R4K1 w - - 0 1\",\n",
    "    \"N forks RK\": \"8/1N6/1K6/4k1p1/2P1Pp1p/4n2P/3R2P1/8 b - - 0 49\",\n",
    "    \"Greek gift\": \"r1bq1rk1/pp2nppp/1bn1p3/1N1pP3/1P6/P2B1N2/2P2PPP/R1BQK2R w KQ - 3 11\",\n",
    "    \"Rook sacrifice, Queen+Bishop M3\": \"4r1k1/1b3pp1/4p3/p2r4/7R/2B1Q1PP/P1P1RP1K/1q6 w - - 0 1\",\n",
    "}\n",
    "custom_flipped = {}\n",
    "for my_id, my_fen in custom_fens.items():\n",
    "    t, flip = treeify_fen(my_fen)\n",
    "    trees[my_id] = (t, convert_to_adj_node_lists(t))\n",
    "    custom_flipped[my_id] = flip\n",
    "    print(\"=\"*50)\n",
    "    print(my_id)\n",
    "    print(my_fen)\n",
    "    print(t.flip_san(flip))\n",
    "    print(\"=\"*50)"
   ]
  },
  {
   "cell_type": "code",
   "execution_count": null,
   "metadata": {},
   "outputs": [],
   "source": [
    "# Find the closest puzzles for these fens\n",
    "for my_id, my_fen in custom_fens.items():\n",
    "    print(\"=\"*50)\n",
    "    print(my_id)\n",
    "    print(my_fen)\n",
    "    print(\"=\"*50)\n",
    "    my_tree = trees[my_id]\n",
    "    distances = []\n",
    "    for pid, t in tqdm(list(trees.items())[:1000], leave=False):\n",
    "        if pid in custom_fens:\n",
    "            continue\n",
    "        distances.append((compare(t, my_tree), pid, t))\n",
    "    distances.sort()\n",
    "\n",
    "    for dist, pid, t in distances[:100]:\n",
    "        print(f\"(dist: {dist}) {lookup_id(pid)}\")\n",
    "        #print(t)\n",
    "        print(\"-\"*50)\n"
   ]
  },
  {
   "cell_type": "code",
   "execution_count": null,
   "metadata": {},
   "outputs": [],
   "source": [
    "np.random.seed(0)\n",
    "ids = np.random.choice([k for k, _ in trees.items() if k not in custom_fens], 20000)\n",
    "ids = np.concatenate((ids, list(custom_fens.keys())))\n",
    "trees_short = [trees[k] for k in ids]"
   ]
  },
  {
   "cell_type": "code",
   "execution_count": null,
   "metadata": {},
   "outputs": [],
   "source": [
    "D = pairwise_distances_symmetric(trees_short, compare)\n"
   ]
  },
  {
   "cell_type": "code",
   "execution_count": null,
   "metadata": {},
   "outputs": [],
   "source": [
    "ids = np.load(\"ids.npy\")\n",
    "D = np.load(\"D.npy\")"
   ]
  },
  {
   "cell_type": "code",
   "execution_count": null,
   "metadata": {},
   "outputs": [],
   "source": [
    "#optics = DBSCAN(metric=\"precomputed\", eps=500, min_samples=7)\n",
    "np.random.seed(0)\n",
    "optics = HDBSCAN(metric=\"precomputed\", min_cluster_size=7, cluster_selection_epsilon=100)\n",
    "clust = optics.fit(D)\n",
    "print(len(set(clust.labels_)))\n",
    "print(set(clust.labels_))"
   ]
  },
  {
   "cell_type": "code",
   "execution_count": null,
   "metadata": {},
   "outputs": [],
   "source": [
    "def analyse_clustering_info(cl):\n",
    "    # Total num of clusters\n",
    "    print(sum(1 for l in set(cl.labels_) if l != -1), end=\"&\")\n",
    "    # Clusters preset puzzles\n",
    "    for k in custom_fens.keys():\n",
    "        print(cl.labels_[np.where(ids==k)[0]].item() != -1, end=\"&\")\n",
    "    # % of -1\n",
    "    print(100 * round((cl.labels_ == - 1).sum() / len(ids), 4), end=\"&\")\n",
    "\n",
    "    ln = [(cl.labels_ == p).sum() for p in set(cl.labels_) if p != -1]\n",
    "    # Average cluster size\n",
    "    print(round(np.array(ln).mean(), 2), end=\"&\")\n",
    "    # Get percentiles of cluster sizes\n",
    "    for perc in [0, 25, 50, 75, 100]:\n",
    "        print(int(np.percentile(ln, perc)), end=\"&\")\n",
    "    print()\n",
    "\n",
    "for linkage in [\"average\", \"complete\", \"single\"]:\n",
    "    for dist in [100, 250, 500, 750, 1000]:\n",
    "        print(f\"{linkage}&{dist}&\", end=\"\")\n",
    "        analyse_clustering_info(AgglomerativeClustering(metric=\"precomputed\", n_clusters=None, linkage=linkage, distance_threshold=dist).fit(D))\n",
    "\n",
    "for eps in [50, 100, 250, 500, 750]:\n",
    "    for min_samples in [3, 5, 7, 9]:\n",
    "        print(f\"{eps}&{min_samples}&\", end=\"\")\n",
    "        analyse_clustering_info(DBSCAN(metric=\"precomputed\", eps=eps, min_samples=min_samples).fit(D))\n",
    " \n",
    "for eps in [0, 25, 50, 100, 250]:\n",
    "    for size in [3, 5, 7, 9]:\n",
    "        print(f\"{eps}&{size}&\", end=\"\")\n",
    "        analyse_clustering_info(HDBSCAN(metric=\"precomputed\", cluster_selection_epsilon=eps, min_cluster_size=size).fit(D))"
   ]
  },
  {
   "cell_type": "code",
   "execution_count": null,
   "metadata": {},
   "outputs": [],
   "source": [
    "# OPTICS reachability\n",
    "space = np.arange(len(D))\n",
    "reachability = clust.reachability_[clust.ordering_]\n",
    "labels = clust.labels_[clust.ordering_]\n",
    "\n",
    "_, ax = plt.subplots(figsize=(18, 6))\n",
    "for i in range(len(set(clust.labels_)) - 1):\n",
    "    ax.plot(space[i == labels], reachability[i == labels], \".\", alpha=0.3)\n",
    "    \n",
    "ax.plot(space[-1 == labels], reachability[-1 == labels], \"k.\", alpha=0.3)"
   ]
  },
  {
   "cell_type": "code",
   "execution_count": null,
   "metadata": {},
   "outputs": [],
   "source": [
    "print(\"Cluster of puzzles from OPTICS\")\n",
    "print([(p, clust.labels_[np.where(ids==p)[0]]) for p, *_ in custom_fens.items()])\n",
    "\n",
    "for p, f in custom_fens.items()::while\n",
    "    print(p, f)\n",
    "    idx = np.where(ids==p)[0]\n",
    "    this_cluster = np.nonzero(clust.labels_ == clust.labels_[idx])\n",
    "    for close_id in this_cluster[0]:\n",
    "        print(f\"{ids[close_id]}, {D[idx, close_id][0]}\")\n"
   ]
  },
  {
   "cell_type": "code",
   "execution_count": null,
   "metadata": {},
   "outputs": [],
   "source": [
    "from collections import Counter\n",
    "count = Counter()\n",
    "total = 0\n",
    "for c in set(clust.labels_) & {321}:\n",
    "\n",
    "    print(f\"label {c}\")\n",
    "    for pid in ids[np.where(clust.labels_==c)[0]]:\n",
    "        if pid in custom_fens:\n",
    "            continue\n",
    "        total += 1\n",
    "        count.update(lookup_id(pid).split()[2:])\n",
    "        print(lookup_id(pid))\n",
    "print(count)\n",
    "print(total)"
   ]
  },
  {
   "cell_type": "code",
   "execution_count": null,
   "metadata": {},
   "outputs": [],
   "source": [
    "for c in set(clust.labels_):\n",
    "    print(f\"label {c}\")\n",
    "    for pid in ids[np.where(clust.labels_==c)[0]][:15]:\n",
    "        if pid in custom_fens:\n",
    "            continue\n",
    "        print(lookup_id(pid))\n",
    "    print()"
   ]
  },
  {
   "cell_type": "code",
   "execution_count": null,
   "metadata": {},
   "outputs": [],
   "source": [
    "y5 = TSNE(metric=\"precomputed\", init=\"random\", random_state=0, perplexity=5).fit_transform(D)\n",
    "y10 = TSNE(metric=\"precomputed\", init=\"random\", random_state=0, perplexity=10).fit_transform(D)\n",
    "y25 = TSNE(metric=\"precomputed\", init=\"random\", random_state=0, perplexity=25).fit_transform(D)\n",
    "y50 = TSNE(metric=\"precomputed\", init=\"random\", random_state=0, perplexity=50).fit_transform(D)"
   ]
  },
  {
   "cell_type": "code",
   "execution_count": null,
   "metadata": {},
   "outputs": [],
   "source": [
    "#tsne = TSNE(metric=\"precomputed\", init=\"random\", random_state=0, perplexity=50)\n",
    "#y = TSNE(metric=\"precomputed\", init=\"random\", random_state=0, perplexity=25).fit_transform(D)\n",
    "\n",
    "\n",
    "colours = [\"r.\", \"g.\", \"b.\", \"c.\"]\n",
    "labels = [(p, clust.labels_[np.where(ids==p)[0]]) for p, *_ in custom_fens.items()]\n",
    "print(labels)\n",
    "\n",
    "_, ax = plt.subplots(figsize=(16, 12))\n",
    "\n",
    "# Plot -1 labels with faint crosses\n",
    "yc = y[clust.labels_ == -1]\n",
    "ax.plot(yc[:, 0], yc[:, 1], \"k.\", alpha=0.1)\n",
    "\n",
    "# Plot special colours, except -1\n",
    "for (p, c), col in zip(labels, colours):\n",
    "    if c == -1:\n",
    "        continue\n",
    "    yc = y[clust.labels_ == c]\n",
    "    ax.plot(yc[:, 0], yc[:, 1], col, label=f\"{c.item()}: Cluster of {p}\" )\n",
    "\n",
    "# Plot the rest\n",
    "for c in set(clust.labels_):\n",
    "    if c in list(zip(*labels))[1] or c == -1:\n",
    "        continue\n",
    "    yc = y[clust.labels_ == c]\n",
    "    ax.plot(yc[:, 0], yc[:, 1], \"x\", alpha=0.3)\n",
    "\n",
    "ax.legend()\n",
    "ax.set_title(\"HDBSCAN, cluster selection epsilon 100, minimum samples 7 (TSNE perplexity 25)\")\n",
    "plt.savefig(\"tsne.png\", dpi=250)\n",
    "plt.show()\n"
   ]
  },
  {
   "cell_type": "code",
   "execution_count": null,
   "metadata": {},
   "outputs": [],
   "source": [
    "# Find the k closest puzzles. Returns a priority queue with the k closest puzzles\n",
    "from collections import Counter\n",
    "from queue import PriorityQueue\n",
    "\n",
    "def knn(my_pid, k, train_trees):\n",
    "    if my_pid in trees:\n",
    "        _, my_tree = trees[my_pid]\n",
    "    else:\n",
    "        my_fen = df.loc[df[\"PuzzleId\"] == my_pid][\"FEN\"].item()\n",
    "        my_tree, _ = treeify_fen(my_fen)\n",
    "        my_tree = convert_to_adj_node_lists(my_tree)\n",
    "\n",
    "    q = PriorityQueue()\n",
    "    for pid, t in random.sample(list(train_trees.items()), 20000):\n",
    "        dist = compare(t, (None, my_tree))\n",
    "        if q.qsize() >= k:\n",
    "            q.get()\n",
    "        q.put((-dist, pid))\n",
    "    return q\n",
    "\n",
    "def ids_to_labels_and_diff(pids):\n",
    "    total = len(pids)\n",
    "    count = Counter()\n",
    "    total_elo = 0\n",
    "    for pid in pids:\n",
    "        themes = themes_elo_map[\"Themes\"][pid]\n",
    "        elo = themes_elo_map[\"Rating\"][pid]\n",
    "\n",
    "        count.update(themes)\n",
    "        total_elo += elo\n",
    "    return [k for k, v in count.most_common() if v > (total+1)//2], total_elo/total\n",
    "\n",
    "def eval_ids(pids, exp_label, exp_diff):\n",
    "    pred_labels, pred_diff = ids_to_labels_and_diff(pids)\n",
    "    \n",
    "    pl = set(pred_labels)\n",
    "    el = set(exp_label)\n",
    "\n",
    "    return len(pl-el) + len(el-pl), (pred_diff - exp_diff) ** 2\n",
    "\n",
    "def k_search(train_trees, val_pids, max_k =9):\n",
    "    print(\"Length of train:\", len(train_trees))\n",
    "    print(\"Length of val:\", len(val_pids))\n",
    "    k_losses = {}\n",
    "    \n",
    "    closests = {p: knn(p, max_k, train_trees).queue for p in tqdm(val_pids)}\n",
    "    \n",
    "    for k in tqdm(range(1, max_k+1)):\n",
    "        total_label_loss = 0\n",
    "        total_diff_loss = 0\n",
    "        for p in val_pids:\n",
    "            themes = themes_elo_map[\"Themes\"][p]\n",
    "            elo = themes_elo_map[\"Rating\"][p]\n",
    "\n",
    "            l_loss, d_loss = eval_ids([v for _, v in list(sorted(closests[p], reverse=True))[:k]], themes, elo)\n",
    "            total_label_loss += l_loss\n",
    "            total_diff_loss += d_loss\n",
    "        k_losses[k] = (total_label_loss/len(val_pids), total_diff_loss/len(val_pids))\n",
    "        \n",
    "    return k_losses\n"
   ]
  },
  {
   "cell_type": "code",
   "execution_count": null,
   "metadata": {},
   "outputs": [],
   "source": [
    "# Load training and validation dataframe ids\n",
    "training_ids = set()\n",
    "validation_ids = set()\n",
    "with open(\"../data/lichess/lichess_db_puzzle_train.csv\", \"r\") as f:\n",
    "    f.readline()\n",
    "    for l in f.readlines():\n",
    "        training_ids.add(l.split(\",\")[1])\n",
    "\n",
    "with open(\"../data/lichess/lichess_db_puzzle_val.csv\", \"r\") as f:\n",
    "    f.readline()\n",
    "    for l in f.readlines():\n",
    "        validation_ids.add(l.split(\",\")[1])"
   ]
  },
  {
   "cell_type": "code",
   "execution_count": null,
   "metadata": {},
   "outputs": [],
   "source": [
    "train_trees = {k: v for k, v in trees.items() if k in training_ids}\n",
    "val_trees = {k: v for k, v in trees.items() if k in validation_ids}"
   ]
  },
  {
   "cell_type": "code",
   "execution_count": null,
   "metadata": {},
   "outputs": [],
   "source": [
    "themes_elo_map = df.set_index(\"PuzzleId\").to_dict()\n",
    "for k, v in themes_elo_map[\"Themes\"].items():\n",
    "    themes_elo_map[\"Themes\"][k] = v.split()"
   ]
  },
  {
   "cell_type": "code",
   "execution_count": null,
   "metadata": {},
   "outputs": [],
   "source": [
    "ks = k_search(train_trees, random.sample(list(val_trees.keys()), 20000), max_k=100)\n",
    "print(ks)\n",
    "ks"
   ]
  },
  {
   "cell_type": "code",
   "execution_count": null,
   "metadata": {},
   "outputs": [],
   "source": [
    "ks = {1: (4.3286, 319206.093), 2: (2.9982, 244267.5313), 3: (3.0605, 218683.9309111054), 4: (2.8736, 208880.44124375), 5: (2.9168, 202880.35857199942), 6: (2.8261, 198739.36374721618), 7: (2.8618, 195666.02572857152), 8: (2.8071, 193846.1564375), 9: (2.8332, 193089.18837530568), 10: (2.8013, 191980.6131389995), 11: (2.8233, 190323.4060768571), 12: (2.8055, 189655.16333957756), 13: (2.8179, 189539.94520887535), 14: (2.8046, 189333.26373418357), 15: (2.8148, 189010.38377910998), 16: (2.8019, 189028.20962148436), 17: (2.8071, 188840.16485951658), 18: (2.8014, 188362.5044450593), 19: (2.8103, 188469.507974792), 20: (2.8051, 188665.01202925027), 21: (2.8063, 188621.3258136047), 22: (2.8034, 188353.55543016343), 23: (2.8134, 188401.9512381849), 24: (2.8011, 188582.90907325843), 25: (2.807, 188429.6637572794), 26: (2.8045, 188589.9226482247), 27: (2.8094, 188473.25617571935), 28: (2.807, 188617.65535663252), 29: (2.8112, 188484.46684090403), 30: (2.8132, 188822.77827088747), 31: (2.8224, 188707.93076410014), 32: (2.8177, 188956.91798974609), 33: (2.8253, 188998.8867660239), 34: (2.8236, 189116.72907724866), 35: (2.8299, 189218.23570261203), 36: (2.8228, 189249.6329107236), 37: (2.8323, 189415.52312220557), 38: (2.8319, 189551.17710006944), 39: (2.8375, 189650.23728027576), 40: (2.8346, 189820.65227743765), 41: (2.8391, 190081.18918465203), 42: (2.8324, 190223.2194064615), 43: (2.8411, 190295.86618171952), 44: (2.8402, 190452.6701664246), 45: (2.8454, 190459.91636775207), 46: (2.8438, 190537.59436862002), 47: (2.8514, 190655.87261190522), 48: (2.8484, 190702.13030680915), 49: (2.8564, 190708.20729825014), 50: (2.8534, 190882.1833818007), 51: (2.8578, 190877.82045336376), 52: (2.8591, 190822.4421423081), 53: (2.8587, 190864.07393022432), 54: (2.864, 190861.44459217959), 55: (2.8671, 190890.70963996678), 56: (2.8714, 190976.50292684857), 57: (2.871, 191118.63040932617), 58: (2.875, 191206.44187865706), 59: (2.8779, 191286.4940272628), 60: (2.8795, 191357.43126183152), 61: (2.8817, 191319.4419095132), 62: (2.8835, 191342.93899102526), 63: (2.884, 191416.3632308643), 64: (2.8855, 191474.03752438966), 65: (2.8888, 191581.23214790563), 66: (2.8908, 191583.75006163787), 67: (2.8919, 191622.63383018397), 68: (2.894, 191726.29896671747), 69: (2.8974, 191679.58251461748), 70: (2.8995, 191697.05789220345), 71: (2.902, 191776.25690559405), 72: (2.9035, 191796.95878074554), 73: (2.9034, 191889.12536689817), 74: (2.9044, 191911.8217025565), 75: (2.9067, 192040.10218595518), 76: (2.9089, 192237.74321604858), 77: (2.9144, 192338.1140219938), 78: (2.9137, 192511.300185914), 79: (2.9143, 192526.9563700055), 80: (2.914, 192515.16443753167), 81: (2.9153, 192542.12333545176), 82: (2.9146, 192633.07690989008), 83: (2.9169, 192661.0202734066), 84: (2.9203, 192772.5047174458), 85: (2.9235, 192793.88778358456), 86: (2.9265, 192880.67549172544), 87: (2.923, 193019.32889427914), 88: (2.9276, 193089.36358225546), 89: (2.9277, 193137.3895553716), 90: (2.9337, 193153.3965285802), 91: (2.9324, 193195.78740853808), 92: (2.9317, 193252.77802830804), 93: (2.9335, 193291.01171755017), 94: (2.9353, 193268.28919019902), 95: (2.9378, 193359.27298212756), 96: (2.9391, 193422.8179359872), 97: (2.9368, 193441.22982668784), 98: (2.9365, 193470.6569294771), 99: (2.939, 193541.92404396483), 100: (2.9372, 193567.30777679037) }\n",
    "\n",
    "plt.style.use(\"seaborn-v0_8-deep\")\n",
    "colors = plt.rcParams['axes.prop_cycle'].by_key()['color']\n",
    "\n",
    "l = [(x, ks[x][0]) for x in range(1, 101)]\n",
    "d = [(x, ks[x][1]) for x in range(1, 101)]\n",
    "\n",
    "col = colors[0]\n",
    "_, ax = plt.subplots(figsize=(12, 9))\n",
    "ax.set_xlabel(\"$k$, size of neighbourhood\")\n",
    "ax.set_ylabel(\"Average count of incorrect predicted labels\", color=col)\n",
    "ax.scatter(*zip(*l), color=col)\n",
    "ax.tick_params(axis=\"y\", labelcolor=col)\n",
    "\n",
    "col = colors[1]\n",
    "ax2 = ax.twinx() \n",
    "ax2.set_ylabel(\"Average Mean Squared Error of predicted difficulty rating\", color=col)\n",
    "ax2.scatter(*zip(*d), color=col)\n",
    "ax2.tick_params(axis=\"y\", labelcolor=col)\n",
    "\n",
    "ax.set_title(\"$k$-Nearest Neighbours hyperparameter search\")\n",
    "\n",
    "plt.show()\n",
    "plt.savefig(\"../report/project/img/knn.png\", dpi=250, bbox_inches=\"tight\")"
   ]
  }
 ],
 "metadata": {
  "kernelspec": {
   "display_name": "venv",
   "language": "python",
   "name": "python3"
  },
  "language_info": {
   "codemirror_mode": {
    "name": "ipython",
    "version": 3
   },
   "file_extension": ".py",
   "mimetype": "text/x-python",
   "name": "python",
   "nbconvert_exporter": "python",
   "pygments_lexer": "ipython3",
   "version": "3.12.3"
  }
 },
 "nbformat": 4,
 "nbformat_minor": 2
}
