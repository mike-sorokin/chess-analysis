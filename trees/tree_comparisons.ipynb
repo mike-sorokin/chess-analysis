{
 "cells": [
  {
   "cell_type": "code",
   "execution_count": null,
   "metadata": {},
   "outputs": [],
   "source": [
    "import json\n",
    "import chess\n",
    "import zss\n",
    "from tqdm import tqdm\n",
    "import pickle\n",
    "import random\n",
    "from sklearn.cluster import OPTICS, cluster_optics_dbscan\n",
    "from sklearn.manifold import TSNE\n",
    "import numpy as np\n",
    "import matplotlib.pyplot as plt\n",
    "from main import ChessTreeNode, expand_tree"
   ]
  },
  {
   "cell_type": "code",
   "execution_count": null,
   "metadata": {},
   "outputs": [],
   "source": [
    "trees = {}\n",
    "with open(\"all_trees\", \"r\") as f:\n",
    "    for idx, line in enumerate(tqdm(f.readlines())):\n",
    "        puzzle_id, tree = json.loads(line)\n",
    "        if len(tree) == 0:\n",
    "            continue\n",
    "        trees[puzzle_id] = ChessTreeNode(*tree[0])\n",
    "\n",
    "    with open(\"tree_dict.pkl\", \"wb\") as f:\n",
    "        pickle.dump(trees, f)"
   ]
  },
  {
   "cell_type": "code",
   "execution_count": null,
   "metadata": {},
   "outputs": [],
   "source": [
    "def compare(t1, t2):\n",
    "    return zss.simple_distance(t1, t2, ChessTreeNode.get_children, ChessTreeNode.get_label, ChessTreeNode.compare)\n",
    "\n",
    "def treeify_fen(fen):\n",
    "    board = chess.Board(fen)\n",
    "    if board.turn == chess.BLACK:\n",
    "        board.apply_mirror()\n",
    "\n",
    "    stockfish = chess.engine.SimpleEngine.popen_uci(\"./stockfish\", timeout=None)\n",
    "    try:\n",
    "        return ChessTreeNode(*expand_tree(board.fen(), chess.Move.null(), stockfish)[0])\n",
    "    finally:\n",
    "        stockfish.quit()"
   ]
  },
  {
   "cell_type": "code",
   "execution_count": null,
   "metadata": {},
   "outputs": [],
   "source": [
    "with open(\"tree_dict_short.pkl\", \"rb\") as f:\n",
    "    trees = pickle.load(f)"
   ]
  },
  {
   "cell_type": "code",
   "execution_count": null,
   "metadata": {},
   "outputs": [],
   "source": [
    "np.random.seed(0)\n",
    "ids = np.random.choice(list(trees.keys()), 50)\n",
    "\n",
    "ids = np.append(ids, \"my_puzzle\")\n",
    "my_fen = \"2r4k/p2Q2pp/1p6/2qp1NP1/4p2P/1P6/PP3P2/1K5R b - - 1 33\"\n",
    "\n",
    "flipped = False\n",
    "b = chess.Board(my_fen)\n",
    "if b.turn == chess.BLACK:\n",
    "    b.apply_mirror()\n",
    "    flipped = True\n",
    "\n",
    "stockfish = chess.engine.SimpleEngine.popen_uci(\"./stockfish\", timeout=None)\n",
    "trees[\"my_puzzle\"] = ChessTreeNode(*expand_tree(b.fen(), chess.Move.null(), stockfish)[0])\n",
    "stockfish.quit()\n",
    "print(trees[\"my_puzzle\"].flip_san(flipped))"
   ]
  },
  {
   "cell_type": "code",
   "execution_count": null,
   "metadata": {},
   "outputs": [],
   "source": [
    "optics = OPTICS(metric=\"precomputed\")\n",
    "tsne = TSNE(metric=\"precomputed\", init=\"random\", random_state=0)\n",
    "\n",
    "N = len(ids)\n",
    "# Generate distance matrix. It's symmetric, so use that to halve running time.\n",
    "d = np.zeros((N, N))\n",
    "for i in range(N):\n",
    "    for j in range(i):\n",
    "        d[i,j] = compare(trees[ids[i]], trees[ids[j]])\n",
    "d = d + d.T\n"
   ]
  },
  {
   "cell_type": "code",
   "execution_count": null,
   "metadata": {},
   "outputs": [],
   "source": [
    "clust = optics.fit(d)"
   ]
  },
  {
   "cell_type": "code",
   "execution_count": null,
   "metadata": {},
   "outputs": [],
   "source": [
    "y = tsne.fit_transform(d)"
   ]
  },
  {
   "cell_type": "code",
   "execution_count": null,
   "metadata": {},
   "outputs": [],
   "source": [
    "colours = [\"r.\", \"g.\", \"b.\"]\n",
    "labels = [clust.labels_[np.where(ids==p)[0]] for p in [\"my_puzzle\"]]\n",
    "\n",
    "_, ax = plt.subplots()\n",
    "for c, col in zip(labels, colours):\n",
    "    yc = y[clust.labels_ == c]\n",
    "    ax.plot(yc[:, 0], yc[:, 1], col)\n",
    "\n",
    "for c in set(clust.labels_):\n",
    "    if c in labels:\n",
    "        continue\n",
    "    yc = y[clust.labels_ == c]\n",
    "    ax.plot(yc[:, 0], yc[:, 1], \"k.\")\n"
   ]
  },
  {
   "cell_type": "code",
   "execution_count": null,
   "metadata": {},
   "outputs": [],
   "source": []
  }
 ],
 "metadata": {
  "kernelspec": {
   "display_name": "venv",
   "language": "python",
   "name": "python3"
  },
  "language_info": {
   "codemirror_mode": {
    "name": "ipython",
    "version": 3
   },
   "file_extension": ".py",
   "mimetype": "text/x-python",
   "name": "python",
   "nbconvert_exporter": "python",
   "pygments_lexer": "ipython3",
   "version": "3.12.3"
  }
 },
 "nbformat": 4,
 "nbformat_minor": 2
}
