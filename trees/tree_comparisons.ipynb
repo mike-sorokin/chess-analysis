{
 "cells": [
  {
   "cell_type": "code",
   "execution_count": null,
   "metadata": {},
   "outputs": [],
   "source": [
    "import json\n",
    "import chess\n",
    "import zss\n",
    "import tqdm\n",
    "import pickle\n",
    "from main import ChessTreeNode"
   ]
  },
  {
   "cell_type": "code",
   "execution_count": null,
   "metadata": {},
   "outputs": [],
   "source": [
    "trees = {}\n",
    "with open(\"all_trees\", \"r\") as f:\n",
    "    for idx, line in enumerate(tqdm.tqdm(f.readlines())):\n",
    "        puzzle_id, tree = json.loads(line)\n",
    "        if len(tree) == 0:\n",
    "            continue\n",
    "        trees[puzzle_id] = ChessTreeNode(*tree[0])\n",
    "        if idx % 100000 == 0:\n",
    "            with open(\"tree_dict.pkl\", \"wb\") as f:\n",
    "                pickle.dump(trees, f)\n",
    "\n",
    "    with open(\"tree_dict.pkl\", \"wb\") as f:\n",
    "        pickle.dump(trees, f)\n",
    "\n"
   ]
  },
  {
   "cell_type": "code",
   "execution_count": null,
   "metadata": {},
   "outputs": [],
   "source": [
    "line = r'[\"00Aq4\", [[[\"2k3nr/pppr4/3p3p/5p2/3b2pP/3B2B1/PPPN1PP1/2K1R3 w - - 0 1\", \"e1e8\"], [[[\"2k1R1nr/pppr4/3p3p/5p2/3b2pP/3B2B1/PPPN1PP1/2K5 b - - 1 1\", \"d7d8\"], [[[\"2krR1nr/ppp5/3p3p/5p2/3b2pP/3B2B1/PPPN1PP1/2K5 w - - 2 2\", \"d3f5\"], [[[\"2krR1nr/ppp5/3p3p/5B2/3b2pP/6B1/PPPN1PP1/2K5 b - - 0 2\", \"c8b8\"], [[[\"1k1rR1nr/ppp5/3p3p/5B2/3b2pP/6B1/PPPN1PP1/2K5 w - - 1 3\", \"e8d8\"], []]]]]]]]]]]] '\n",
    "\n",
    "want_tree = ChessTreeNode(*json.loads(line)[1][0])\n",
    "def compare(t1, t2):\n",
    "    return zss.simple_distance(t1, t2, ChessTreeNode.get_children, ChessTreeNode.get_label, ChessTreeNode.compare)"
   ]
  },
  {
   "cell_type": "code",
   "execution_count": null,
   "metadata": {},
   "outputs": [],
   "source": []
  }
 ],
 "metadata": {
  "kernelspec": {
   "display_name": "venv",
   "language": "python",
   "name": "python3"
  },
  "language_info": {
   "codemirror_mode": {
    "name": "ipython",
    "version": 3
   },
   "file_extension": ".py",
   "mimetype": "text/x-python",
   "name": "python",
   "nbconvert_exporter": "python",
   "pygments_lexer": "ipython3",
   "version": "3.12.3"
  }
 },
 "nbformat": 4,
 "nbformat_minor": 2
}
