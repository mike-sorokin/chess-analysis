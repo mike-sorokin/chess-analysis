{
 "cells": [
  {
   "cell_type": "code",
   "execution_count": 1,
   "metadata": {},
   "outputs": [],
   "source": [
    "import json\n",
    "import chess\n",
    "import zss\n",
    "from tqdm import tqdm\n",
    "import pickle\n",
    "from main import ChessTreeNode, expand_tree"
   ]
  },
  {
   "cell_type": "code",
   "execution_count": 2,
   "metadata": {},
   "outputs": [
    {
     "name": "stderr",
     "output_type": "stream",
     "text": [
      "100%|██████████| 3774123/3774123 [1:41:23<00:00, 620.35it/s]   \n"
     ]
    }
   ],
   "source": [
    "trees = {}\n",
    "with open(\"all_trees\", \"r\") as f:\n",
    "    for idx, line in enumerate(tqdm(f.readlines())):\n",
    "        puzzle_id, tree = json.loads(line)\n",
    "        if len(tree) == 0:\n",
    "            continue\n",
    "        trees[puzzle_id] = ChessTreeNode(*tree[0])\n",
    "\n",
    "    with open(\"tree_dict.pkl\", \"wb\") as f:\n",
    "        pickle.dump(trees, f)"
   ]
  },
  {
   "cell_type": "code",
   "execution_count": 2,
   "metadata": {},
   "outputs": [],
   "source": [
    "def compare(t1, t2):\n",
    "    return zss.simple_distance(t1, t2, ChessTreeNode.get_children, ChessTreeNode.get_label, ChessTreeNode.compare)\n",
    "\n",
    "def treeify_fen(fen):\n",
    "    board = chess.Board(fen)\n",
    "    if board.turn == chess.BLACK:\n",
    "        board.apply_mirror()\n",
    "\n",
    "    stockfish = chess.engine.SimpleEngine.popen_uci(\"./stockfish\", timeout=None)\n",
    "    try:\n",
    "        return ChessTreeNode(*expand_tree(board.fen(), chess.Move.null(), stockfish, True)[0])\n",
    "    finally:\n",
    "        stockfish.quit()"
   ]
  },
  {
   "cell_type": "code",
   "execution_count": 3,
   "metadata": {},
   "outputs": [
    {
     "name": "stdout",
     "output_type": "stream",
     "text": [
      "Rd1+ 1/0/0/1\n",
      "  Kh7 0/2/0/0\n",
      "    Nf8+ 1/0/1/1\n",
      "      Rxf8 1/1/1/0\n",
      "        Rxf8 1/0/0/0\n",
      "      Kg8 1/2/0/0\n",
      "        Ng6+ 1/0/1/0\n",
      "          Kh7 1/2/0/0\n",
      "        Nd7+ 2/0/2/1\n",
      "          Kh7 0/2/0/0\n",
      "        Ne6+ 2/1/0/0\n",
      "          Kh7 0/2/0/0\n",
      "      Kh8 0/1/0/0\n",
      "        Nd7+ 2/0/2/1\n",
      "          Kh7 0/2/0/0\n",
      "        Ng6+ 2/0/1/0\n",
      "          Kh7 1/2/0/0\n",
      "\n"
     ]
    }
   ],
   "source": [
    "print(treeify_fen(\"3r4/1p2ppkp/p5p1/4P3/4NP2/1P2n2P/P1P2RP1/7K b - - 1 27\").flip_san())"
   ]
  },
  {
   "cell_type": "code",
   "execution_count": null,
   "metadata": {},
   "outputs": [],
   "source": []
  }
 ],
 "metadata": {
  "kernelspec": {
   "display_name": "venv",
   "language": "python",
   "name": "python3"
  },
  "language_info": {
   "codemirror_mode": {
    "name": "ipython",
    "version": 3
   },
   "file_extension": ".py",
   "mimetype": "text/x-python",
   "name": "python",
   "nbconvert_exporter": "python",
   "pygments_lexer": "ipython3",
   "version": "3.12.3"
  }
 },
 "nbformat": 4,
 "nbformat_minor": 2
}
