{
 "cells": [
  {
   "cell_type": "code",
   "execution_count": null,
   "metadata": {},
   "outputs": [],
   "source": [
    "from edist.multiprocess import pairwise_distances_symmetric\n",
    "from edist.uted import uted\n",
    "from importlib import reload\n",
    "from sklearn.cluster import OPTICS, cluster_optics_dbscan, DBSCAN, HDBSCAN\n",
    "from sklearn.manifold import TSNE\n",
    "from tqdm import tqdm\n",
    "import chess\n",
    "import json\n",
    "import main\n",
    "import matplotlib.pyplot as plt\n",
    "import numpy as np\n",
    "import itertools\n",
    "import os\n",
    "import pandas as pd\n",
    "import pickle\n",
    "import random\n",
    "import zss\n",
    "reload(main)\n",
    "from main import ChessTreeNode, expand_tree"
   ]
  },
  {
   "cell_type": "code",
   "execution_count": null,
   "metadata": {},
   "outputs": [],
   "source": [
    "# Download and unzip stockfish\n",
    "if not os.path.exists(\"stockfish\"):\n",
    "    !wget https://github.com/official-stockfish/Stockfish/releases/latest/download/stockfish-ubuntu-x86-64-avx2.tar\n",
    "    !tar -xf stockfish-ubuntu-x86-64-avx2.tar"
   ]
  },
  {
   "cell_type": "code",
   "execution_count": null,
   "metadata": {},
   "outputs": [],
   "source": [
    "def convert_to_adj_node_lists(t):\n",
    "    # First we label each node with an integer\n",
    "    counter = itertools.count()\n",
    "    idxs = {}\n",
    "    stack = [t]\n",
    "    all_nodes = []\n",
    "    while stack:\n",
    "        n = stack.pop()\n",
    "        all_nodes.append(n)\n",
    "        idxs[id(n)] = next(counter)\n",
    "        for c in reversed(n.children):\n",
    "            stack.append(c)\n",
    "            \n",
    "    nodes = [None for _ in idxs]\n",
    "    adj = [None for _ in idxs]\n",
    "\n",
    "    for n in all_nodes:\n",
    "        nodes[idxs[id(n)]] = n.move_attributes\n",
    "        adj[idxs[id(n)]] = [idxs[id(c)] for c in n.children]\n",
    "\n",
    "    return nodes, adj"
   ]
  },
  {
   "cell_type": "code",
   "execution_count": null,
   "metadata": {},
   "outputs": [],
   "source": [
    "# Read `all_trees`, parse to ChessTreeNode, and load to memory.\n",
    "trees = {}\n",
    "with open(\"../data/trees/condor/all\", \"r\") as f:\n",
    "    for idx, line in enumerate(tqdm(f.readlines())):\n",
    "        try:\n",
    "            puzzle_id, tree = json.loads(line)\n",
    "        except Exception: # lol\n",
    "            continue\n",
    "        if len(tree) == 0:\n",
    "            continue\n",
    "\n",
    "        t = ChessTreeNode(*tree[0])\n",
    "        trees[puzzle_id] = (t, convert_to_adj_node_lists(t))\n",
    "    with open(\"tree_dict.pkl\", \"wb\") as f:\n",
    "        pickle.dump(trees, f)"
   ]
  },
  {
   "cell_type": "code",
   "execution_count": null,
   "metadata": {},
   "outputs": [],
   "source": [
    "def compare(t1, t2):\n",
    "    #return zss.simple_distance(t1, t2, ChessTreeNode.get_children, ChessTreeNode.get_label, ChessTreeNode.compare)\n",
    "    _, (x_nodes, x_adj) = t1\n",
    "    _, (y_nodes, y_adj) = t2\n",
    "    return uted(x_nodes, x_adj, y_nodes, y_adj, ChessTreeNode.compare)\n",
    "\n",
    "def treeify_fen(fen):\n",
    "    flipped = False\n",
    "    board = chess.Board(fen)\n",
    "    if board.turn == chess.BLACK:\n",
    "        flipped = True\n",
    "        board.apply_mirror()\n",
    "\n",
    "    stockfish = chess.engine.SimpleEngine.popen_uci(\"./stockfish/stockfish-ubuntu-x86-64-avx2\", timeout=None)\n",
    "    try:\n",
    "        return ChessTreeNode(*expand_tree(board.fen(), chess.Move.null(), stockfish)[0]), flipped\n",
    "    finally:\n",
    "        stockfish.quit()\n",
    "        \n",
    "df = pd.read_csv(\"../data/lichess/lichess_db_puzzle.csv\")\n",
    "def lookup_id(puzzle_id):\n",
    "    matched = df.loc[df[\"PuzzleId\"] == puzzle_id]\n",
    "    return f\"{puzzle_id} {matched['GameUrl'].item()} {matched['Themes'].item()}\"\n",
    "    "
   ]
  },
  {
   "cell_type": "code",
   "execution_count": null,
   "metadata": {},
   "outputs": [],
   "source": [
    "with open(\"tree_dict.pkl\", \"rb\") as f:\n",
    "    trees = pickle.load(f)"
   ]
  },
  {
   "cell_type": "code",
   "execution_count": null,
   "metadata": {},
   "outputs": [],
   "source": [
    "custom_fens = {\n",
    "    \"backrank M1 N5uON https://lichess.org/UVbVId2k#52\": \"2krr3/1p3ppp/RP3n2/2NP1b2/1RP2B2/3p4/5PPP/6K1 b - - 0 27\",\n",
    "    \"N fork RK 4BY3Z https://lichess.org/ed0T8UXV#96\": \"8/1N6/1K6/4k1p1/2P1Pp1p/4n2P/3R2P1/8 b - - 0 49\",\n",
    "    \"Greek gift yv6lb https://lichess.org/utt3XQm1/black#19\": \"r1bq1rk1/pp2nppp/1bn1p3/1N1pP3/1P6/P2B1N2/2P2PPP/R1BQK2R w KQ - 3 11\"\n",
    "}\n",
    "custom_flipped = {}\n",
    "for my_id, my_fen in custom_fens.items():\n",
    "    t, flip = treeify_fen(my_fen)\n",
    "    trees[my_id] = (t, convert_to_adj_node_lists(t))\n",
    "    custom_flipped[my_id] = flip\n",
    "    print(\"=\"*50)\n",
    "    print(my_id)\n",
    "    print(my_fen)\n",
    "    print(t.flip_san(flip))\n",
    "    print(\"=\"*50)"
   ]
  },
  {
   "cell_type": "code",
   "execution_count": null,
   "metadata": {},
   "outputs": [],
   "source": [
    "# Find a the top 5 best puzzles for these fens\n",
    "for my_id, my_fen in custom_fens.items():\n",
    "    print(\"=\"*50)\n",
    "    print(my_id)\n",
    "    print(my_fen)\n",
    "    print(\"=\"*50)\n",
    "    my_tree = trees[my_id]\n",
    "    distances = []\n",
    "    for pid, t in tqdm(list(trees.items())[:10000], leave=False):\n",
    "        if pid in custom_fens:\n",
    "            continue\n",
    "        distances.append((compare(t, my_tree), pid, t))\n",
    "    distances.sort()\n",
    "\n",
    "    for dist, pid, t in distances[:5]:\n",
    "        print(f\"(dist: {dist}) {lookup_id(pid)}\")\n",
    "        #print(t)\n",
    "        print(\"-\"*50)"
   ]
  },
  {
   "cell_type": "code",
   "execution_count": null,
   "metadata": {},
   "outputs": [],
   "source": [
    "np.random.seed(0)\n",
    "ids = np.random.choice([k for k, _ in trees.items() if k not in custom_fens], 10000)\n",
    "ids = np.concatenate((ids, list(custom_fens.keys())))\n",
    "trees_short = [trees[k] for k in ids]"
   ]
  },
  {
   "cell_type": "code",
   "execution_count": null,
   "metadata": {},
   "outputs": [],
   "source": [
    "D = pairwise_distances_symmetric(trees_short, compare)"
   ]
  },
  {
   "cell_type": "code",
   "execution_count": null,
   "metadata": {},
   "outputs": [],
   "source": [
    "#optics = DBSCAN(metric=\"precomputed\", eps=250, min_samples=20)\n",
    "optics = HDBSCAN(metric=\"precomputed\")\n",
    "clust = optics.fit(D)\n",
    "print(len(set(clust.labels_)))\n",
    "print(set(clust.labels_))"
   ]
  },
  {
   "cell_type": "code",
   "execution_count": null,
   "metadata": {},
   "outputs": [],
   "source": [
    "# OPTICS reachability\n",
    "space = np.arange(len(D))\n",
    "reachability = clust.reachability_[clust.ordering_]\n",
    "labels = clust.labels_[clust.ordering_]\n",
    "\n",
    "_, ax = plt.subplots(figsize=(18, 6))\n",
    "for i in range(len(set(clust.labels_)) - 1):\n",
    "    ax.plot(space[i == labels], reachability[i == labels], \".\", alpha=0.3)\n",
    "    \n",
    "ax.plot(space[-1 == labels], reachability[-1 == labels], \"k.\", alpha=0.3)\n",
    "\n",
    "    "
   ]
  },
  {
   "cell_type": "code",
   "execution_count": null,
   "metadata": {},
   "outputs": [],
   "source": [
    "print(\"Cluster of puzzles from OPTICS\")\n",
    "print([(p, clust.labels_[np.where(ids==p)[0]]) for p, *_ in custom_fens.items()])\n",
    "\n",
    "for p, f in custom_fens.items():\n",
    "    print(p, f)\n",
    "    idx = np.where(ids==p)[0]\n",
    "    this_cluster = np.nonzero(clust.labels_ == clust.labels_[idx])\n",
    "    for close_id in this_cluster[0]:\n",
    "        print(f\"{ids[close_id]}, {D[idx, close_id][0]}\")\n"
   ]
  },
  {
   "cell_type": "code",
   "execution_count": null,
   "metadata": {},
   "outputs": [],
   "source": [
    "for c in set(clust.labels_):\n",
    "    print(f\"label {c}\")\n",
    "    for pid in ids[np.where(clust.labels_==c)[0]][:7]:\n",
    "        if pid in custom_fens:\n",
    "            continue\n",
    "        print(lookup_id(pid))\n",
    "    print()"
   ]
  },
  {
   "cell_type": "code",
   "execution_count": null,
   "metadata": {},
   "outputs": [],
   "source": [
    "tsne = TSNE(metric=\"precomputed\", init=\"random\", random_state=0, perplexity=20)\n",
    "y = tsne.fit_transform(D)\n",
    "\n",
    "colours = [\"r.\", \"g.\", \"b.\", \"c.\"]\n",
    "labels = [(p, clust.labels_[np.where(ids==p)[0]]) for p, *_ in custom_fens.items()]\n",
    "print(labels)\n",
    "\n",
    "_, ax = plt.subplots(figsize=(16, 12))\n",
    "\n",
    "# Plot -1 labels with faint crosses\n",
    "yc = y[clust.labels_ == -1]\n",
    "ax.plot(yc[:, 0], yc[:, 1], \"k.\", alpha=0.1)\n",
    "\n",
    "# Plot special colours, except -1\n",
    "for (p, c), col in zip(labels, colours):\n",
    "    if c == -1:\n",
    "        continue\n",
    "    yc = y[clust.labels_ == c]\n",
    "    ax.plot(yc[:, 0], yc[:, 1], col, label=f\"{c}: Similar to {p}\" )\n",
    "\n",
    "# Plot the rest\n",
    "for c in set(clust.labels_):\n",
    "    if c in list(zip(*labels))[1] or c == -1:\n",
    "        continue\n",
    "    yc = y[clust.labels_ == c]\n",
    "    ax.plot(yc[:, 0], yc[:, 1], \"x\", alpha=0.3)\n",
    "\n",
    "ax.legend()\n"
   ]
  }
 ],
 "metadata": {
  "kernelspec": {
   "display_name": "venv",
   "language": "python",
   "name": "python3"
  },
  "language_info": {
   "codemirror_mode": {
    "name": "ipython",
    "version": 3
   },
   "file_extension": ".py",
   "mimetype": "text/x-python",
   "name": "python",
   "nbconvert_exporter": "python",
   "pygments_lexer": "ipython3",
   "version": "3.12.3"
  }
 },
 "nbformat": 4,
 "nbformat_minor": 2
}
