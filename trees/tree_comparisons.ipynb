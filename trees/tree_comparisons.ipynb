{
 "cells": [
  {
   "cell_type": "code",
   "execution_count": null,
   "metadata": {},
   "outputs": [],
   "source": [
    "import json\n",
    "import chess\n",
    "import zss\n",
    "from tqdm import tqdm\n",
    "import pickle\n",
    "from main import ChessTreeNode, expand_tree"
   ]
  },
  {
   "cell_type": "code",
   "execution_count": null,
   "metadata": {},
   "outputs": [],
   "source": [
    "trees = {}\n",
    "with open(\"all_trees\", \"r\") as f:\n",
    "    for idx, line in enumerate(tqdm(f.readlines())):\n",
    "        puzzle_id, tree = json.loads(line)\n",
    "        if len(tree) == 0:\n",
    "            continue\n",
    "        trees[puzzle_id] = ChessTreeNode(*tree[0])\n",
    "\n",
    "    with open(\"tree_dict.pkl\", \"wb\") as f:\n",
    "        pickle.dump(trees, f)"
   ]
  },
  {
   "cell_type": "code",
   "execution_count": null,
   "metadata": {},
   "outputs": [],
   "source": [
    "def compare(t1, t2):\n",
    "    return zss.simple_distance(t1, t2, ChessTreeNode.get_children, ChessTreeNode.get_label, ChessTreeNode.compare)\n",
    "\n",
    "def treeify_fen(fen):\n",
    "    board = chess.Board(fen)\n",
    "    if board.turn == chess.BLACK:\n",
    "        board.apply_mirror()\n",
    "\n",
    "    stockfish = chess.engine.SimpleEngine.popen_uci(\"./stockfish\", timeout=None)\n",
    "    try:\n",
    "        return ChessTreeNode(*expand_tree(board.fen(), chess.Move.null(), stockfish)[0])\n",
    "    finally:\n",
    "        stockfish.quit()"
   ]
  },
  {
   "cell_type": "code",
   "execution_count": null,
   "metadata": {},
   "outputs": [],
   "source": [
    "print(treeify_fen(\"r3k2r/p4pbp/n1p1b1p1/1B4B1/8/5P2/PPP2P1P/3RK2R w Kkq - 0 14\"))"
   ]
  },
  {
   "cell_type": "code",
   "execution_count": null,
   "metadata": {},
   "outputs": [],
   "source": []
  }
 ],
 "metadata": {
  "kernelspec": {
   "display_name": "venv",
   "language": "python",
   "name": "python3"
  },
  "language_info": {
   "codemirror_mode": {
    "name": "ipython",
    "version": 3
   },
   "file_extension": ".py",
   "mimetype": "text/x-python",
   "name": "python",
   "nbconvert_exporter": "python",
   "pygments_lexer": "ipython3",
   "version": "3.12.3"
  }
 },
 "nbformat": 4,
 "nbformat_minor": 2
}
