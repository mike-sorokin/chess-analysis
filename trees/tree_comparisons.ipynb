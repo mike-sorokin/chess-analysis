{
 "cells": [
  {
   "cell_type": "code",
   "execution_count": null,
   "metadata": {},
   "outputs": [],
   "source": [
    "import json\n",
    "import chess\n",
    "import zss\n",
    "from tqdm import tqdm\n",
    "import pickle\n",
    "import random\n",
    "from sklearn.cluster import OPTICS, cluster_optics_dbscan\n",
    "from sklearn.manifold import TSNE\n",
    "import numpy as np\n",
    "import matplotlib.pyplot as plt\n",
    "from main import ChessTreeNode, expand_tree"
   ]
  },
  {
   "cell_type": "code",
   "execution_count": null,
   "metadata": {},
   "outputs": [],
   "source": [
    "trees = {}\n",
    "with open(\"all_trees\", \"r\") as f:\n",
    "    for idx, line in enumerate(tqdm(f.readlines())):\n",
    "        puzzle_id, tree = json.loads(line)\n",
    "        if len(tree) == 0:\n",
    "            continue\n",
    "        trees[puzzle_id] = ChessTreeNode(*tree[0])\n",
    "\n",
    "    with open(\"tree_dict.pkl\", \"wb\") as f:\n",
    "        pickle.dump(trees, f)"
   ]
  },
  {
   "cell_type": "code",
   "execution_count": null,
   "metadata": {},
   "outputs": [],
   "source": [
    "def compare(t1, t2):\n",
    "    return zss.simple_distance(t1, t2, ChessTreeNode.get_children, ChessTreeNode.get_label, ChessTreeNode.compare)\n",
    "\n",
    "def treeify_fen(fen):\n",
    "    board = chess.Board(fen)\n",
    "    if board.turn == chess.BLACK:\n",
    "        board.apply_mirror()\n",
    "\n",
    "    stockfish = chess.engine.SimpleEngine.popen_uci(\"./stockfish\", timeout=None)\n",
    "    try:\n",
    "        return ChessTreeNode(*expand_tree(board.fen(), chess.Move.null(), stockfish)[0])\n",
    "    finally:\n",
    "        stockfish.quit()"
   ]
  },
  {
   "cell_type": "code",
   "execution_count": null,
   "metadata": {},
   "outputs": [],
   "source": [
    "with open(\"tree_dict_short.pkl\", \"rb\") as f:\n",
    "    trees = pickle.load(f)"
   ]
  },
  {
   "cell_type": "code",
   "execution_count": null,
   "metadata": {},
   "outputs": [],
   "source": [
    "np.random.seed(0)\n",
    "ids = np.random.choice(list(trees.keys()), 400)\n",
    "\n",
    "custom_fens = {\n",
    "    \"backrank\": \"2r4k/p2Q2pp/1p6/2qp1NP1/4p2P/1P6/PP3P2/1K5R b - - 1 33\"\n",
    "}\n",
    "\n",
    "for my_id, my_fen in custom_fens.items():\n",
    "    ids = np.append(ids, my_id)\n",
    "\n",
    "    flipped = False\n",
    "    b = chess.Board(my_fen)\n",
    "    if b.turn == chess.BLACK:\n",
    "        b.apply_mirror()\n",
    "        flipped = True\n",
    "\n",
    "    stockfish = chess.engine.SimpleEngine.popen_uci(\"./stockfish\", timeout=None)\n",
    "    trees[my_id] = ChessTreeNode(*expand_tree(b.fen(), chess.Move.null(), stockfish)[0])\n",
    "    stockfish.quit()\n",
    "    print(my_id)\n",
    "    print(my_fen)\n",
    "    print(trees[my_id].flip_san(flipped))"
   ]
  },
  {
   "cell_type": "code",
   "execution_count": null,
   "metadata": {},
   "outputs": [],
   "source": [
    "N = len(ids)\n",
    "# Generate distance matrix. It's symmetric, so use that to halve running time.\n",
    "d = np.zeros((N, N))\n",
    "with tqdm(total=N*(N+1)//2) as pbar:\n",
    "    for i in tqdm(range(N)):\n",
    "        for j in range(i):\n",
    "            d[i,j] = compare(trees[ids[i]], trees[ids[j]])\n",
    "            pbar.update(1)\n",
    "d = d + d.T\n"
   ]
  },
  {
   "cell_type": "code",
   "execution_count": null,
   "metadata": {},
   "outputs": [],
   "source": [
    "optics = OPTICS(metric=\"precomputed\", min_cluster_size=5)\n",
    "clust = optics.fit(d)"
   ]
  },
  {
   "cell_type": "code",
   "execution_count": null,
   "metadata": {},
   "outputs": [],
   "source": [
    "# The most similar puzzles by similarity\n",
    "print(\"Most similar puzzles by overall distance\")\n",
    "for p, f in custom_fens.items():\n",
    "    print(p, f)\n",
    "    idx = np.where(ids==p)[0]\n",
    "    closest = np.argsort(d[idx])\n",
    "    for close_id in closest.squeeze()[:7]:\n",
    "        print(f\"{ids[close_id]}, {d[idx, close_id][0]}\")\n",
    "    \n",
    "print()\n",
    "print(\"Cluster of puzzles from OPTICS\")\n",
    "for p, f in custom_fens.items():\n",
    "    print(p, f)\n",
    "    idx = np.where(ids==p)[0]\n",
    "    this_cluster = np.nonzero(clust.labels_ == clust.labels_[idx])\n",
    "    for close_id in this_cluster[0]:\n",
    "        print(f\"{ids[close_id]}, {d[idx, close_id][0]}\")\n"
   ]
  },
  {
   "cell_type": "code",
   "execution_count": null,
   "metadata": {},
   "outputs": [],
   "source": [
    "tsne = TSNE(metric=\"precomputed\", init=\"random\", random_state=0, perplexity=4)\n",
    "y = tsne.fit_transform(d)\n",
    "\n",
    "colours = [\"r.\", \"g.\", \"b.\"]\n",
    "labels = [(p, clust.labels_[np.where(ids==p)[0]]) for p, *_ in custom_fens.items()]\n",
    "print(labels)\n",
    "\n",
    "_, ax = plt.subplots()\n",
    "# Plot our fens with special colours\n",
    "for (p, c), col in zip(labels, colours):\n",
    "    yc = y[clust.labels_ == c]\n",
    "    ax.plot(yc[:, 0], yc[:, 1], col, label=f\"Similar to {p}\" )\n",
    "\n",
    "# Plot the rest\n",
    "for c in set(clust.labels_):\n",
    "    if c in list(zip(*labels))[1]:\n",
    "        continue\n",
    "    yc = y[clust.labels_ == c]\n",
    "    ax.plot(yc[:, 0], yc[:, 1], \"k.\")\n",
    "\n",
    "ax.legend()\n"
   ]
  },
  {
   "cell_type": "code",
   "execution_count": null,
   "metadata": {},
   "outputs": [],
   "source": []
  }
 ],
 "metadata": {
  "kernelspec": {
   "display_name": "venv",
   "language": "python",
   "name": "python3"
  },
  "language_info": {
   "codemirror_mode": {
    "name": "ipython",
    "version": 3
   },
   "file_extension": ".py",
   "mimetype": "text/x-python",
   "name": "python",
   "nbconvert_exporter": "python",
   "pygments_lexer": "ipython3",
   "version": "3.12.3"
  }
 },
 "nbformat": 4,
 "nbformat_minor": 2
}
