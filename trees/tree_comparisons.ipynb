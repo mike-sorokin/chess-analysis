{
 "cells": [
  {
   "cell_type": "code",
   "execution_count": null,
   "metadata": {},
   "outputs": [],
   "source": [
    "from importlib import reload\n",
    "from sklearn.cluster import OPTICS, cluster_optics_dbscan, DBSCAN\n",
    "from sklearn.manifold import TSNE\n",
    "from tqdm import tqdm\n",
    "import chess\n",
    "import json\n",
    "import main\n",
    "import matplotlib.pyplot as plt\n",
    "import numpy as np\n",
    "import os\n",
    "import pandas as pd\n",
    "import pickle\n",
    "import random\n",
    "import zss\n",
    "reload(main)\n",
    "from main import ChessTreeNode, expand_tree"
   ]
  },
  {
   "cell_type": "code",
   "execution_count": null,
   "metadata": {},
   "outputs": [],
   "source": [
    "# Download and unzip stockfish\n",
    "if not os.path.exists(\"stockfish\"):\n",
    "    !wget https://github.com/official-stockfish/Stockfish/releases/latest/download/stockfish-ubuntu-x86-64-avx2.tar\n",
    "    !tar -xf stockfish-ubuntu-x86-64-avx2.tar"
   ]
  },
  {
   "cell_type": "code",
   "execution_count": null,
   "metadata": {},
   "outputs": [],
   "source": [
    "# Read `all_trees`, parse to ChessTreeNode, and load to memory.\n",
    "trees = {}\n",
    "with open(\"../data/trees/condor/all\", \"r\") as f:\n",
    "    for idx, line in enumerate(tqdm(f.readlines())):\n",
    "        try:\n",
    "            puzzle_id, tree = json.loads(line)\n",
    "        except Exception: # lol\n",
    "            continue\n",
    "\n",
    "        if len(tree) == 0:\n",
    "            continue\n",
    "        trees[puzzle_id] = ChessTreeNode(*tree[0])\n",
    "\n",
    "    with open(\"tree_dict.pkl\", \"wb\") as f:\n",
    "        pickle.dump(trees, f)"
   ]
  },
  {
   "cell_type": "code",
   "execution_count": null,
   "metadata": {},
   "outputs": [],
   "source": [
    "def compare(t1, t2):\n",
    "    return zss.simple_distance(t1, t2, ChessTreeNode.get_children, ChessTreeNode.get_label, ChessTreeNode.compare)\n",
    "\n",
    "def treeify_fen(fen):\n",
    "    flipped = False\n",
    "    board = chess.Board(fen)\n",
    "    if board.turn == chess.BLACK:\n",
    "        flipped = True\n",
    "        board.apply_mirror()\n",
    "\n",
    "    stockfish = chess.engine.SimpleEngine.popen_uci(\"./stockfish/stockfish-ubuntu-x86-64-avx2\", timeout=None)\n",
    "    try:\n",
    "        return ChessTreeNode(*expand_tree(board.fen(), chess.Move.null(), stockfish)[0]), flipped\n",
    "    finally:\n",
    "        stockfish.quit()\n",
    "        \n",
    "df = pd.read_csv(\"../data/lichess/lichess_db_puzzle.csv\")\n",
    "def lookup_id(puzzle_id):\n",
    "    matched = df.loc[df[\"PuzzleId\"] == puzzle_id]\n",
    "    return f\"{puzzle_id} {matched['GameUrl'].item()} {matched['Themes'].item()}\"\n",
    "    "
   ]
  },
  {
   "cell_type": "code",
   "execution_count": null,
   "metadata": {},
   "outputs": [],
   "source": [
    "with open(\"tree_dict.pkl\", \"rb\") as f:\n",
    "    trees = pickle.load(f)"
   ]
  },
  {
   "cell_type": "code",
   "execution_count": null,
   "metadata": {},
   "outputs": [],
   "source": [
    "custom_fens = {\n",
    "    \"smothered M2\": \"r3r2k/ppp2Qbp/2bp2p1/5PN1/4P3/1B2q2P/P5PK/8 w - - 0 25\",\n",
    "    \"backrank M2\": \"6k1/1rp2pp1/5n1p/2B5/2RP4/4P3/P4PPP/6K1 b - - 0 24\",\n",
    "    \"N forks QK\": \"2kr3r/2p5/ppq2n1p/3Np1p1/P3P3/1P6/Q2b1PPP/3RR1K1 w - - 0 22\",\n",
    "    \"pinned pawn defender\": \"4r1k1/pb3p1p/1bp1q1p1/3pB3/3P4/1NP2PQP/PP4P1/R5K1 b - - 1 20\",\n",
    "\n",
    "}\n",
    "custom_flipped = {}\n",
    "for my_id, my_fen in custom_fens.items():\n",
    "    t, flip = treeify_fen(my_fen)\n",
    "    trees[my_id], custom_flipped[my_id] = t, flip\n",
    "    print(\"=\"*50)\n",
    "    print(my_id)\n",
    "    print(my_fen)\n",
    "    print(t.flip_san(flip))\n",
    "    print(\"=\"*50)"
   ]
  },
  {
   "cell_type": "code",
   "execution_count": null,
   "metadata": {},
   "outputs": [],
   "source": [
    "# Find a the top 5 best puzzles for these fens\n",
    "for my_id, my_fen in custom_fens.items():\n",
    "    print(\"=\"*50)\n",
    "    print(my_id)\n",
    "    print(my_fen)\n",
    "    print(\"=\"*50)\n",
    "    my_tree = trees[my_id]\n",
    "    distances = []\n",
    "    for pid, t in tqdm(list(trees.items())[:10000], leave=False):\n",
    "        distances.append((compare(t, my_tree), pid, t))\n",
    "    distances.sort()\n",
    "\n",
    "    for dist, pid, t in distances[:5]:\n",
    "        print(f\"(dist: {dist}) {lookup_id(pid)}\")\n",
    "        #print(t)\n",
    "        print(\"-\"*50)"
   ]
  },
  {
   "cell_type": "code",
   "execution_count": null,
   "metadata": {},
   "outputs": [],
   "source": [
    "np.random.seed(0)\n",
    "ids = np.random.choice([k for k, _ in trees.items() if k not in custom_fens], 1000)\n",
    "ids = np.concatenate((ids, list(custom_fens.keys())))"
   ]
  },
  {
   "cell_type": "code",
   "execution_count": null,
   "metadata": {},
   "outputs": [],
   "source": [
    "N = len(ids)\n",
    "# Generate distance matrix. It's symmetric, so use that to halve running time.\n",
    "d = np.zeros((N, N))\n",
    "with tqdm(total=N*(N+1)//2) as pbar:\n",
    "    for i in tqdm(range(N)):\n",
    "        for j in range(i):\n",
    "            d[i,j] = compare(trees[ids[i]], trees[ids[j]])\n",
    "            pbar.update(1)\n",
    "d = d + d.T\n"
   ]
  },
  {
   "cell_type": "code",
   "execution_count": null,
   "metadata": {},
   "outputs": [],
   "source": [
    "optics = DBSCAN(metric=\"precomputed\", eps=100, min_samples=4)\n",
    "clust = optics.fit(d)\n",
    "print(set(clust.labels_))"
   ]
  },
  {
   "cell_type": "code",
   "execution_count": null,
   "metadata": {},
   "outputs": [],
   "source": [
    "# OPTICS reachability\n",
    "space = np.arange(len(d))\n",
    "reachability = clust.reachability_[clust.ordering_]\n",
    "labels = clust.labels_[clust.ordering_]\n",
    "\n",
    "_, ax = plt.subplots(figsize=(18, 6))\n",
    "for i in range(len(set(clust.labels_)) - 1):\n",
    "    ax.plot(space[i == labels], reachability[i == labels], \".\", alpha=0.3)\n",
    "    \n",
    "ax.plot(space[-1 == labels], reachability[-1 == labels], \"k.\", alpha=0.3)\n",
    "\n",
    "    "
   ]
  },
  {
   "cell_type": "code",
   "execution_count": null,
   "metadata": {},
   "outputs": [],
   "source": [
    "print(\"Cluster of puzzles from OPTICS\")\n",
    "print([(p, clust.labels_[np.where(ids==p)[0]]) for p, *_ in custom_fens.items()])\n",
    "\n",
    "for p, f in custom_fens.items():\n",
    "    print(p, f)\n",
    "    idx = np.where(ids==p)[0]\n",
    "    this_cluster = np.nonzero(clust.labels_ == clust.labels_[idx])\n",
    "    for close_id in this_cluster[0]:\n",
    "        print(f\"{ids[close_id]}, {d[idx, close_id][0]}\")\n"
   ]
  },
  {
   "cell_type": "code",
   "execution_count": null,
   "metadata": {},
   "outputs": [],
   "source": [
    "for c in set(clust.labels_):\n",
    "    print(f\"label {c}\")\n",
    "    for pid in ids[np.where(clust.labels_==c)[0]][:7]:\n",
    "        print(lookup_id(pid))\n",
    "        print(trees[pid])\n",
    "    print()"
   ]
  },
  {
   "cell_type": "code",
   "execution_count": null,
   "metadata": {},
   "outputs": [],
   "source": [
    "compare(trees[\"4Qifg\"], trees[\"3TTaA\"])"
   ]
  },
  {
   "cell_type": "code",
   "execution_count": null,
   "metadata": {},
   "outputs": [],
   "source": [
    "tsne = TSNE(metric=\"precomputed\", init=\"random\", random_state=0, perplexity=20)\n",
    "y = tsne.fit_transform(d)\n",
    "\n",
    "colours = [\"r.\", \"g.\", \"b.\", \"c.\"]\n",
    "labels = [(p, clust.labels_[np.where(ids==p)[0]]) for p, *_ in custom_fens.items()]\n",
    "print(labels)\n",
    "\n",
    "_, ax = plt.subplots(figsize=(16, 12))\n",
    "\n",
    "# Plot -1 labels with faint crosses\n",
    "yc = y[clust.labels_ == -1]\n",
    "ax.plot(yc[:, 0], yc[:, 1], \"kx\", alpha=0.3)\n",
    "\n",
    "# Plot special colours, except -1\n",
    "for (p, c), col in zip(labels, colours):\n",
    "    if c == -1:\n",
    "        continue\n",
    "    yc = y[clust.labels_ == c]\n",
    "    ax.plot(yc[:, 0], yc[:, 1], col, label=f\"{c}: Similar to {p}\" )\n",
    "\n",
    "# Plot the rest\n",
    "for c in set(clust.labels_):\n",
    "    if c in list(zip(*labels))[1] or c == -1:\n",
    "        continue\n",
    "    yc = y[clust.labels_ == c]\n",
    "    ax.plot(yc[:, 0], yc[:, 1], \"x\", alpha=0.3, label=c)\n",
    "\n",
    "ax.legend()\n"
   ]
  },
  {
   "cell_type": "code",
   "execution_count": null,
   "metadata": {},
   "outputs": [],
   "source": []
  }
 ],
 "metadata": {
  "kernelspec": {
   "display_name": "venv",
   "language": "python",
   "name": "python3"
  },
  "language_info": {
   "codemirror_mode": {
    "name": "ipython",
    "version": 3
   },
   "file_extension": ".py",
   "mimetype": "text/x-python",
   "name": "python",
   "nbconvert_exporter": "python",
   "pygments_lexer": "ipython3",
   "version": "3.12.3"
  }
 },
 "nbformat": 4,
 "nbformat_minor": 2
}
