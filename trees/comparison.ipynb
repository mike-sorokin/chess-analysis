{
 "cells": [
  {
   "cell_type": "code",
   "execution_count": 41,
   "metadata": {},
   "outputs": [],
   "source": [
    "import pandas as pd\n",
    "import pickle\n",
    "import io\n",
    "import chess.pgn\n",
    "import matplotlib.pyplot as plt\n",
    "plt.style.use(\"seaborn-v0_8-deep\")"
   ]
  },
  {
   "cell_type": "code",
   "execution_count": 19,
   "metadata": {},
   "outputs": [],
   "source": [
    "df = pd.read_csv(\"../data/lichess/lichess_db_puzzle.csv\")\n",
    "df[\"Themes\"] = df[\"Themes\"].str.split()\n",
    "puzzles = df[[\"PuzzleId\", \"Themes\", \"Rating\"]].set_index(\"PuzzleId\").to_dict(orient=\"index\")"
   ]
  },
  {
   "cell_type": "code",
   "execution_count": 43,
   "metadata": {},
   "outputs": [
    {
     "data": {
      "text/plain": [
       "['rnbqkbnr/pppppppp/8/8/8/8/PPPPPPPP/RNBQKBNR w KQkq - 0 1',\n",
       " 'rnbqkbnr/pppppppp/8/8/4P3/8/PPPP1PPP/RNBQKBNR b KQkq - 0 1',\n",
       " 'rnbqkbnr/pp1ppppp/8/2p5/4P3/8/PPPP1PPP/RNBQKBNR w KQkq - 0 2',\n",
       " 'rnbqkbnr/pp1ppppp/8/2p5/4P3/2P5/PP1P1PPP/RNBQKBNR b KQkq - 0 2',\n",
       " 'rnbqkbnr/pp2pppp/3p4/2p5/4P3/2P5/PP1P1PPP/RNBQKBNR w KQkq - 0 3',\n",
       " 'rnbqkbnr/pp2pppp/3p4/2p5/3PP3/2P5/PP3PPP/RNBQKBNR b KQkq - 0 3',\n",
       " 'rnbqkbnr/p3pppp/1p1p4/2p5/3PP3/2P5/PP3PPP/RNBQKBNR w KQkq - 0 4',\n",
       " 'rnbqkbnr/p3pppp/1p1p4/2p5/3PP3/2P2N2/PP3PPP/RNBQKB1R b KQkq - 1 4',\n",
       " 'rn1qkbnr/p3pppp/1p1p4/2p5/3PP1b1/2P2N2/PP3PPP/RNBQKB1R w KQkq - 2 5',\n",
       " 'rn1qkbnr/p3pppp/1p1p4/1Bp5/3PP1b1/2P2N2/PP3PPP/RNBQK2R b KQkq - 3 5',\n",
       " 'r2qkbnr/p2npppp/1p1p4/1Bp5/3PP1b1/2P2N2/PP3PPP/RNBQK2R w KQkq - 4 6',\n",
       " 'r2qkbnr/p2npppp/1p1p4/1Bp5/3PP1b1/2P2N2/PP3PPP/RNBQ1RK1 b kq - 5 6',\n",
       " 'r2qkbnr/3npppp/pp1p4/1Bp5/3PP1b1/2P2N2/PP3PPP/RNBQ1RK1 w kq - 0 7',\n",
       " 'r2qkbnr/3npppp/ppBp4/2p5/3PP1b1/2P2N2/PP3PPP/RNBQ1RK1 b kq - 1 7',\n",
       " '2rqkbnr/3npppp/ppBp4/2p5/3PP1b1/2P2N2/PP3PPP/RNBQ1RK1 w k - 2 8',\n",
       " '2rqkbnr/3npppp/pp1p4/2pB4/3PP1b1/2P2N2/PP3PPP/RNBQ1RK1 b k - 3 8',\n",
       " '2rqkbnr/3npppp/p2p4/1ppB4/3PP1b1/2P2N2/PP3PPP/RNBQ1RK1 w k - 0 9',\n",
       " '2rqkbnr/3npBpp/p2p4/1pp5/3PP1b1/2P2N2/PP3PPP/RNBQ1RK1 b k - 0 9',\n",
       " '2rq1bnr/3npkpp/p2p4/1pp5/3PP1b1/2P2N2/PP3PPP/RNBQ1RK1 w - - 0 10',\n",
       " '2rq1bnr/3npkpp/p2p4/1pp3N1/3PP1b1/2P5/PP3PPP/RNBQ1RK1 b - - 1 10',\n",
       " '2rqkbnr/3np1pp/p2p4/1pp3N1/3PP1b1/2P5/PP3PPP/RNBQ1RK1 w - - 2 11',\n",
       " '2rqkbnr/3np1pp/p2p4/1pp3N1/3PP1Q1/2P5/PP3PPP/RNB2RK1 b - - 0 11',\n",
       " '2rqkb1r/3np1pp/p2p1n2/1pp3N1/3PP1Q1/2P5/PP3PPP/RNB2RK1 w - - 1 12',\n",
       " '2rqkb1r/3np1pp/p2pQn2/1pp3N1/3PP3/2P5/PP3PPP/RNB2RK1 b - - 2 12',\n",
       " '2rqkb1r/4p1pp/pn1pQn2/1pp3N1/3PP3/2P5/PP3PPP/RNB2RK1 w - - 3 13',\n",
       " '2rqkb1r/4p1pp/pn1pQn2/1pp1P1N1/3P4/2P5/PP3PPP/RNB2RK1 b - - 0 13',\n",
       " '2rqkb1r/4p1pp/pn1pQ3/1ppnP1N1/3P4/2P5/PP3PPP/RNB2RK1 w - - 1 14',\n",
       " '2rqkb1r/4p1pp/pn1PQ3/1ppn2N1/3P4/2P5/PP3PPP/RNB2RK1 b - - 0 14',\n",
       " '2r1kb1r/4p1pp/pn1qQ3/1ppn2N1/3P4/2P5/PP3PPP/RNB2RK1 w - - 0 15',\n",
       " '2r1kb1r/4p1pp/pn1Q4/1ppn2N1/3P4/2P5/PP3PPP/RNB2RK1 b - - 0 15',\n",
       " '2r1kb1r/6pp/pn1p4/1ppn2N1/3P4/2P5/PP3PPP/RNB2RK1 w - - 0 16',\n",
       " '2r1kb1r/6pp/pn1p4/1ppn2N1/3P4/2P5/PP1N1PPP/R1B2RK1 b - - 1 16',\n",
       " '2r1kb1r/6pp/pn1p4/1p1n2N1/2pP4/2P5/PP1N1PPP/R1B2RK1 w - - 0 17',\n",
       " '2r1kb1r/6pp/pn1p4/1p1n2N1/2pPN3/2P5/PP3PPP/R1B2RK1 b - - 1 17',\n",
       " '2r1kb1r/6p1/pn1p3p/1p1n2N1/2pPN3/2P5/PP3PPP/R1B2RK1 w - - 0 18',\n",
       " '2r1kb1r/6p1/pn1p3p/1p1n4/2pPN3/2P2N2/PP3PPP/R1B2RK1 b - - 1 18',\n",
       " '2r2b1r/3k2p1/pn1p3p/1p1n4/2pPN3/2P2N2/PP3PPP/R1B2RK1 w - - 2 19',\n",
       " '2r2b1r/3k2p1/pn1p3p/1p1n4/2pPN3/1PP2N2/P4PPP/R1B2RK1 b - - 0 19',\n",
       " '4rb1r/3k2p1/pn1p3p/1p1n4/2pPN3/1PP2N2/P4PPP/R1B2RK1 w - - 1 20',\n",
       " '4rb1r/3k2p1/pn1p3p/1p1n4/2pP4/1PP2NN1/P4PPP/R1B2RK1 b - - 2 20',\n",
       " '4rb1r/3k4/pn1p3p/1p1n2p1/2pP4/1PP2NN1/P4PPP/R1B2RK1 w - - 0 21',\n",
       " '4rb1r/3k4/pn1p3p/1p1n2p1/2pP4/BPP2NN1/P4PPP/R4RK1 b - - 1 21',\n",
       " '4rb1r/3k4/1n1p3p/pp1n2p1/2pP4/BPP2NN1/P4PPP/R4RK1 w - - 0 22',\n",
       " '4rb1r/3k4/1n1p3p/pp1n2p1/2PP4/B1P2NN1/P4PPP/R4RK1 b - - 0 22',\n",
       " '4rb1r/3k4/3p3p/pp1n2p1/2nP4/B1P2NN1/P4PPP/R4RK1 w - - 0 23',\n",
       " '4rb1r/3k4/3p3p/pp1n2p1/2nP4/2P2NN1/P4PPP/R1B2RK1 b - - 1 23',\n",
       " '4r2r/3k2b1/3p3p/pp1n2p1/2nP4/2P2NN1/P4PPP/R1B2RK1 w - - 2 24',\n",
       " '4r2r/3k2b1/3p3p/pp1n2p1/2nP4/2P2NN1/P4PPP/1RB2RK1 b - - 3 24',\n",
       " '1r5r/3k2b1/3p3p/pp1n2p1/2nP4/2P2NN1/P4PPP/1RB2RK1 w - - 4 25',\n",
       " '1r5r/3k2b1/3p3p/pp1n2p1/2nP4/2P2N2/P3NPPP/1RB2RK1 b - - 5 25',\n",
       " '1r5r/3k2b1/3p3p/p2n2p1/1pnP4/2P2N2/P3NPPP/1RB2RK1 w - - 0 26',\n",
       " '1r5r/3k2b1/3p3p/p2n2p1/1PnP4/5N2/P3NPPP/1RB2RK1 b - - 0 26',\n",
       " '1r5r/3k2b1/3p3p/3n2p1/1pnP4/5N2/P3NPPP/1RB2RK1 w - - 0 27',\n",
       " '1r5r/3k2b1/3p3p/3n2p1/1pnP4/8/P2NNPPP/1RB2RK1 b - - 1 27',\n",
       " '1r5r/3k2b1/3p3p/3n2p1/1p1P4/8/P2nNPPP/1RB2RK1 w - - 0 28',\n",
       " '1r5r/3k2b1/3p3p/3n2p1/1p1P4/8/P2BNPPP/1R3RK1 b - - 0 28',\n",
       " '1r2r3/3k2b1/3p3p/3n2p1/1p1P4/8/P2BNPPP/1R3RK1 w - - 1 29',\n",
       " '1r2r3/3k2b1/3p3p/3n2p1/1p1P4/8/P2BNPPP/1R2R1K1 b - - 2 29',\n",
       " '1r6/3kr1b1/3p3p/3n2p1/1p1P4/8/P2BNPPP/1R2R1K1 w - - 3 30',\n",
       " '1r6/3kr1b1/3p3p/3n2p1/1p1P4/6N1/P2B1PPP/1R2R1K1 b - - 4 30',\n",
       " '1r6/3k2b1/3p3p/3n2p1/1p1P4/6N1/P2B1PPP/1R2r1K1 w - - 0 31',\n",
       " '1r6/3k2b1/3p3p/3n2p1/1p1P4/6N1/P2B1PPP/4R1K1 b - - 0 31',\n",
       " '1r6/3k4/3p3p/3n2p1/1p1b4/6N1/P2B1PPP/4R1K1 w - - 0 32',\n",
       " '1r6/3k4/3p3p/3n2p1/1p1b4/6NP/P2B1PP1/4R1K1 b - - 0 32',\n",
       " '5r2/3k4/3p3p/3n2p1/1p1b4/6NP/P2B1PP1/4R1K1 w - - 1 33',\n",
       " '5r2/3k4/3p3p/3n2p1/1p1b4/4B1NP/P4PP1/4R1K1 b - - 2 33',\n",
       " '5r2/3k4/3p3p/6p1/1p1b4/4n1NP/P4PP1/4R1K1 w - - 0 34',\n",
       " '5r2/3k4/3p3p/6p1/1p1b4/4P1NP/P5P1/4R1K1 b - - 0 34',\n",
       " '5r2/3k4/3p3p/2b3p1/1p6/4P1NP/P5P1/4R1K1 w - - 1 35',\n",
       " '5r2/3k4/3p3p/2b3p1/1p6/4P1NP/P5P1/1R4K1 b - - 2 35',\n",
       " '4r3/3k4/3p3p/2b3p1/1p6/4P1NP/P5P1/1R4K1 w - - 3 36',\n",
       " '4r3/3k4/3p3p/2b3p1/1p2N3/4P2P/P5P1/1R4K1 b - - 4 36',\n",
       " '8/3k4/3p3p/2b3p1/1p2r3/4P2P/P5P1/1R4K1 w - - 0 37',\n",
       " '8/3k4/3p3p/2b3p1/1p2r3/P3P2P/6P1/1R4K1 b - - 0 37',\n",
       " '8/3k4/3p3p/6p1/1p2r3/P3b2P/6P1/1R4K1 w - - 0 38',\n",
       " '8/3k4/3p3p/6p1/1p2r3/P3b2P/6PK/1R6 b - - 1 38',\n",
       " '8/3k4/3p3p/6p1/4r3/p3b2P/6PK/1R6 w - - 0 39',\n",
       " '8/3k4/3p3p/6p1/4r3/p3b2P/6PK/R7 b - - 1 39',\n",
       " '8/3k4/3p3p/2b3p1/4r3/p6P/6PK/R7 w - - 2 40',\n",
       " '8/3k4/3p3p/2b3p1/4r3/p6P/R5PK/8 b - - 3 40',\n",
       " '8/3k4/3p3p/2b3p1/1r6/p6P/R5PK/8 w - - 4 41',\n",
       " '8/3k4/3p3p/2b3p1/1r4P1/p6P/R6K/8 b - - 0 41',\n",
       " '8/3k4/3p3p/2b3p1/6P1/p6P/Rr5K/8 w - - 1 42',\n",
       " '8/3k4/3p3p/2b3p1/6P1/p6P/1R5K/8 b - - 0 42',\n",
       " '8/3k4/3p3p/2b3p1/6P1/7P/1p5K/8 w - - 0 43']"
      ]
     },
     "execution_count": 43,
     "metadata": {},
     "output_type": "execute_result"
    }
   ],
   "source": [
    "my_pgn = io.StringIO(\"\"\"1. e4 c5 2. c3 d6 3. d4 b6 4. Nf3 Bg4 5. Bb5+ Nd7 6. O-O a6 7. Bc6\n",
    "Rc8 8. Bd5 b5 9. Bxf7+ Kxf7 10. Ng5+ Ke8 11. Qxg4 Ngf6 12. Qe6 Nb6 13. e5 Nfd5\n",
    "14. exd6 Qxd6 15. Qxd6 exd6 16. Nd2 c4 17. Nde4 h6 18. Nf3 Kd7 19. b3 Re8 20.\n",
    "Ng3 g5 21. Ba3 a5 22. bxc4 Nxc4 23. Bc1 Bg7 24. Rb1 Rb8 25. Ne2 b4 26. cxb4\n",
    "axb4 27. Nd2 Nxd2 28. Bxd2 Rhe8 29. Rfe1 Re7 30. Ng3 Rxe1+ 31. Rxe1 Bxd4 32. h3\n",
    "Rf8 33. Be3 Nxe3 34. fxe3 Bc5 35. Rb1 Re8 36. Ne4 Rxe4 37. a3 Bxe3+ 38. Kh2\n",
    "bxa3 39. Ra1 Bc5 40. Ra2 Rb4 41. g4 Rb2+ 42. Rxb2 axb2 0-1\"\"\")\n",
    "game = chess.pgn.read_game(my_pgn)\n",
    "\n",
    "fens = []\n",
    "board = game.board()\n",
    "fens.append(board.fen())\n",
    "for move in game.mainline_moves():\n",
    "    board.push(move)\n",
    "    fens.append(board.fen())"
   ]
  },
  {
   "cell_type": "code",
   "execution_count": 32,
   "metadata": {},
   "outputs": [],
   "source": [
    "def label_error(pred, exp):\n",
    "    pred_set = set(pred) - {\"middlegame\", \"endgame\", \"short\", \"crushing\", \"advantage\", \"long\"}\n",
    "    exp_set = set(exp) - {\"middlegame\", \"endgame\", \"short\", \"crushing\", \"advantage\", \"long\"}\n",
    "    return len(pred_set - exp_set) + len(exp_set - pred_set)\n",
    "\n",
    "def mse_loss(pred, exp):\n",
    "    return (pred - exp) ** 2"
   ]
  },
  {
   "cell_type": "code",
   "execution_count": 7,
   "metadata": {},
   "outputs": [],
   "source": [
    "with open(\"tree_results.pkl\", \"rb\") as f:\n",
    "    tree = pickle.load(f)"
   ]
  },
  {
   "cell_type": "code",
   "execution_count": 33,
   "metadata": {},
   "outputs": [
    {
     "name": "stdout",
     "output_type": "stream",
     "text": [
      "1.039\n",
      "404.47368080450127\n"
     ]
    }
   ],
   "source": [
    "total_theme_err = 0\n",
    "total_diff_loss = 0\n",
    "for pid, (themes, diff) in tree.items():\n",
    "    total_theme_err += label_error(themes, puzzles[pid][\"Themes\"])\n",
    "    total_diff_loss += mse_loss(diff, puzzles[pid][\"Rating\"])\n",
    "\n",
    "print(total_theme_err / len(tree))\n",
    "print((total_diff_loss / len(tree))**0.5)"
   ]
  }
 ],
 "metadata": {
  "kernelspec": {
   "display_name": "venv",
   "language": "python",
   "name": "python3"
  },
  "language_info": {
   "codemirror_mode": {
    "name": "ipython",
    "version": 3
   },
   "file_extension": ".py",
   "mimetype": "text/x-python",
   "name": "python",
   "nbconvert_exporter": "python",
   "pygments_lexer": "ipython3",
   "version": "3.12.3"
  }
 },
 "nbformat": 4,
 "nbformat_minor": 2
}
