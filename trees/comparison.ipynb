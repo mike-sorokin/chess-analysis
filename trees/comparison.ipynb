{
 "cells": [
  {
   "cell_type": "code",
   "execution_count": null,
   "metadata": {},
   "outputs": [],
   "source": [
    "import pandas as pd\n",
    "import pickle\n",
    "import io\n",
    "import chess.pgn\n",
    "from sklearn.metrics import classification_report\n",
    "import numpy as np\n",
    "import matplotlib.pyplot as plt\n",
    "plt.style.use(\"seaborn-v0_8-deep\")"
   ]
  },
  {
   "cell_type": "code",
   "execution_count": null,
   "metadata": {},
   "outputs": [],
   "source": [
    "df = pd.read_csv(\"../data/lichess/lichess_db_puzzle.csv\")\n",
    "df[\"Themes\"] = df[\"Themes\"].str.split()\n",
    "puzzles = df[[\"PuzzleId\", \"Themes\", \"Rating\"]].set_index(\"PuzzleId\").to_dict(orient=\"index\")"
   ]
  },
  {
   "cell_type": "code",
   "execution_count": null,
   "metadata": {},
   "outputs": [],
   "source": [
    "my_pgn = io.StringIO(\"\"\"1. e4 c5 2. c3 d6 3. d4 b6 4. Nf3 Bg4 5. Bb5+ Nd7 6. O-O a6 7. Bc6\n",
    "Rc8 8. Bd5 b5 9. Bxf7+ Kxf7 10. Ng5+ Ke8 11. Qxg4 Ngf6 12. Qe6 Nb6 13. e5 Nfd5\n",
    "14. exd6 Qxd6 15. Qxd6 exd6 16. Nd2 c4 17. Nde4 h6 18. Nf3 Kd7 19. b3 Re8 20.\n",
    "Ng3 g5 21. Ba3 a5 22. bxc4 Nxc4 23. Bc1 Bg7 24. Rb1 Rb8 25. Ne2 b4 26. cxb4\n",
    "axb4 27. Nd2 Nxd2 28. Bxd2 Rhe8 29. Rfe1 Re7 30. Ng3 Rxe1+ 31. Rxe1 Bxd4 32. h3\n",
    "Rf8 33. Be3 Nxe3 34. fxe3 Bc5 35. Rb1 Re8 36. Ne4 Rxe4 37. a3 Bxe3+ 38. Kh2\n",
    "bxa3 39. Ra1 Bc5 40. Ra2 Rb4 41. g4 Rb2+ 42. Rxb2 axb2 0-1\"\"\")\n",
    "game = chess.pgn.read_game(my_pgn)\n",
    "\n",
    "fens = []\n",
    "board = game.board()\n",
    "fens.append(board.fen())\n",
    "for move in game.mainline_moves():\n",
    "    board.push(move)\n",
    "    fens.append(board.fen())"
   ]
  },
  {
   "cell_type": "code",
   "execution_count": null,
   "metadata": {},
   "outputs": [],
   "source": [
    "def label_error(pred, exp):\n",
    "    pred_set = set(pred) - {\"middlegame\", \"endgame\", \"short\", \"crushing\", \"advantage\", \"long\"}\n",
    "    exp_set = set(exp) - {\"middlegame\", \"endgame\", \"short\", \"crushing\", \"advantage\", \"long\"}\n",
    "    return len(pred_set - exp_set) + len(exp_set - pred_set)\n",
    "\n",
    "def mse_loss(pred, exp):\n",
    "    return (pred - exp) ** 2\n",
    "\n",
    "THEMES = ['advancedPawn', 'advantage', 'anastasiaMate', 'arabianMate', 'attackingF2F7', 'attraction', 'backRankMate', 'bishopEndgame', 'bodenMate', 'capturingDefender', 'castling', 'clearance', 'crushing', 'defensiveMove', 'deflection', 'discoveredAttack', 'doubleBishopMate', 'doubleCheck', 'dovetailMate', 'enPassant', 'endgame', 'equality', 'exposedKing', 'fork', 'hangingPiece', 'hookMate', 'interference', 'intermezzo', 'kingsideAttack', 'knightEndgame', 'long', 'master', 'masterVsMaster', 'mate', 'mateIn1', 'mateIn2', 'mateIn3', 'mateIn4', 'mateIn5', 'middlegame', 'oneMove', 'opening', 'pawnEndgame', 'pin', 'promotion', 'queenEndgame', 'queenRookEndgame', 'queensideAttack', 'quietMove', 'rookEndgame', 'sacrifice', 'short', 'skewer', 'smotheredMate', 'superGM', 'trappedPiece', 'underPromotion', 'veryLong', 'xRayAttack', 'zugzwang']"
   ]
  },
  {
   "cell_type": "code",
   "execution_count": null,
   "metadata": {},
   "outputs": [],
   "source": [
    "with open(\"transformer.pkl\", \"rb\") as f:\n",
    "    tree = pickle.load(f)\n",
    "tree"
   ]
  },
  {
   "cell_type": "code",
   "execution_count": null,
   "metadata": {},
   "outputs": [],
   "source": [
    "tree_ids = list(tree.keys())\n",
    "y_true = np.zeros((len(tree_ids), len(THEMES)))\n",
    "y_pred = np.zeros((len(tree_ids), len(THEMES)))\n",
    "for i, pid in enumerate(tree_ids):\n",
    "    for j, t in enumerate(THEMES):\n",
    "        if t in puzzles[pid][\"Themes\"]:\n",
    "            y_true[i,j] = 1\n",
    "        if t in tree[pid]:\n",
    "            y_pred[i,j] = 1\n",
    "\n",
    "print(classification_report(y_true, y_pred, target_names=THEMES, digits=4, zero_division=0))"
   ]
  },
  {
   "cell_type": "code",
   "execution_count": null,
   "metadata": {},
   "outputs": [],
   "source": []
  }
 ],
 "metadata": {
  "kernelspec": {
   "display_name": "venv",
   "language": "python",
   "name": "python3"
  },
  "language_info": {
   "codemirror_mode": {
    "name": "ipython",
    "version": 3
   },
   "file_extension": ".py",
   "mimetype": "text/x-python",
   "name": "python",
   "nbconvert_exporter": "python",
   "pygments_lexer": "ipython3",
   "version": "3.12.3"
  }
 },
 "nbformat": 4,
 "nbformat_minor": 2
}
