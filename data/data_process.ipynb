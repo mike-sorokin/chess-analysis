{
 "cells": [
  {
   "cell_type": "code",
   "execution_count": null,
   "metadata": {
    "metadata": {}
   },
   "outputs": [],
   "source": [
    "# Download the files from lichess\n",
    "import os\n",
    "\n",
    "if not os.path.exists(\"lichess/lichess_db_puzzle.csv.zst\"):\n",
    "    !wget https://database.lichess.org/lichess_db_puzzle.csv.zst\n",
    "if not os.path.exists(\"lichess/lichess_db_puzzle.csv\"):\n",
    "    !zstd -d lichess/lichess_db_puzzle.csv.zst"
   ]
  },
  {
   "cell_type": "code",
   "execution_count": null,
   "metadata": {
    "metadata": {}
   },
   "outputs": [],
   "source": [
    "import pandas as pd\n",
    "import chess\n",
    "\n",
    "# Read CSV and keep only important columns\n",
    "df = pd.read_csv(\"lichess/lichess_db_puzzle.csv\")\n",
    "df = df[[\"PuzzleId\", \"FEN\", \"Moves\", \"Rating\", \"Themes\"]]"
   ]
  },
  {
   "cell_type": "code",
   "execution_count": null,
   "metadata": {
    "metadata": {}
   },
   "outputs": [],
   "source": [
    "def fen_play_first_move_and_force_white(fen, moves):\n",
    "    board = chess.Board(fen)\n",
    "    first_move = moves.split()[0]\n",
    "    # Play the first move of the puzzle, actually setting it up\n",
    "    board.push_uci(first_move)\n",
    "    \n",
    "    # Flip the board if it is black to move\n",
    "    if board.turn == chess.BLACK:\n",
    "        board.apply_mirror()\n",
    "    \n",
    "    # Return just the FEN of the board\n",
    "    return board.board_fen()\n",
    "\n",
    "df[\"white_to_play_FEN\"] = df.apply(lambda r: fen_play_first_move_and_force_white(r[\"FEN\"], r[\"Moves\"]), axis=1)"
   ]
  },
  {
   "cell_type": "code",
   "execution_count": null,
   "metadata": {
    "metadata": {}
   },
   "outputs": [],
   "source": [
    "# Create one hot encoding of the themes\n",
    "one_hots = df[\"Themes\"].str.get_dummies(sep=\" \")\n",
    "df = df.join(one_hots)\n",
    "\n",
    "# Save also\n",
    "df.to_csv(\"lichess/lichess_db_puzzle_processed.csv\", index=False)"
   ]
  },
  {
   "cell_type": "code",
   "execution_count": 1,
   "metadata": {},
   "outputs": [],
   "source": [
    "import pandas as pd\n",
    "df = pd.read_csv(\"lichess/lichess_db_puzzle_processed.csv\")"
   ]
  },
  {
   "cell_type": "code",
   "execution_count": null,
   "metadata": {
    "metadata": {}
   },
   "outputs": [],
   "source": [
    "import matplotlib.pyplot as plt\n",
    "plt.style.use(\"seaborn-v0_8-deep\")\n",
    "DIR = \"../report/project/img/\"\n",
    "\n",
    "# Histogram of ratings\n",
    "plt.hist(df[\"Rating\"], bins=[n*25 for n in range(140)])\n",
    "plt.ylabel(\"Count\")\n",
    "plt.xlabel(f\"Glicko2 puzzle rating (min={df['Rating'].min()}, max={df['Rating'].max()})\")\n",
    "plt.axvline(df[\"Rating\"].mean(), c=\"r\", ls=\"--\", label=f\"Average rating, $\\\\mu={df['Rating'].mean():.0f}$\")\n",
    "plt.title(\"Histogram of lichess.org puzzle ratings\")\n",
    "plt.legend()\n",
    "plt.savefig(DIR + \"puzzle_histogram.png\", dpi=250, bbox_inches=\"tight\")\n",
    "plt.close()\n",
    "\n",
    "# Theme counts\n",
    "all_themes = [(t, df[t].sum()) for t in df.columns\n",
    "    if t not in [\"PuzzleId\", \"FEN\", \"Moves\", \"Rating\", \"Themes\", \"white_to_play_FEN\"]]\n",
    "\n",
    "all_themes = sorted(all_themes, key=lambda x: x[1])\n",
    "plt.figure().set_figheight(4.8*3)\n",
    "plt.barh(*zip(*all_themes))\n",
    "plt.ylabel(f\"Theme (total themes={len(all_themes)})\")\n",
    "plt.xlabel(\"Count\")\n",
    "plt.title(\"Counts of all themes in the lichess.org puzzle database\")\n",
    "plt.savefig(DIR + \"puzzle_theme_counts.png\", dpi=250, bbox_inches=\"tight\")\n",
    "plt.close()\n",
    "\n",
    "# Stacked histogram of some themes\n",
    "_themes = [\"backRankMate\", \"defensiveMove\", \"trappedPiece\"]\n",
    "for t in _themes:\n",
    "    plt.hist(df[df[t] == 1][\"Rating\"],\n",
    "                bins=[n*50 for n in range(70)],\n",
    "                label=t,\n",
    "                alpha=0.7)\n",
    "\n",
    "plt.ylabel(\"Count\")\n",
    "plt.xlabel(f\"Glicko2 puzzle rating (min={df['Rating'].min()}, max={df['Rating'].max()})\")\n",
    "plt.title(\"Histogram of lichess.org puzzle ratings with specific themes\")\n",
    "plt.legend()\n",
    "plt.savefig(DIR + \"puzzle_theme_histograms.png\", dpi=250, bbox_inches=\"tight\")\n",
    "plt.close()"
   ]
  },
  {
   "cell_type": "code",
   "execution_count": null,
   "metadata": {},
   "outputs": [],
   "source": [
    "# Chunk df into splits for HTCondor\n",
    "n = 100\n",
    "for i, r in enumerate(range(0, df.shape[0], n)):\n",
    "    df.loc[r:r+n, [\"PuzzleId\", \"white_to_play_FEN\"]].to_csv(f\"condor/puzzles_{i}.csv\")"
   ]
  },
  {
   "cell_type": "code",
   "execution_count": 2,
   "metadata": {
    "metadata": {}
   },
   "outputs": [],
   "source": [
    "# 60/20/20 split train/val/test\n",
    "train = df.sample(frac=0.6, random_state=1337)\n",
    "val = df.drop(train.index).sample(frac=0.5, random_state=1338)\n",
    "test = df.drop(train.index).drop(val.index)\n",
    "\n",
    "train.to_csv(\"lichess/lichess_db_puzzle_train.csv\")\n",
    "val.to_csv(\"lichess/lichess_db_puzzle_val.csv\")\n",
    "test.to_csv(\"lichess/lichess_db_puzzle_test.csv\")"
   ]
  }
 ],
 "metadata": {
  "kernelspec": {
   "display_name": "venv",
   "language": "python",
   "name": "python3"
  },
  "language_info": {
   "codemirror_mode": {
    "name": "ipython",
    "version": 3
   },
   "file_extension": ".py",
   "mimetype": "text/x-python",
   "name": "python",
   "nbconvert_exporter": "python",
   "pygments_lexer": "ipython3",
   "version": "3.10.12"
  }
 },
 "nbformat": 4,
 "nbformat_minor": 2
}
