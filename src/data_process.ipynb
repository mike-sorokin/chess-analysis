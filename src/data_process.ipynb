{
 "cells": [
  {
   "cell_type": "code",
   "execution_count": 9,
   "metadata": {
    "metadata": {}
   },
   "outputs": [],
   "source": [
    "import os\n",
    "import matplotlib.pyplot as plt\n",
    "\n",
    "if not os.path.exists(\"lichess_db_puzzle.csv.zst\"):\n",
    "    !wget https://database.lichess.org/lichess_db_puzzle.csv.zst\n",
    "if not os.path.exists(\"lichess_db_puzzle.csv\"):\n",
    "    !zstd -d lichess_db_puzzle.csv.zst"
   ]
  },
  {
   "cell_type": "code",
   "execution_count": 10,
   "metadata": {
    "metadata": {}
   },
   "outputs": [],
   "source": [
    "import pandas as pd\n",
    "import chess\n",
    "\n",
    "# Read CSV and keep only important columns\n",
    "df = pd.read_csv(\"lichess_db_puzzle.csv\")\n",
    "df = df[[\"PuzzleId\", \"FEN\", \"Moves\", \"Rating\", \"Themes\"]]\n"
   ]
  },
  {
   "cell_type": "code",
   "execution_count": 11,
   "metadata": {
    "metadata": {}
   },
   "outputs": [],
   "source": [
    "def fen_play_first_move_and_force_white(fen, moves):\n",
    "    board = chess.Board(fen)\n",
    "    first_move = moves.split()[0]\n",
    "    # Play the first move of the puzzle, actually setting it up\n",
    "    board.push_uci(first_move)\n",
    "    \n",
    "    # Flip the board if it is black to move\n",
    "    if board.turn == chess.BLACK:\n",
    "        board.apply_mirror()\n",
    "    \n",
    "    # Return just the FEN of the board\n",
    "    return board.board_fen()\n",
    "\n",
    "df[\"white_to_play_FEN\"] = df.apply(lambda r: fen_play_first_move_and_force_white(r[\"FEN\"], r[\"Moves\"]), axis=1)"
   ]
  },
  {
   "cell_type": "code",
   "execution_count": 7,
   "metadata": {
    "metadata": {}
   },
   "outputs": [],
   "source": [
    "# Create one hot encoding of the themes\n",
    "one_hots = df[\"Themes\"].str.get_dummies(sep=\" \")\n",
    "df = df.join(one_hots)"
   ]
  },
  {
   "cell_type": "code",
   "execution_count": null,
   "metadata": {
    "metadata": {}
   },
   "outputs": [],
   "source": [
    "# Histogram of ratings\n",
    "plt.hist(df[\"Rating\"], bins=[n*25 for n in range(140)])\n",
    "plt.ylabel(\"Count\")\n",
    "plt.xlabel(f\"Glicko2 puzzle rating (min={df['Rating'].min()}, max={df['Rating'].max()})\")\n",
    "plt.axvline(df[\"Rating\"].mean(), c=\"r\", ls=\"--\", label=f\"Average rating, $\\\\mu={df['Rating'].mean():.0f}$\")\n",
    "plt.title(\"Histogram of lichess.org puzzle ratings\")\n",
    "plt.legend()\n",
    "plt.savefig(\"../report/project/img/puzzle_histogram.png\", dpi=250, bbox_inches=\"tight\")\n",
    "plt.close()\n",
    "\n",
    "# Theme counts\n",
    "all_themes = [(t, df[t].sum()) for t in df.columns \n",
    "    if t not in [\"FEN\", \"Moves\", \"Rating\", \"Themes\", \"white_to_play_FEN\"]]\n",
    "\n",
    "all_themes = sorted(all_themes, key=lambda x: x[1])\n",
    "plt.figure().set_figheight(4.8*3)\n",
    "plt.barh(*zip(*all_themes))\n",
    "plt.ylabel(f\"Theme (total themes={len(all_themes)})\")\n",
    "plt.xlabel(\"Count\")\n",
    "plt.title(\"Counts of all themes in the lichess.org puzzle database\")\n",
    "plt.savefig(\"../report/project/img/puzzle_theme_counts.png\", dpi=250, bbox_inches=\"tight\")\n",
    "plt.close()\n",
    "\n",
    "# Stacked histogram of some themes\n",
    "_themes = [\"backRankMate\", \"trappedPiece\", \"defensiveMove\"]\n",
    "plt.hist([df[df[t] == 1][\"Rating\"] for t in _themes],\n",
    "            bins=[n*50 for n in range(70)], \n",
    "            label=_themes)\n",
    "\n",
    "plt.ylabel(\"Count\")\n",
    "plt.xlabel(f\"Glicko2 puzzle rating (min={df['Rating'].min()}, max={df['Rating'].max()})\")\n",
    "plt.title(\"Histogram of lichess.org puzzle ratings with specific themes\")\n",
    "plt.legend()\n",
    "plt.savefig(\"../report/project/img/puzzle_theme_histograms.png\", dpi=250, bbox_inches=\"tight\")\n",
    "plt.close()"
   ]
  },
  {
   "cell_type": "code",
   "execution_count": 15,
   "metadata": {},
   "outputs": [],
   "source": [
    "# Chunk df into splits\n",
    "n = 100\n",
    "for i, r in enumerate(range(0, df.shape[0], n)):\n",
    "    df.loc[r:r+n, [\"PuzzleId\", \"white_to_play_FEN\"]].to_csv(f\"condor/puzzles_{i}.csv\")\n",
    "    if i == 3:\n",
    "        break"
   ]
  },
  {
   "cell_type": "code",
   "execution_count": null,
   "metadata": {
    "metadata": {}
   },
   "outputs": [],
   "source": [
    "# 80/20 split train/test\n",
    "train = df.sample(frac=0.8, random_state=1337)\n",
    "test = df.drop(train.index)\n",
    "\n",
    "train.to_csv(\"lichess_db_puzzle_train.csv\")\n",
    "test.to_csv(\"lichess_db_puzzle_test.csv\")"
   ]
  }
 ],
 "metadata": {
  "kernelspec": {
   "display_name": "venv",
   "language": "python",
   "name": "python3"
  },
  "language_info": {
   "codemirror_mode": {
    "name": "ipython",
    "version": 3
   },
   "file_extension": ".py",
   "mimetype": "text/x-python",
   "name": "python",
   "nbconvert_exporter": "python",
   "pygments_lexer": "ipython3",
   "version": "3.12.3"
  }
 },
 "nbformat": 4,
 "nbformat_minor": 2
}
