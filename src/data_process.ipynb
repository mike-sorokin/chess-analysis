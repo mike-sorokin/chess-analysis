{
 "cells": [
  {
   "cell_type": "code",
   "execution_count": 18,
   "metadata": {},
   "outputs": [],
   "source": [
    "import os\n",
    "\n",
    "if not os.path.exists(\"lichess_db_puzzle.csv.zst\"):\n",
    "    !wget https://database.lichess.org/lichess_db_puzzle.csv.zst\n",
    "if not os.path.exists(\"lichess_db_puzzle.csv\"):\n",
    "    !zstd -d lichess_db_puzzle.csv.zst"
   ]
  },
  {
   "cell_type": "code",
   "execution_count": 19,
   "metadata": {},
   "outputs": [],
   "source": [
    "import pandas as pd\n",
    "\n",
    "# Read CSV and keep only important columns\n",
    "df = pd.read_csv(\"lichess_db_puzzle.csv\")\n",
    "df = df[[\"FEN\", \"Rating\", \"Themes\"]]"
   ]
  },
  {
   "cell_type": "code",
   "execution_count": null,
   "metadata": {},
   "outputs": [],
   "source": [
    "# Create one hot encoding of the themes\n",
    "one_hots = df[\"Themes\"].str.get_dummies(sep=\" \")\n",
    "df = df.join(one_hots)"
   ]
  },
  {
   "cell_type": "code",
   "execution_count": 21,
   "metadata": {},
   "outputs": [],
   "source": [
    "# 80/20 split train/test\n",
    "train = df.sample(frac=0.8, random_state=1337)\n",
    "test = df.drop(train.index)\n",
    "\n",
    "train.to_csv(\"lichess_db_puzzle_train.csv\")\n",
    "test.to_csv(\"lichess_db_puzzle_test.csv\")"
   ]
  }
 ],
 "metadata": {
  "kernelspec": {
   "display_name": "venv",
   "language": "python",
   "name": "python3"
  },
  "language_info": {
   "codemirror_mode": {
    "name": "ipython",
    "version": 3
   },
   "file_extension": ".py",
   "mimetype": "text/x-python",
   "name": "python",
   "nbconvert_exporter": "python",
   "pygments_lexer": "ipython3",
   "version": "3.11.8"
  }
 },
 "nbformat": 4,
 "nbformat_minor": 2
}
