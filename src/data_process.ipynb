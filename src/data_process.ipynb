{
 "cells": [
  {
   "cell_type": "code",
   "execution_count": 1,
   "metadata": {
    "metadata": {}
   },
   "outputs": [],
   "source": [
    "import os\n",
    "\n",
    "if not os.path.exists(\"lichess_db_puzzle.csv.zst\"):\n",
    "    !wget https://database.lichess.org/lichess_db_puzzle.csv.zst\n",
    "if not os.path.exists(\"lichess_db_puzzle.csv\"):\n",
    "    !zstd -d lichess_db_puzzle.csv.zst"
   ]
  },
  {
   "cell_type": "code",
   "execution_count": 6,
   "metadata": {
    "metadata": {}
   },
   "outputs": [],
   "source": [
    "import pandas as pd\n",
    "import chess\n",
    "\n",
    "# Read CSV and keep only important columns\n",
    "df = pd.read_csv(\"lichess_db_puzzle.csv\")\n",
    "df = df[[\"FEN\", \"Moves\", \"Rating\", \"Themes\"]]\n",
    "\n"
   ]
  },
  {
   "cell_type": "code",
   "execution_count": 10,
   "metadata": {
    "metadata": {}
   },
   "outputs": [],
   "source": [
    "def fen_play_first_move_and_force_white(fen, moves):\n",
    "    board = chess.Board(fen)\n",
    "    first_move = moves.split()[0]\n",
    "    # Play the first move of the puzzle, actually setting it up\n",
    "    board.push_uci(first_move)\n",
    "    \n",
    "    # Flip the board if it is black to move\n",
    "    if board.turn == chess.BLACK:\n",
    "        board.apply_mirror()\n",
    "    \n",
    "    # Return just the FEN of the board\n",
    "    return board.board_fen()\n",
    "\n",
    "df[\"white_to_play_FEN\"] = df.apply(lambda r: fen_play_first_move_and_force_white(r[\"FEN\"], r[\"Moves\"]), axis=1)"
   ]
  },
  {
   "cell_type": "code",
   "execution_count": 12,
   "metadata": {
    "metadata": {}
   },
   "outputs": [],
   "source": [
    "# Create one hot encoding of the themes\n",
    "one_hots = df[\"Themes\"].str.get_dummies(sep=\" \")\n",
    "df = df.join(one_hots)"
   ]
  },
  {
   "cell_type": "code",
   "execution_count": 14,
   "metadata": {
    "metadata": {}
   },
   "outputs": [],
   "source": [
    "# 80/20 split train/test\n",
    "train = df.sample(frac=0.8, random_state=1337)\n",
    "test = df.drop(train.index)\n",
    "\n",
    "train.to_csv(\"lichess_db_puzzle_train.csv\")\n",
    "test.to_csv(\"lichess_db_puzzle_test.csv\")"
   ]
  }
 ],
 "metadata": {
  "kernelspec": {
   "display_name": "venv",
   "language": "python",
   "name": "python3"
  },
  "language_info": {
   "codemirror_mode": {
    "name": "ipython",
    "version": 3
   },
   "file_extension": ".py",
   "mimetype": "text/x-python",
   "name": "python",
   "nbconvert_exporter": "python",
   "pygments_lexer": "ipython3",
   "version": "3.10.12"
  }
 },
 "nbformat": 4,
 "nbformat_minor": 2
}
