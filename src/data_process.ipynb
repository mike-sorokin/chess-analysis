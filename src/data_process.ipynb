{
 "cells": [
  {
   "cell_type": "code",
   "execution_count": 1,
   "metadata": {
    "metadata": {}
   },
   "outputs": [],
   "source": [
    "import os\n",
    "import matplotlib.pyplot as plt\n",
    "\n",
    "if not os.path.exists(\"lichess_db_puzzle.csv.zst\"):\n",
    "    !wget https://database.lichess.org/lichess_db_puzzle.csv.zst\n",
    "if not os.path.exists(\"lichess_db_puzzle.csv\"):\n",
    "    !zstd -d lichess_db_puzzle.csv.zst"
   ]
  },
  {
   "cell_type": "code",
   "execution_count": 3,
   "metadata": {
    "metadata": {}
   },
   "outputs": [],
   "source": [
    "import pandas as pd\n",
    "import chess\n",
    "\n",
    "# Read CSV and keep only important columns\n",
    "df = pd.read_csv(\"lichess_db_puzzle.csv\")\n",
    "df = df[[\"FEN\", \"Moves\", \"Rating\", \"Themes\"]]\n"
   ]
  },
  {
   "cell_type": "code",
   "execution_count": null,
   "metadata": {
    "metadata": {}
   },
   "outputs": [
    {
     "ename": "KeyboardInterrupt",
     "evalue": "",
     "output_type": "error",
     "traceback": [
      "\u001b[0;31m---------------------------------------------------------------------------\u001b[0m",
      "\u001b[0;31mKeyboardInterrupt\u001b[0m                         Traceback (most recent call last)",
      "Cell \u001b[0;32mIn[25], line 14\u001b[0m\n\u001b[1;32m     11\u001b[0m     \u001b[38;5;66;03m# Return just the FEN of the board\u001b[39;00m\n\u001b[1;32m     12\u001b[0m     \u001b[38;5;28;01mreturn\u001b[39;00m board\u001b[38;5;241m.\u001b[39mboard_fen()\n\u001b[0;32m---> 14\u001b[0m df[\u001b[38;5;124m\"\u001b[39m\u001b[38;5;124mwhite_to_play_FEN\u001b[39m\u001b[38;5;124m\"\u001b[39m] \u001b[38;5;241m=\u001b[39m \u001b[43mdf\u001b[49m\u001b[38;5;241;43m.\u001b[39;49m\u001b[43mapply\u001b[49m\u001b[43m(\u001b[49m\u001b[38;5;28;43;01mlambda\u001b[39;49;00m\u001b[43m \u001b[49m\u001b[43mr\u001b[49m\u001b[43m:\u001b[49m\u001b[43m \u001b[49m\u001b[43mfen_play_first_move_and_force_white\u001b[49m\u001b[43m(\u001b[49m\u001b[43mr\u001b[49m\u001b[43m[\u001b[49m\u001b[38;5;124;43m\"\u001b[39;49m\u001b[38;5;124;43mFEN\u001b[39;49m\u001b[38;5;124;43m\"\u001b[39;49m\u001b[43m]\u001b[49m\u001b[43m,\u001b[49m\u001b[43m \u001b[49m\u001b[43mr\u001b[49m\u001b[43m[\u001b[49m\u001b[38;5;124;43m\"\u001b[39;49m\u001b[38;5;124;43mMoves\u001b[39;49m\u001b[38;5;124;43m\"\u001b[39;49m\u001b[43m]\u001b[49m\u001b[43m)\u001b[49m\u001b[43m,\u001b[49m\u001b[43m \u001b[49m\u001b[43maxis\u001b[49m\u001b[38;5;241;43m=\u001b[39;49m\u001b[38;5;241;43m1\u001b[39;49m\u001b[43m)\u001b[49m\n",
      "File \u001b[0;32m/vol/bitbucket/ms2320/chess-analysis/src/venv/lib/python3.10/site-packages/pandas/core/frame.py:10374\u001b[0m, in \u001b[0;36mDataFrame.apply\u001b[0;34m(self, func, axis, raw, result_type, args, by_row, engine, engine_kwargs, **kwargs)\u001b[0m\n\u001b[1;32m  10360\u001b[0m \u001b[38;5;28;01mfrom\u001b[39;00m \u001b[38;5;21;01mpandas\u001b[39;00m\u001b[38;5;21;01m.\u001b[39;00m\u001b[38;5;21;01mcore\u001b[39;00m\u001b[38;5;21;01m.\u001b[39;00m\u001b[38;5;21;01mapply\u001b[39;00m \u001b[38;5;28;01mimport\u001b[39;00m frame_apply\n\u001b[1;32m  10362\u001b[0m op \u001b[38;5;241m=\u001b[39m frame_apply(\n\u001b[1;32m  10363\u001b[0m     \u001b[38;5;28mself\u001b[39m,\n\u001b[1;32m  10364\u001b[0m     func\u001b[38;5;241m=\u001b[39mfunc,\n\u001b[0;32m   (...)\u001b[0m\n\u001b[1;32m  10372\u001b[0m     kwargs\u001b[38;5;241m=\u001b[39mkwargs,\n\u001b[1;32m  10373\u001b[0m )\n\u001b[0;32m> 10374\u001b[0m \u001b[38;5;28;01mreturn\u001b[39;00m \u001b[43mop\u001b[49m\u001b[38;5;241;43m.\u001b[39;49m\u001b[43mapply\u001b[49m\u001b[43m(\u001b[49m\u001b[43m)\u001b[49m\u001b[38;5;241m.\u001b[39m__finalize__(\u001b[38;5;28mself\u001b[39m, method\u001b[38;5;241m=\u001b[39m\u001b[38;5;124m\"\u001b[39m\u001b[38;5;124mapply\u001b[39m\u001b[38;5;124m\"\u001b[39m)\n",
      "File \u001b[0;32m/vol/bitbucket/ms2320/chess-analysis/src/venv/lib/python3.10/site-packages/pandas/core/apply.py:916\u001b[0m, in \u001b[0;36mFrameApply.apply\u001b[0;34m(self)\u001b[0m\n\u001b[1;32m    913\u001b[0m \u001b[38;5;28;01melif\u001b[39;00m \u001b[38;5;28mself\u001b[39m\u001b[38;5;241m.\u001b[39mraw:\n\u001b[1;32m    914\u001b[0m     \u001b[38;5;28;01mreturn\u001b[39;00m \u001b[38;5;28mself\u001b[39m\u001b[38;5;241m.\u001b[39mapply_raw(engine\u001b[38;5;241m=\u001b[39m\u001b[38;5;28mself\u001b[39m\u001b[38;5;241m.\u001b[39mengine, engine_kwargs\u001b[38;5;241m=\u001b[39m\u001b[38;5;28mself\u001b[39m\u001b[38;5;241m.\u001b[39mengine_kwargs)\n\u001b[0;32m--> 916\u001b[0m \u001b[38;5;28;01mreturn\u001b[39;00m \u001b[38;5;28;43mself\u001b[39;49m\u001b[38;5;241;43m.\u001b[39;49m\u001b[43mapply_standard\u001b[49m\u001b[43m(\u001b[49m\u001b[43m)\u001b[49m\n",
      "File \u001b[0;32m/vol/bitbucket/ms2320/chess-analysis/src/venv/lib/python3.10/site-packages/pandas/core/apply.py:1063\u001b[0m, in \u001b[0;36mFrameApply.apply_standard\u001b[0;34m(self)\u001b[0m\n\u001b[1;32m   1061\u001b[0m \u001b[38;5;28;01mdef\u001b[39;00m \u001b[38;5;21mapply_standard\u001b[39m(\u001b[38;5;28mself\u001b[39m):\n\u001b[1;32m   1062\u001b[0m     \u001b[38;5;28;01mif\u001b[39;00m \u001b[38;5;28mself\u001b[39m\u001b[38;5;241m.\u001b[39mengine \u001b[38;5;241m==\u001b[39m \u001b[38;5;124m\"\u001b[39m\u001b[38;5;124mpython\u001b[39m\u001b[38;5;124m\"\u001b[39m:\n\u001b[0;32m-> 1063\u001b[0m         results, res_index \u001b[38;5;241m=\u001b[39m \u001b[38;5;28;43mself\u001b[39;49m\u001b[38;5;241;43m.\u001b[39;49m\u001b[43mapply_series_generator\u001b[49m\u001b[43m(\u001b[49m\u001b[43m)\u001b[49m\n\u001b[1;32m   1064\u001b[0m     \u001b[38;5;28;01melse\u001b[39;00m:\n\u001b[1;32m   1065\u001b[0m         results, res_index \u001b[38;5;241m=\u001b[39m \u001b[38;5;28mself\u001b[39m\u001b[38;5;241m.\u001b[39mapply_series_numba()\n",
      "File \u001b[0;32m/vol/bitbucket/ms2320/chess-analysis/src/venv/lib/python3.10/site-packages/pandas/core/apply.py:1081\u001b[0m, in \u001b[0;36mFrameApply.apply_series_generator\u001b[0;34m(self)\u001b[0m\n\u001b[1;32m   1078\u001b[0m \u001b[38;5;28;01mwith\u001b[39;00m option_context(\u001b[38;5;124m\"\u001b[39m\u001b[38;5;124mmode.chained_assignment\u001b[39m\u001b[38;5;124m\"\u001b[39m, \u001b[38;5;28;01mNone\u001b[39;00m):\n\u001b[1;32m   1079\u001b[0m     \u001b[38;5;28;01mfor\u001b[39;00m i, v \u001b[38;5;129;01min\u001b[39;00m \u001b[38;5;28menumerate\u001b[39m(series_gen):\n\u001b[1;32m   1080\u001b[0m         \u001b[38;5;66;03m# ignore SettingWithCopy here in case the user mutates\u001b[39;00m\n\u001b[0;32m-> 1081\u001b[0m         results[i] \u001b[38;5;241m=\u001b[39m \u001b[38;5;28;43mself\u001b[39;49m\u001b[38;5;241;43m.\u001b[39;49m\u001b[43mfunc\u001b[49m\u001b[43m(\u001b[49m\u001b[43mv\u001b[49m\u001b[43m,\u001b[49m\u001b[43m \u001b[49m\u001b[38;5;241;43m*\u001b[39;49m\u001b[38;5;28;43mself\u001b[39;49m\u001b[38;5;241;43m.\u001b[39;49m\u001b[43margs\u001b[49m\u001b[43m,\u001b[49m\u001b[43m \u001b[49m\u001b[38;5;241;43m*\u001b[39;49m\u001b[38;5;241;43m*\u001b[39;49m\u001b[38;5;28;43mself\u001b[39;49m\u001b[38;5;241;43m.\u001b[39;49m\u001b[43mkwargs\u001b[49m\u001b[43m)\u001b[49m\n\u001b[1;32m   1082\u001b[0m         \u001b[38;5;28;01mif\u001b[39;00m \u001b[38;5;28misinstance\u001b[39m(results[i], ABCSeries):\n\u001b[1;32m   1083\u001b[0m             \u001b[38;5;66;03m# If we have a view on v, we need to make a copy because\u001b[39;00m\n\u001b[1;32m   1084\u001b[0m             \u001b[38;5;66;03m#  series_generator will swap out the underlying data\u001b[39;00m\n\u001b[1;32m   1085\u001b[0m             results[i] \u001b[38;5;241m=\u001b[39m results[i]\u001b[38;5;241m.\u001b[39mcopy(deep\u001b[38;5;241m=\u001b[39m\u001b[38;5;28;01mFalse\u001b[39;00m)\n",
      "Cell \u001b[0;32mIn[25], line 14\u001b[0m, in \u001b[0;36m<lambda>\u001b[0;34m(r)\u001b[0m\n\u001b[1;32m     11\u001b[0m     \u001b[38;5;66;03m# Return just the FEN of the board\u001b[39;00m\n\u001b[1;32m     12\u001b[0m     \u001b[38;5;28;01mreturn\u001b[39;00m board\u001b[38;5;241m.\u001b[39mboard_fen()\n\u001b[0;32m---> 14\u001b[0m df[\u001b[38;5;124m\"\u001b[39m\u001b[38;5;124mwhite_to_play_FEN\u001b[39m\u001b[38;5;124m\"\u001b[39m] \u001b[38;5;241m=\u001b[39m df\u001b[38;5;241m.\u001b[39mapply(\u001b[38;5;28;01mlambda\u001b[39;00m r: \u001b[43mfen_play_first_move_and_force_white\u001b[49m\u001b[43m(\u001b[49m\u001b[43mr\u001b[49m\u001b[43m[\u001b[49m\u001b[38;5;124;43m\"\u001b[39;49m\u001b[38;5;124;43mFEN\u001b[39;49m\u001b[38;5;124;43m\"\u001b[39;49m\u001b[43m]\u001b[49m\u001b[43m,\u001b[49m\u001b[43m \u001b[49m\u001b[43mr\u001b[49m\u001b[43m[\u001b[49m\u001b[38;5;124;43m\"\u001b[39;49m\u001b[38;5;124;43mMoves\u001b[39;49m\u001b[38;5;124;43m\"\u001b[39;49m\u001b[43m]\u001b[49m\u001b[43m)\u001b[49m, axis\u001b[38;5;241m=\u001b[39m\u001b[38;5;241m1\u001b[39m)\n",
      "Cell \u001b[0;32mIn[25], line 2\u001b[0m, in \u001b[0;36mfen_play_first_move_and_force_white\u001b[0;34m(fen, moves)\u001b[0m\n\u001b[1;32m      1\u001b[0m \u001b[38;5;28;01mdef\u001b[39;00m \u001b[38;5;21mfen_play_first_move_and_force_white\u001b[39m(fen, moves):\n\u001b[0;32m----> 2\u001b[0m     board \u001b[38;5;241m=\u001b[39m \u001b[43mchess\u001b[49m\u001b[38;5;241;43m.\u001b[39;49m\u001b[43mBoard\u001b[49m\u001b[43m(\u001b[49m\u001b[43mfen\u001b[49m\u001b[43m)\u001b[49m\n\u001b[1;32m      3\u001b[0m     first_move \u001b[38;5;241m=\u001b[39m moves\u001b[38;5;241m.\u001b[39msplit()[\u001b[38;5;241m0\u001b[39m]\n\u001b[1;32m      4\u001b[0m     \u001b[38;5;66;03m# Play the first move of the puzzle, actually setting it up\u001b[39;00m\n",
      "File \u001b[0;32m/vol/bitbucket/ms2320/chess-analysis/src/venv/lib/python3.10/site-packages/chess/__init__.py:1598\u001b[0m, in \u001b[0;36mBoard.__init__\u001b[0;34m(self, fen, chess960)\u001b[0m\n\u001b[1;32m   1596\u001b[0m     \u001b[38;5;28mself\u001b[39m\u001b[38;5;241m.\u001b[39mreset()\n\u001b[1;32m   1597\u001b[0m \u001b[38;5;28;01melse\u001b[39;00m:\n\u001b[0;32m-> 1598\u001b[0m     \u001b[38;5;28;43mself\u001b[39;49m\u001b[38;5;241;43m.\u001b[39;49m\u001b[43mset_fen\u001b[49m\u001b[43m(\u001b[49m\u001b[43mfen\u001b[49m\u001b[43m)\u001b[49m\n",
      "File \u001b[0;32m/vol/bitbucket/ms2320/chess-analysis/src/venv/lib/python3.10/site-packages/chess/__init__.py:2536\u001b[0m, in \u001b[0;36mBoard.set_fen\u001b[0;34m(self, fen)\u001b[0m\n\u001b[1;32m   2533\u001b[0m     \u001b[38;5;28;01mraise\u001b[39;00m \u001b[38;5;167;01mValueError\u001b[39;00m(\u001b[38;5;124mf\u001b[39m\u001b[38;5;124m\"\u001b[39m\u001b[38;5;124mfen string has more parts than expected: \u001b[39m\u001b[38;5;132;01m{\u001b[39;00mfen\u001b[38;5;132;01m!r}\u001b[39;00m\u001b[38;5;124m\"\u001b[39m)\n\u001b[1;32m   2535\u001b[0m \u001b[38;5;66;03m# Validate the board part and set it.\u001b[39;00m\n\u001b[0;32m-> 2536\u001b[0m \u001b[38;5;28;43mself\u001b[39;49m\u001b[38;5;241;43m.\u001b[39;49m\u001b[43m_set_board_fen\u001b[49m\u001b[43m(\u001b[49m\u001b[43mboard_part\u001b[49m\u001b[43m)\u001b[49m\n\u001b[1;32m   2538\u001b[0m \u001b[38;5;66;03m# Apply.\u001b[39;00m\n\u001b[1;32m   2539\u001b[0m \u001b[38;5;28mself\u001b[39m\u001b[38;5;241m.\u001b[39mturn \u001b[38;5;241m=\u001b[39m turn\n",
      "File \u001b[0;32m/vol/bitbucket/ms2320/chess-analysis/src/venv/lib/python3.10/site-packages/chess/__init__.py:1059\u001b[0m, in \u001b[0;36mBaseBoard._set_board_fen\u001b[0;34m(self, fen)\u001b[0m\n\u001b[1;32m   1057\u001b[0m \u001b[38;5;28;01melif\u001b[39;00m c\u001b[38;5;241m.\u001b[39mlower() \u001b[38;5;129;01min\u001b[39;00m PIECE_SYMBOLS:\n\u001b[1;32m   1058\u001b[0m     piece \u001b[38;5;241m=\u001b[39m Piece\u001b[38;5;241m.\u001b[39mfrom_symbol(c)\n\u001b[0;32m-> 1059\u001b[0m     \u001b[38;5;28;43mself\u001b[39;49m\u001b[38;5;241;43m.\u001b[39;49m\u001b[43m_set_piece_at\u001b[49m\u001b[43m(\u001b[49m\u001b[43mSQUARES_180\u001b[49m\u001b[43m[\u001b[49m\u001b[43msquare_index\u001b[49m\u001b[43m]\u001b[49m\u001b[43m,\u001b[49m\u001b[43m \u001b[49m\u001b[43mpiece\u001b[49m\u001b[38;5;241;43m.\u001b[39;49m\u001b[43mpiece_type\u001b[49m\u001b[43m,\u001b[49m\u001b[43m \u001b[49m\u001b[43mpiece\u001b[49m\u001b[38;5;241;43m.\u001b[39;49m\u001b[43mcolor\u001b[49m\u001b[43m)\u001b[49m\n\u001b[1;32m   1060\u001b[0m     square_index \u001b[38;5;241m+\u001b[39m\u001b[38;5;241m=\u001b[39m \u001b[38;5;241m1\u001b[39m\n\u001b[1;32m   1061\u001b[0m \u001b[38;5;28;01melif\u001b[39;00m c \u001b[38;5;241m==\u001b[39m \u001b[38;5;124m\"\u001b[39m\u001b[38;5;124m~\u001b[39m\u001b[38;5;124m\"\u001b[39m:\n",
      "File \u001b[0;32m/vol/bitbucket/ms2320/chess-analysis/src/venv/lib/python3.10/site-packages/chess/__init__.py:962\u001b[0m, in \u001b[0;36mBaseBoard._set_piece_at\u001b[0;34m(self, square, piece_type, color, promoted)\u001b[0m\n\u001b[1;32m    959\u001b[0m \u001b[38;5;28mself\u001b[39m\u001b[38;5;241m.\u001b[39moccupied \u001b[38;5;241m^\u001b[39m\u001b[38;5;241m=\u001b[39m mask\n\u001b[1;32m    960\u001b[0m \u001b[38;5;28mself\u001b[39m\u001b[38;5;241m.\u001b[39moccupied_co[color] \u001b[38;5;241m^\u001b[39m\u001b[38;5;241m=\u001b[39m mask\n\u001b[0;32m--> 962\u001b[0m \u001b[38;5;28;01mif\u001b[39;00m promoted:\n\u001b[1;32m    963\u001b[0m     \u001b[38;5;28mself\u001b[39m\u001b[38;5;241m.\u001b[39mpromoted \u001b[38;5;241m^\u001b[39m\u001b[38;5;241m=\u001b[39m mask\n",
      "\u001b[0;31mKeyboardInterrupt\u001b[0m: "
     ]
    }
   ],
   "source": [
    "def fen_play_first_move_and_force_white(fen, moves):\n",
    "    board = chess.Board(fen)\n",
    "    first_move = moves.split()[0]\n",
    "    # Play the first move of the puzzle, actually setting it up\n",
    "    board.push_uci(first_move)\n",
    "    \n",
    "    # Flip the board if it is black to move\n",
    "    if board.turn == chess.BLACK:\n",
    "        board.apply_mirror()\n",
    "    \n",
    "    # Return just the FEN of the board\n",
    "    return board.board_fen()\n",
    "\n",
    "df[\"white_to_play_FEN\"] = df.apply(lambda r: fen_play_first_move_and_force_white(r[\"FEN\"], r[\"Moves\"]), axis=1)"
   ]
  },
  {
   "cell_type": "code",
   "execution_count": 4,
   "metadata": {
    "metadata": {}
   },
   "outputs": [],
   "source": [
    "# Create one hot encoding of the themes\n",
    "one_hots = df[\"Themes\"].str.get_dummies(sep=\" \")\n",
    "df = df.join(one_hots)"
   ]
  },
  {
   "cell_type": "code",
   "execution_count": 36,
   "metadata": {
    "metadata": {}
   },
   "outputs": [],
   "source": [
    "# Histogram of ratings\n",
    "plt.hist(df[\"Rating\"], bins=[n*25 for n in range(140)])\n",
    "plt.ylabel(\"Count\")\n",
    "plt.xlabel(f\"Glicko2 puzzle rating (min={df['Rating'].min()}, max={df['Rating'].max()})\")\n",
    "plt.title(\"Histogram of lichess.org puzzle ratings\")\n",
    "plt.savefig(\"../report/project/img/puzzle_histogram.png\", dpi=250, bbox_inches=\"tight\")\n",
    "plt.close()\n",
    "\n",
    "# Theme counts\n",
    "all_themes = [(t, df[t].sum()) for t in df.columns \n",
    "    if t not in [\"FEN\", \"Moves\", \"Rating\", \"Themes\", \"white_to_play_FEN\"]]\n",
    "\n",
    "all_themes = sorted(all_themes, key=lambda x: x[1])\n",
    "plt.figure().set_figheight(4.8*3)\n",
    "plt.barh(*zip(*all_themes))\n",
    "plt.ylabel(f\"Theme (total themes={len(all_themes)})\")\n",
    "plt.xlabel(\"Count\")\n",
    "plt.title(\"Counts of all themes in the lichess.org puzzle database\")\n",
    "plt.savefig(\"../report/project/img/puzzle_theme_counts.png\", dpi=250, bbox_inches=\"tight\")\n",
    "plt.close()\n",
    "\n",
    "# Stacked histogram of some themes\n",
    "_themes = [\"backRankMate\", \"trappedPiece\", \"defensiveMove\"]\n",
    "plt.hist([df[df[t] == 1][\"Rating\"] for t in _themes],\n",
    "            bins=[n*50 for n in range(70)], \n",
    "            label=_themes)\n",
    "\n",
    "plt.ylabel(\"Count\")\n",
    "plt.xlabel(f\"Glicko2 puzzle rating (min={df['Rating'].min()}, max={df['Rating'].max()})\")\n",
    "plt.title(\"Histogram of lichess.org puzzle ratings with specific themes\")\n",
    "plt.legend()\n",
    "plt.savefig(\"../report/project/img/puzzle_theme_histograms.png\", dpi=250, bbox_inches=\"tight\")\n",
    "plt.close()"
   ]
  },
  {
   "cell_type": "code",
   "execution_count": null,
   "metadata": {
    "metadata": {}
   },
   "outputs": [],
   "source": [
    "# 80/20 split train/test\n",
    "train = df.sample(frac=0.8, random_state=1337)\n",
    "test = df.drop(train.index)\n",
    "\n",
    "train.to_csv(\"lichess_db_puzzle_train.csv\")\n",
    "test.to_csv(\"lichess_db_puzzle_test.csv\")"
   ]
  }
 ],
 "metadata": {
  "kernelspec": {
   "display_name": "venv",
   "language": "python",
   "name": "python3"
  },
  "language_info": {
   "codemirror_mode": {
    "name": "ipython",
    "version": 3
   },
   "file_extension": ".py",
   "mimetype": "text/x-python",
   "name": "python",
   "nbconvert_exporter": "python",
   "pygments_lexer": "ipython3",
   "version": "3.10.12"
  }
 },
 "nbformat": 4,
 "nbformat_minor": 2
}
