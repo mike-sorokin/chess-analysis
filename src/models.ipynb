{
 "cells": [
  {
   "cell_type": "code",
   "execution_count": 21,
   "metadata": {},
   "outputs": [],
   "source": [
    "import pandas as pd\n",
    "import torch\n",
    "import torch.nn as nn\n",
    "import torch.nn.functional as F\n",
    "import chess\n",
    "from itertools import product\n",
    "from torch.utils.data import Dataset, DataLoader"
   ]
  },
  {
   "cell_type": "code",
   "execution_count": 22,
   "metadata": {},
   "outputs": [],
   "source": [
    "PIECES = \"pPnNbBrRqQkK\"\n",
    "_THEMES = [\"advancedPawn\", \"advantage\", \"anastasiaMate\", \"arabianMate\", \"attackingF2F7\", \"attraction\", \"backRankMate\", \"bishopEndgame\", \"bodenMate\", \"capturingDefender\", \"castling\", \"clearance\", \"crushing\", \"defensiveMove\", \"deflection\", \"discoveredAttack\", \"doubleBishopMate\", \"doubleCheck\", \"dovetailMate\", \"enPassant\", \"endgame\", \"equality\", \"exposedKing\", \"fork\", \"hangingPiece\", \"hookMate\", \"interference\", \"intermezzo\", \"kingsideAttack\", \"knightEndgame\", \"long\", \"master\", \"masterVsMaster\", \"mate\", \"mateIn1\", \"mateIn2\", \"mateIn3\", \"mateIn4\", \"mateIn5\", \"middlegame\", \"oneMove\", \"opening\", \"pawnEndgame\", \"pin\", \"promotion\", \"queenEndgame\", \"queenRookEndgame\", \"queensideAttack\", \"quietMove\", \"rookEndgame\", \"sacrifice\", \"short\", \"skewer\", \"smotheredMate\", \"superGM\", \"trappedPiece\", \"underPromotion\", \"veryLong\", \"xRayAttack\", \"zugzwang\"]\n",
    "\n",
    "def bitboards_to_fen(bbs: torch.Tensor) -> str:\n",
    "    \"\"\"Given a 12x8x8 tensor of pPnNbBrRqQkK bitboards, convert it to FEN\"\"\"\n",
    "    assert bbs.shape == (12, 8, 8)\n",
    "    board = chess.BaseBoard.empty()\n",
    "\n",
    "    for p_idx, sq_rank, sq_file in (bbs == 1).nonzero():\n",
    "        piece = chess.Piece.from_symbol(PIECES[p_idx])\n",
    "        square = chess.square(sq_file, sq_rank)\n",
    "        board.set_piece_at(square, piece)\n",
    "    \n",
    "    return board.board_fen()\n",
    "\n",
    "\n",
    "        \n",
    "def fen_to_bitboards(fen: str) -> torch.Tensor:\n",
    "    \"\"\"Given a FEN string, convert it to a 12x8x8 tensor of pPnNbBrRqQkK bitboards.\"\"\"\n",
    "    # Defensively split fen string, just in case\n",
    "    fen = fen.split()[0]\n",
    "    \n",
    "    board = chess.BaseBoard(fen)\n",
    "    bbs = torch.zeros((12, 8, 8))\n",
    "\n",
    "    for sq, piece in board.piece_map().items():\n",
    "        sq_rank, sq_file = chess.square_rank(sq), chess.square_file(sq)\n",
    "        # p -> 0, P -> 1, n -> 2, N -> 3, ... k -> 10, K -> 11\n",
    "        p_idx = (piece.piece_type - 1) * 2 + piece.color\n",
    "        \n",
    "        bbs[p_idx, sq_rank, sq_file] = 1\n",
    "    \n",
    "    return bbs\n",
    "\n",
    "\n",
    "\n",
    "class ChessPuzzleDataset(Dataset):\n",
    "    def __init__(self, filename=\"lichess_db_puzzle_processed.csv\", themes=_THEMES):\n",
    "        self.df = pd.read_csv(filename)\n",
    "        self.themes = themes\n",
    "    \n",
    "    def __len__(self):\n",
    "        return len(self.df)\n",
    "    \n",
    "    def __getitem__(self, idx):\n",
    "        puzzle = self.df.iloc[idx]\n",
    "        bitboards = fen_to_bitboards(puzzle[\"FEN\"]) \n",
    "        themes = torch.tensor(puzzle[self.themes].values.astype(int))\n",
    "        return bitboards, themes\n"
   ]
  },
  {
   "cell_type": "code",
   "execution_count": 23,
   "metadata": {},
   "outputs": [],
   "source": [
    "train_dataloader = DataLoader(ChessPuzzleDataset(\"lichess_db_puzzle_train.csv\"), batch_size=1)\n",
    "test_dataloader = DataLoader(ChessPuzzleDataset(\"lichess_db_puzzle_test.csv\"), batch_size=1, shuffle=True)"
   ]
  },
  {
   "cell_type": "code",
   "execution_count": 44,
   "metadata": {},
   "outputs": [],
   "source": [
    "class ChessNN(nn.Module):\n",
    "    def __init__(self, prep_channels: list, prep_activation, label_num=len(_THEMES)):\n",
    "        super().__init__()\n",
    "        # Define preprocessing with 1x1 conv2ds\n",
    "        # 12 is the number of chess pieces magic number\n",
    "        channels = zip([12] + prep_channels, prep_channels)\n",
    "        self.prep = nn.Sequential(\n",
    "            *[nn.Sequential(\n",
    "                nn.Conv2d(c_in, c_out, kernel_size=1),\n",
    "                prep_activation)\n",
    "                for c_in, c_out in channels]\n",
    "        )\n",
    "        # Define transformer stack\n",
    "        H = prep_channels[-1]\n",
    "        enc_layer = nn.TransformerEncoderLayer(\n",
    "            d_model=H,\n",
    "            nhead=8,\n",
    "            dim_feedforward=2048,\n",
    "            dropout=0.1,\n",
    "            activation=nn.ReLU(),\n",
    "            batch_first=True,\n",
    "        )\n",
    "        self.transformer = nn.TransformerEncoder(enc_layer, 12)\n",
    "        \n",
    "        # Transform to labels now\n",
    "        self.final_cast = nn.Linear(H*64, label_num)\n",
    "\n",
    "    def forward(self, x):\n",
    "        # x.shape = B,12,8,8\n",
    "        h = self.prep(x)\n",
    "        # h.shape = B,H,8,8\n",
    "        h1 = torch.flatten(h, 2, 3).mT\n",
    "        # h1.shape = B,64,H\n",
    "        h2 = self.transformer(h1)\n",
    "        # h2.shape = B,64,H\n",
    "        h3 = torch.flatten(h2, 1, 2)\n",
    "        # h3.shape = B,64H\n",
    "        h4 = self.final_cast(h3)\n",
    "        return F.sigmoid(h4) \n",
    "\n",
    "    @staticmethod\n",
    "    def to_labels(y):\n",
    "        y = torch.squeeze(y)\n",
    "        return [\n",
    "            (_THEMES[idx.item()], v.item()) for v, idx in zip(*torch.topk(y, 5))\n",
    "        ]\n",
    "\n",
    "    \n",
    "    def total_params(self):\n",
    "        return sum(p.numel() for p in self.parameters() if p.requires_grad)\n"
   ]
  },
  {
   "cell_type": "code",
   "execution_count": 46,
   "metadata": {},
   "outputs": [
    {
     "name": "stdout",
     "output_type": "stream",
     "text": [
      "16808172\n"
     ]
    }
   ],
   "source": [
    "chessnet = ChessNN([16, 32, 64, 128, 256], nn.ReLU())\n",
    "print(chessnet.total_params())\n"
   ]
  },
  {
   "cell_type": "code",
   "execution_count": null,
   "metadata": {},
   "outputs": [],
   "source": []
  }
 ],
 "metadata": {
  "kernelspec": {
   "display_name": "venv",
   "language": "python",
   "name": "python3"
  },
  "language_info": {
   "codemirror_mode": {
    "name": "ipython",
    "version": 3
   },
   "file_extension": ".py",
   "mimetype": "text/x-python",
   "name": "python",
   "nbconvert_exporter": "python",
   "pygments_lexer": "ipython3",
   "version": "3.11.8"
  }
 },
 "nbformat": 4,
 "nbformat_minor": 2
}
