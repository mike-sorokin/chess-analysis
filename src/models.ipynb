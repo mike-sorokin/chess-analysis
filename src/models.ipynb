{
 "cells": [
  {
   "cell_type": "code",
   "execution_count": 94,
   "metadata": {},
   "outputs": [],
   "source": [
    "import pandas as pd\n",
    "import torch\n",
    "import chess\n",
    "from itertools import product\n",
    "from torch.utils.data import Dataset, DataLoader"
   ]
  },
  {
   "cell_type": "code",
   "execution_count": 98,
   "metadata": {},
   "outputs": [],
   "source": [
    "PIECES = \"pPnNbBrRqQkK\"\n",
    "_THEMES = [\"advancedPawn\", \"advantage\", \"anastasiaMate\", \"arabianMate\", \"attackingF2F7\", \"attraction\", \"backRankMate\", \"bishopEndgame\", \"bodenMate\", \"capturingDefender\", \"castling\", \"clearance\", \"crushing\", \"defensiveMove\", \"deflection\", \"discoveredAttack\", \"doubleBishopMate\", \"doubleCheck\", \"dovetailMate\", \"enPassant\", \"endgame\", \"equality\", \"exposedKing\", \"fork\", \"hangingPiece\", \"hookMate\", \"interference\", \"intermezzo\", \"kingsideAttack\", \"knightEndgame\", \"long\", \"master\", \"masterVsMaster\", \"mate\", \"mateIn1\", \"mateIn2\", \"mateIn3\", \"mateIn4\", \"mateIn5\", \"middlegame\", \"oneMove\", \"opening\", \"pawnEndgame\", \"pin\", \"promotion\", \"queenEndgame\", \"queenRookEndgame\", \"queensideAttack\", \"quietMove\", \"rookEndgame\", \"sacrifice\", \"short\", \"skewer\", \"smotheredMate\", \"superGM\", \"trappedPiece\", \"underPromotion\", \"veryLong\", \"xRayAttack\", \"zugzwang\"]\n",
    "\n",
    "def bitboards_to_fen(bbs: torch.Tensor) -> str:\n",
    "    \"\"\"Given a 12x8x8 tensor of pPnNbBrRqQkK bitboards, convert it to FEN\"\"\"\n",
    "    assert bbs.shape == (12, 8, 8)\n",
    "    board = chess.BaseBoard.empty()\n",
    "\n",
    "    for p_idx, sq_rank, sq_file in (bbs == 1).nonzero():\n",
    "        piece = chess.Piece.from_symbol(PIECES[p_idx])\n",
    "        square = chess.square(sq_file, sq_rank)\n",
    "        board.set_piece_at(square, piece)\n",
    "    \n",
    "    return board.board_fen()\n",
    "\n",
    "\n",
    "        \n",
    "def fen_to_bitboards(fen: str) -> torch.Tensor:\n",
    "    \"\"\"Given a FEN string, convert it to a 12x8x8 tensor of pPnNbBrRqQkK bitboards.\"\"\"\n",
    "    # Defensively split fen string, just in case\n",
    "    fen = fen.split()[0]\n",
    "    \n",
    "    board = chess.BaseBoard(fen)\n",
    "    bbs = torch.zeros((12, 8, 8))\n",
    "\n",
    "    for sq, piece in board.piece_map().items():\n",
    "        sq_rank, sq_file = chess.square_rank(sq), chess.square_file(sq)\n",
    "        # p -> 0, P -> 1, n -> 2, N -> 3, ... k -> 10, K -> 11\n",
    "        p_idx = (piece.piece_type - 1) * 2 + piece.color\n",
    "        \n",
    "        bbs[p_idx, sq_rank, sq_file] = 1\n",
    "    \n",
    "    return bbs\n",
    "\n",
    "\n",
    "\n",
    "class ChessPuzzleDataset(Dataset):\n",
    "    def __init__(self, filename=\"lichess_db_puzzle_processed.csv\", themes=_THEMES):\n",
    "        self.df = pd.read_csv(filename)\n",
    "        self.themes = themes\n",
    "    \n",
    "    def __len__(self):\n",
    "        return len(self.df)\n",
    "    \n",
    "    def __getitem__(self, idx):\n",
    "        puzzle = self.df.iloc[idx]\n",
    "        bitboards = fen_to_bitboards(puzzle[\"FEN\"]) \n",
    "        themes = torch.tensor(puzzle[self.themes].values.astype(int))\n",
    "        return bitboards, themes\n"
   ]
  },
  {
   "cell_type": "code",
   "execution_count": 99,
   "metadata": {},
   "outputs": [],
   "source": [
    "train_dataloader = DataLoader(ChessPuzzleDataset(\"lichess_db_puzzle_train.csv\"), batch_size=1)\n",
    "test_dataloader = DataLoader(ChessPuzzleDataset(\"lichess_db_puzzle_test.csv\"), batch_size=1, shuffle=True)"
   ]
  }
 ],
 "metadata": {
  "kernelspec": {
   "display_name": "venv",
   "language": "python",
   "name": "python3"
  },
  "language_info": {
   "codemirror_mode": {
    "name": "ipython",
    "version": 3
   },
   "file_extension": ".py",
   "mimetype": "text/x-python",
   "name": "python",
   "nbconvert_exporter": "python",
   "pygments_lexer": "ipython3",
   "version": "3.11.8"
  }
 },
 "nbformat": 4,
 "nbformat_minor": 2
}
