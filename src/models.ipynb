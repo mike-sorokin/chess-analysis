{
 "cells": [
  {
   "cell_type": "code",
   "execution_count": 1,
   "metadata": {
    "metadata": {}
   },
   "outputs": [],
   "source": [
    "import pandas as pd\n",
    "import torch\n",
    "import torch.nn as nn\n",
    "import torch.nn.functional as F\n",
    "import chess\n",
    "from tqdm import tqdm\n",
    "from itertools import product\n",
    "from torch.utils.data import Dataset, DataLoader"
   ]
  },
  {
   "cell_type": "code",
   "execution_count": 2,
   "metadata": {
    "metadata": {}
   },
   "outputs": [],
   "source": [
    "PIECES = \"pPnNbBrRqQkK\"\n",
    "_THEMES = [\"advancedPawn\", \"anastasiaMate\", \"arabianMate\", \"attackingF2F7\", \"attraction\", \"backRankMate\", \"bishopEndgame\", \"bodenMate\", \"capturingDefender\", \"castling\", \"clearance\", \"defensiveMove\", \"deflection\", \"discoveredAttack\", \"doubleBishopMate\", \"doubleCheck\", \"dovetailMate\", \"enPassant\", \"equality\", \"exposedKing\", \"fork\", \"hangingPiece\", \"hookMate\", \"interference\", \"intermezzo\", \"kingsideAttack\", \"knightEndgame\", \"master\", \"masterVsMaster\", \"mate\", \"mateIn1\", \"mateIn2\", \"mateIn3\", \"mateIn4\", \"mateIn5\", \"oneMove\", \"opening\", \"pawnEndgame\", \"pin\", \"promotion\", \"queenEndgame\", \"queenRookEndgame\", \"queensideAttack\", \"quietMove\", \"rookEndgame\", \"sacrifice\", \"skewer\", \"smotheredMate\", \"superGM\", \"trappedPiece\", \"underPromotion\", \"xRayAttack\", \"zugzwang\"]\n",
    "DEVICE = \"cuda\" if torch.cuda.is_available() else \"cpu\"\n",
    "\n",
    "def bitboards_to_fen(bbs: torch.Tensor) -> str:\n",
    "    \"\"\"Given a 12x8x8 tensor of pPnNbBrRqQkK bitboards, convert it to FEN\"\"\"\n",
    "    assert bbs.shape == (12, 8, 8)\n",
    "    board = chess.BaseBoard.empty()\n",
    "\n",
    "    for p_idx, sq_rank, sq_file in (bbs == 1).nonzero():\n",
    "        piece = chess.Piece.from_symbol(PIECES[p_idx])\n",
    "        square = chess.square(sq_file, sq_rank)\n",
    "        board.set_piece_at(square, piece)\n",
    "    \n",
    "    return board.board_fen()\n",
    "\n",
    "\n",
    "        \n",
    "def fen_to_bitboards(fen: str) -> torch.Tensor:\n",
    "    \"\"\"Given a FEN string, convert it to a 12x8x8 tensor of pPnNbBrRqQkK bitboards.\"\"\"\n",
    "    # Defensively split fen string, just in case\n",
    "    board = chess.BaseBoard(fen)\n",
    "    bbs = torch.zeros((12, 8, 8))\n",
    "\n",
    "    for sq, piece in board.piece_map().items():\n",
    "        sq_rank, sq_file = chess.square_rank(sq), chess.square_file(sq)\n",
    "        # p -> 0, P -> 1, n -> 2, N -> 3, ... k -> 10, K -> 11\n",
    "        p_idx = (piece.piece_type - 1) * 2 + piece.color\n",
    "        \n",
    "        bbs[p_idx, sq_rank, sq_file] = 1\n",
    "    \n",
    "    return bbs\n",
    "\n",
    "\n",
    "\n",
    "class ChessPuzzleDataset(Dataset):\n",
    "    def __init__(self, filename=\"lichess_db_puzzle_processed.csv\", themes=_THEMES):\n",
    "        self.df = pd.read_csv(filename)\n",
    "        self.themes = themes\n",
    "    \n",
    "    def __len__(self):\n",
    "        return len(self.df)\n",
    "    \n",
    "    def __getitem__(self, idx):\n",
    "        puzzle = self.df.iloc[idx]\n",
    "        bitboards = fen_to_bitboards(puzzle[\"white_to_play_FEN\"]) \n",
    "        themes = torch.tensor(puzzle[self.themes].values.astype(int))\n",
    "        return bitboards, themes\n"
   ]
  },
  {
   "cell_type": "code",
   "execution_count": 3,
   "metadata": {
    "metadata": {}
   },
   "outputs": [],
   "source": [
    "train_dataloader = DataLoader(ChessPuzzleDataset(\"lichess_db_puzzle_train.csv\"), batch_size=128)\n",
    "test_dataloader = DataLoader(ChessPuzzleDataset(\"lichess_db_puzzle_test.csv\"), batch_size=128, shuffle=True)"
   ]
  },
  {
   "cell_type": "code",
   "execution_count": 5,
   "metadata": {
    "metadata": {}
   },
   "outputs": [],
   "source": [
    "class ChessNN(nn.Module):\n",
    "    def __init__(self, prep_channels: list, prep_activation, label_num=len(_THEMES)):\n",
    "        super().__init__()\n",
    "        # Define preprocessing with 8x8 conv2ds\n",
    "        # 12 is the number of chess pieces magic number\n",
    "        channels = zip([12] + prep_channels, prep_channels)\n",
    "        self.prep = nn.Sequential(\n",
    "            *[nn.Sequential(\n",
    "                nn.Conv2d(c_in, c_out, kernel_size=8, padding=\"same\", padding_mode=\"reflect\"),\n",
    "                prep_activation)\n",
    "                for c_in, c_out in channels]\n",
    "        )\n",
    "        # Define transformer stack\n",
    "        H = prep_channels[-1]\n",
    "        enc_layer = nn.TransformerEncoderLayer(\n",
    "            d_model=H,\n",
    "            nhead=128,\n",
    "            dim_feedforward=8192,\n",
    "            dropout=0.1,\n",
    "            activation=nn.ReLU(),\n",
    "            batch_first=True,\n",
    "        )\n",
    "        self.transformer = nn.TransformerEncoder(enc_layer, 5)\n",
    "        \n",
    "        # Transform to labels now\n",
    "        self.fc = nn.Linear(H*64, label_num)\n",
    "\n",
    "        # Tracking losses\n",
    "        self.batch_losses = []\n",
    "        self.epoch_train_losses = []\n",
    "        self.epoch_test_losses = []\n",
    "\n",
    "    def forward(self, x):\n",
    "        # x.shape = B,12,8,8\n",
    "        h = self.prep(x)\n",
    "        # h.shape = B,H,8,8\n",
    "        h1 = torch.flatten(h, 2, 3).mT\n",
    "        # h1.shape = B,64,H\n",
    "        h2 = self.transformer(h1)\n",
    "        # h2.shape = B,64,H\n",
    "        h3 = torch.flatten(h2, 1, 2)\n",
    "        # h3.shape = B,64H\n",
    "        h4 = self.fc(h3)\n",
    "        return h4\n",
    "\n",
    "    @staticmethod\n",
    "    def to_labels(y):\n",
    "        return [\n",
    "            (_THEMES[idx.item()], v.item()) \n",
    "            for v, idx in zip(*torch.topk(torch.squeeze(F.sigmoid(y)), 5))\n",
    "        ]\n",
    "\n",
    "    \n",
    "    def total_params(self):\n",
    "        return sum(p.numel() for p in self.parameters() if p.requires_grad)\n"
   ]
  },
  {
   "cell_type": "code",
   "execution_count": 21,
   "metadata": {
    "metadata": {}
   },
   "outputs": [
    {
     "name": "stdout",
     "output_type": "stream",
     "text": [
      "Total params: 60046837\n"
     ]
    },
    {
     "name": "stderr",
     "output_type": "stream",
     "text": [
      "  2%|▏         | 421/23951 [05:01<4:42:17,  1.39batch/s, backrank, M2=['mate:0.310', 'mateIn2:0.218', 'sacrifice:0.094', 'fork:0.082', 'oneMove:0.080'], fork=['mate:0.236', 'mateIn2:0.150', 'fork:0.118', 'oneMove:0.094', 'sacrifice:0.092'], loss=0.103, pin, M1=['mate:0.447', 'mateIn2:0.274', 'kingsideAttack:0.244', 'oneMove:0.123', 'sacrifice:0.116']]                                                                             "
     ]
    }
   ],
   "source": [
    "CUSTOM_FENS = [\n",
    "    (\"6k1/5ppp/Q4q2/8/5b2/5N2/1rP2PPP/2R3K1\", \"backrank, M2\"),\n",
    "    (\"8/3brpr1/4pRpk/pp1pP1Rp/2pP3P/P1P5/2P1B1P1/6K1\", \"pin, M1\"),\n",
    "    (\"r3r1n1/bp6/p2p2kp/3N4/2P3n1/1PQ3Pq/P4P2/4RRK1\", \"fork\")\n",
    "]\n",
    "def train_loop(model: nn.Module, epochs: int):\n",
    "    print(\"Total params:\", model.total_params())\n",
    "    optim = torch.optim.Adam(model.parameters(), lr=1e-5)\n",
    "\n",
    "    model.to(DEVICE)\n",
    "    \n",
    "    for t in range(epochs):\n",
    "        model.train()\n",
    "        batch_losses = []\n",
    "        # Iterate over training dataset\n",
    "        for b, (data, label) in enumerate(tbatch := tqdm(train_dataloader, unit=\"batch\")):\n",
    "            data = data.to(DEVICE)\n",
    "            label = label.to(DEVICE)\n",
    "\n",
    "            y = model(data)\n",
    "            loss = F.binary_cross_entropy_with_logits(y, label.float())\n",
    "\n",
    "            optim.zero_grad()\n",
    "            loss.backward()\n",
    "            optim.step()\n",
    "\n",
    "            loss_item = loss.item()\n",
    "            batch_losses.append(loss_item)\n",
    "            model.batch_losses.append(loss_item)\n",
    "            if b % 10 == 0:\n",
    "                # Get prediction for custom FENs too\n",
    "                model.eval()\n",
    "\n",
    "                fens = {}\n",
    "                for f, theme in CUSTOM_FENS:\n",
    "                    bb = fen_to_bitboards(f)[None]\n",
    "                    pred = model.to_labels(model(bb.to(DEVICE)))\n",
    "                    fens[theme] = [f\"{k}:{v:.3f}\" for k, v in pred]\n",
    "                model.train()\n",
    "\n",
    "                tbatch.set_postfix(loss=loss_item, **fens)\n",
    "            \n",
    "        model.eval()\n",
    "        batch_test_losses = []\n",
    "        # Iterate over test dataset\n",
    "        for b, (data, label) in enumerate(tbatch := tqdm(test_dataloader, unit=\"batch\")):\n",
    "            data = data.to(DEVICE)\n",
    "            label = label.to(DEVICE)\n",
    "\n",
    "            y = model(data)\n",
    "            loss = F.binary_cross_entropy_with_logits(y, label.float())\n",
    "            loss_item = loss.item()\n",
    "            batch_test_losses.append(loss_item)\n",
    "            if b % 10 == 0:\n",
    "                tbatch.set_postfix(loss=loss_item)\n",
    "\n",
    "        # Save the model\n",
    "        torch.save({\n",
    "            \"epoch\": t,\n",
    "            \"model_state_dict\": model.state_dict(),\n",
    "            \"optimiser_state_dict\": optim.state_dict(),\n",
    "        }, f\"model_{t}.pth\")\n",
    "\n",
    "        # Average loss in epoch\n",
    "        avg_loss = sum(batch_losses) / len(batch_losses) \n",
    "        avg_test_loss = sum(batch_test_losses) / len(batch_test_losses)\n",
    "        model.epoch_train_losses.append(avg_loss)\n",
    "        model.epoch_test_losses.append(avg_test_loss)\n",
    "\n",
    "model = ChessNN([64, 128, 256, 512], nn.ReLU())\n",
    "train_loop(model, 10)"
   ]
  },
  {
   "cell_type": "code",
   "execution_count": 6,
   "metadata": {
    "metadata": {}
   },
   "outputs": [
    {
     "data": {
      "text/plain": [
       "<All keys matched successfully>"
      ]
     },
     "execution_count": 6,
     "metadata": {},
     "output_type": "execute_result"
    }
   ],
   "source": [
    "model = ChessNN([64, 128, 256, 512], nn.ReLU())\n",
    "checkpoint = torch.load(\"model_8.pth\")\n",
    "model.load_state_dict(checkpoint[\"model_state_dict\"])\n",
    "model.to(DEVICE)\n"
   ]
  },
  {
   "cell_type": "code",
   "execution_count": 23,
   "metadata": {
    "metadata": {}
   },
   "outputs": [
    {
     "name": "stdout",
     "output_type": "stream",
     "text": [
      "[('mate', 0.9988625049591064), ('mateIn2', 0.9982642531394958), ('backRankMate', 0.9273577332496643), ('xRayAttack', 0.20983801782131195), ('sacrifice', 0.08945082128047943)]\n",
      "[('mate', 0.17066384851932526), ('fork', 0.15374240279197693), ('capturingDefender', 0.10465613752603531), ('master', 0.07743911445140839), ('deflection', 0.05064989626407623)]\n",
      "[('fork', 0.7485860586166382), ('pin', 0.5237708687782288), ('master', 0.08492258191108704), ('masterVsMaster', 0.034428391605615616), ('hangingPiece', 0.032398976385593414)]\n",
      "[('opening', 0.9999942779541016), ('fork', 0.8114109039306641), ('advancedPawn', 0.15881244838237762), ('castling', 0.05270930752158165), ('defensiveMove', 0.04499756917357445)]\n",
      "[('mate', 0.9943329095840454), ('backRankMate', 0.929938018321991), ('mateIn2', 0.7910739779472351), ('mateIn3', 0.30065977573394775), ('fork', 0.2982390820980072)]\n",
      "[('sacrifice', 0.7257033586502075), ('mate', 0.5319075584411621), ('attraction', 0.10258003324270248), ('oneMove', 0.06250358372926712), ('defensiveMove', 0.058420050889253616)]\n",
      "[('mate', 0.7834296822547913), ('sacrifice', 0.3143555819988251), ('oneMove', 0.1524122655391693), ('mateIn1', 0.08999264240264893), ('mateIn3', 0.052542779594659805)]\n"
     ]
    }
   ],
   "source": [
    "fens = [\n",
    "    \"6k1/5ppp/Q4q2/8/5b2/5N2/1rP2PPP/2R3K1\", # backrank, M2\n",
    "    \"8/3brpr1/4pRpk/pp1pP1Rp/2pP3P/P1P5/2P1B1P1/6K1\", # pin, M1\n",
    "    \"r3r1n1/bp6/p2p2kp/3N4/2P3n1/1PQ3Pq/P4P2/4RRK1\", # fork\n",
    "    \"r1b1k1nr/pppp2pp/4Pq2/2b5/4p3/8/PPPP2PP/RNBQKB1R\", # queen fork\n",
    "    \"1k6/pp3p2/b4Npp/4r3/4P3/5P1K/Pr5P/2R5\", # fork AND backrank M2\n",
    "    \"2R5/4bppk/1p1p4/5R1P/4PQ2/5P2/r4q1P/7K\",\n",
    "    \"5R2/bp4pk/2n3p1/P7/P1q3bP/6P1/3Q3K/1R6\"\n",
    "]\n",
    "for f in fens:\n",
    "    bb = fen_to_bitboards(f)[None]\n",
    "    pred = model.to_labels(model(bb.to(DEVICE)))\n",
    "    print(pred)"
   ]
  }
 ],
 "metadata": {
  "kernelspec": {
   "display_name": "venv",
   "language": "python",
   "name": "python3"
  },
  "language_info": {
   "codemirror_mode": {
    "name": "ipython",
    "version": 3
   },
   "file_extension": ".py",
   "mimetype": "text/x-python",
   "name": "python",
   "nbconvert_exporter": "python",
   "pygments_lexer": "ipython3",
   "version": "3.10.12"
  }
 },
 "nbformat": 4,
 "nbformat_minor": 2
}
