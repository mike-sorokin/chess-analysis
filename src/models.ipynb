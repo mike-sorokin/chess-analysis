{
 "cells": [
  {
   "cell_type": "code",
   "execution_count": 1,
   "metadata": {},
   "outputs": [],
   "source": [
    "import pandas as pd\n",
    "import torch\n",
    "import torch.nn as nn\n",
    "import torch.nn.functional as F\n",
    "import chess\n",
    "from tqdm.notebook import tqdm\n",
    "from itertools import product\n",
    "from torch.utils.data import Dataset, DataLoader"
   ]
  },
  {
   "cell_type": "code",
   "execution_count": 2,
   "metadata": {},
   "outputs": [],
   "source": [
    "PIECES = \"pPnNbBrRqQkK\"\n",
    "_THEMES = [\"advancedPawn\", \"advantage\", \"anastasiaMate\", \"arabianMate\", \"attackingF2F7\", \"attraction\", \"backRankMate\", \"bishopEndgame\", \"bodenMate\", \"capturingDefender\", \"castling\", \"clearance\", \"crushing\", \"defensiveMove\", \"deflection\", \"discoveredAttack\", \"doubleBishopMate\", \"doubleCheck\", \"dovetailMate\", \"enPassant\", \"endgame\", \"equality\", \"exposedKing\", \"fork\", \"hangingPiece\", \"hookMate\", \"interference\", \"intermezzo\", \"kingsideAttack\", \"knightEndgame\", \"long\", \"master\", \"masterVsMaster\", \"mate\", \"mateIn1\", \"mateIn2\", \"mateIn3\", \"mateIn4\", \"mateIn5\", \"middlegame\", \"oneMove\", \"opening\", \"pawnEndgame\", \"pin\", \"promotion\", \"queenEndgame\", \"queenRookEndgame\", \"queensideAttack\", \"quietMove\", \"rookEndgame\", \"sacrifice\", \"short\", \"skewer\", \"smotheredMate\", \"superGM\", \"trappedPiece\", \"underPromotion\", \"veryLong\", \"xRayAttack\", \"zugzwang\"]\n",
    "\n",
    "def bitboards_to_fen(bbs: torch.Tensor) -> str:\n",
    "    \"\"\"Given a 12x8x8 tensor of pPnNbBrRqQkK bitboards, convert it to FEN\"\"\"\n",
    "    assert bbs.shape == (12, 8, 8)\n",
    "    board = chess.BaseBoard.empty()\n",
    "\n",
    "    for p_idx, sq_rank, sq_file in (bbs == 1).nonzero():\n",
    "        piece = chess.Piece.from_symbol(PIECES[p_idx])\n",
    "        square = chess.square(sq_file, sq_rank)\n",
    "        board.set_piece_at(square, piece)\n",
    "    \n",
    "    return board.board_fen()\n",
    "\n",
    "\n",
    "        \n",
    "def fen_to_bitboards(fen: str) -> torch.Tensor:\n",
    "    \"\"\"Given a FEN string, convert it to a 12x8x8 tensor of pPnNbBrRqQkK bitboards.\"\"\"\n",
    "    # Defensively split fen string, just in case\n",
    "    fen = fen.split()[0]\n",
    "    \n",
    "    board = chess.BaseBoard(fen)\n",
    "    bbs = torch.zeros((12, 8, 8))\n",
    "\n",
    "    for sq, piece in board.piece_map().items():\n",
    "        sq_rank, sq_file = chess.square_rank(sq), chess.square_file(sq)\n",
    "        # p -> 0, P -> 1, n -> 2, N -> 3, ... k -> 10, K -> 11\n",
    "        p_idx = (piece.piece_type - 1) * 2 + piece.color\n",
    "        \n",
    "        bbs[p_idx, sq_rank, sq_file] = 1\n",
    "    \n",
    "    return bbs\n",
    "\n",
    "\n",
    "\n",
    "class ChessPuzzleDataset(Dataset):\n",
    "    def __init__(self, filename=\"lichess_db_puzzle_processed.csv\", themes=_THEMES):\n",
    "        self.df = pd.read_csv(filename)\n",
    "        self.themes = themes\n",
    "    \n",
    "    def __len__(self):\n",
    "        return len(self.df)\n",
    "    \n",
    "    def __getitem__(self, idx):\n",
    "        puzzle = self.df.iloc[idx]\n",
    "        bitboards = fen_to_bitboards(puzzle[\"FEN\"]) \n",
    "        themes = torch.tensor(puzzle[self.themes].values.astype(int))\n",
    "        return bitboards, themes\n"
   ]
  },
  {
   "cell_type": "code",
   "execution_count": 3,
   "metadata": {},
   "outputs": [],
   "source": [
    "train_dataloader = DataLoader(ChessPuzzleDataset(\"lichess_db_puzzle_train.csv\"), batch_size=128)\n",
    "test_dataloader = DataLoader(ChessPuzzleDataset(\"lichess_db_puzzle_test.csv\"), batch_size=128, shuffle=True)"
   ]
  },
  {
   "cell_type": "code",
   "execution_count": 4,
   "metadata": {},
   "outputs": [],
   "source": [
    "class ChessNN(nn.Module):\n",
    "    def __init__(self, prep_channels: list, prep_activation, label_num=len(_THEMES)):\n",
    "        super().__init__()\n",
    "        # Define preprocessing with 1x1 conv2ds\n",
    "        # 12 is the number of chess pieces magic number\n",
    "        channels = zip([12] + prep_channels, prep_channels)\n",
    "        self.prep = nn.Sequential(\n",
    "            *[nn.Sequential(\n",
    "                nn.Conv2d(c_in, c_out, kernel_size=1),\n",
    "                prep_activation)\n",
    "                for c_in, c_out in channels]\n",
    "        )\n",
    "        # Define transformer stack\n",
    "        H = prep_channels[-1]\n",
    "        enc_layer = nn.TransformerEncoderLayer(\n",
    "            d_model=H,\n",
    "            nhead=8,\n",
    "            dim_feedforward=2048,\n",
    "            dropout=0.1,\n",
    "            activation=nn.ReLU(),\n",
    "            batch_first=True,\n",
    "        )\n",
    "        self.transformer = nn.TransformerEncoder(enc_layer, 3)\n",
    "        \n",
    "        # Transform to labels now\n",
    "        self.final_cast = nn.Linear(H*64, label_num)\n",
    "\n",
    "        # Tracking losses\n",
    "        self.batch_losses = []\n",
    "        self.epoch_train_losses = []\n",
    "        self.epoch_test_losses = []\n",
    "\n",
    "    def forward(self, x):\n",
    "        # x.shape = B,12,8,8\n",
    "        h = self.prep(x)\n",
    "        # h.shape = B,H,8,8\n",
    "        h1 = torch.flatten(h, 2, 3).mT\n",
    "        # h1.shape = B,64,H\n",
    "        h2 = self.transformer(h1)\n",
    "        # h2.shape = B,64,H\n",
    "        h3 = torch.flatten(h2, 1, 2)\n",
    "        # h3.shape = B,64H\n",
    "        h4 = self.final_cast(h3)\n",
    "        return h4\n",
    "\n",
    "    @staticmethod\n",
    "    def to_labels(y):\n",
    "        return [\n",
    "            (_THEMES[idx.item()], v.item()) \n",
    "            for v, idx in zip(*torch.topk(torch.squeeze(F.sigmoid(y)), 5))\n",
    "        ]\n",
    "\n",
    "    \n",
    "    def total_params(self):\n",
    "        return sum(p.numel() for p in self.parameters() if p.requires_grad)\n"
   ]
  },
  {
   "cell_type": "code",
   "execution_count": 5,
   "metadata": {},
   "outputs": [
    {
     "name": "stdout",
     "output_type": "stream",
     "text": [
      "Total params: 536204\n"
     ]
    },
    {
     "data": {
      "application/vnd.jupyter.widget-view+json": {
       "model_id": "f848e27ef34d4a2b9f6b4c245675b71c",
       "version_major": 2,
       "version_minor": 0
      },
      "text/plain": [
       "epoch:   0%|          | 0/100 [00:00<?, ?it/s]"
      ]
     },
     "metadata": {},
     "output_type": "display_data"
    },
    {
     "data": {
      "application/vnd.jupyter.widget-view+json": {
       "model_id": "60c6e2481e0044eb9d5e94a25f3494f3",
       "version_major": 2,
       "version_minor": 0
      },
      "text/plain": [
       "  0%|          | 0/23951 [00:00<?, ?batch/s]"
      ]
     },
     "metadata": {},
     "output_type": "display_data"
    },
    {
     "ename": "KeyboardInterrupt",
     "evalue": "",
     "output_type": "error",
     "traceback": [
      "\u001b[0;31m---------------------------------------------------------------------------\u001b[0m",
      "\u001b[0;31mKeyboardInterrupt\u001b[0m                         Traceback (most recent call last)",
      "\u001b[1;32m/home/ysera/root/education/uni/y4/t2/chess-analysis/src/models.ipynb Cell 5\u001b[0m line \u001b[0;36m4\n\u001b[1;32m     <a href='vscode-notebook-cell:/home/ysera/root/education/uni/y4/t2/chess-analysis/src/models.ipynb#W5sZmlsZQ%3D%3D?line=37'>38</a>\u001b[0m         model\u001b[39m.\u001b[39mepoch_test_losses\u001b[39m.\u001b[39mappend(avg_test_loss)\n\u001b[1;32m     <a href='vscode-notebook-cell:/home/ysera/root/education/uni/y4/t2/chess-analysis/src/models.ipynb#W5sZmlsZQ%3D%3D?line=38'>39</a>\u001b[0m         tepoch\u001b[39m.\u001b[39mset_postfix(train_loss\u001b[39m=\u001b[39mavg_loss, test_loss\u001b[39m=\u001b[39mavg_test_loss)\n\u001b[0;32m---> <a href='vscode-notebook-cell:/home/ysera/root/education/uni/y4/t2/chess-analysis/src/models.ipynb#W5sZmlsZQ%3D%3D?line=40'>41</a>\u001b[0m train_loop(ChessNN([\u001b[39m16\u001b[39;49m, \u001b[39m32\u001b[39;49m], nn\u001b[39m.\u001b[39;49mReLU()), \u001b[39m100\u001b[39;49m)\n",
      "\u001b[1;32m/home/ysera/root/education/uni/y4/t2/chess-analysis/src/models.ipynb Cell 5\u001b[0m line \u001b[0;36m1\n\u001b[1;32m      <a href='vscode-notebook-cell:/home/ysera/root/education/uni/y4/t2/chess-analysis/src/models.ipynb#W5sZmlsZQ%3D%3D?line=7'>8</a>\u001b[0m \u001b[39m# Iterate over training dataset\u001b[39;00m\n\u001b[1;32m      <a href='vscode-notebook-cell:/home/ysera/root/education/uni/y4/t2/chess-analysis/src/models.ipynb#W5sZmlsZQ%3D%3D?line=8'>9</a>\u001b[0m \u001b[39mfor\u001b[39;00m b, (data, label) \u001b[39min\u001b[39;00m \u001b[39menumerate\u001b[39m(tbatch \u001b[39m:=\u001b[39m tqdm(train_dataloader, leave\u001b[39m=\u001b[39m\u001b[39mFalse\u001b[39;00m, unit\u001b[39m=\u001b[39m\u001b[39m\"\u001b[39m\u001b[39mbatch\u001b[39m\u001b[39m\"\u001b[39m)):\n\u001b[0;32m---> <a href='vscode-notebook-cell:/home/ysera/root/education/uni/y4/t2/chess-analysis/src/models.ipynb#W5sZmlsZQ%3D%3D?line=9'>10</a>\u001b[0m     y \u001b[39m=\u001b[39m model(data)\n\u001b[1;32m     <a href='vscode-notebook-cell:/home/ysera/root/education/uni/y4/t2/chess-analysis/src/models.ipynb#W5sZmlsZQ%3D%3D?line=10'>11</a>\u001b[0m     loss \u001b[39m=\u001b[39m F\u001b[39m.\u001b[39mbinary_cross_entropy_with_logits(y, label\u001b[39m.\u001b[39mfloat())\n\u001b[1;32m     <a href='vscode-notebook-cell:/home/ysera/root/education/uni/y4/t2/chess-analysis/src/models.ipynb#W5sZmlsZQ%3D%3D?line=12'>13</a>\u001b[0m     optim\u001b[39m.\u001b[39mzero_grad()\n",
      "File \u001b[0;32m~/root/education/uni/y4/t2/chess-analysis/src/venv/lib64/python3.11/site-packages/torch/nn/modules/module.py:1511\u001b[0m, in \u001b[0;36mModule._wrapped_call_impl\u001b[0;34m(self, *args, **kwargs)\u001b[0m\n\u001b[1;32m   1509\u001b[0m     \u001b[39mreturn\u001b[39;00m \u001b[39mself\u001b[39m\u001b[39m.\u001b[39m_compiled_call_impl(\u001b[39m*\u001b[39margs, \u001b[39m*\u001b[39m\u001b[39m*\u001b[39mkwargs)  \u001b[39m# type: ignore[misc]\u001b[39;00m\n\u001b[1;32m   1510\u001b[0m \u001b[39melse\u001b[39;00m:\n\u001b[0;32m-> 1511\u001b[0m     \u001b[39mreturn\u001b[39;00m \u001b[39mself\u001b[39;49m\u001b[39m.\u001b[39;49m_call_impl(\u001b[39m*\u001b[39;49margs, \u001b[39m*\u001b[39;49m\u001b[39m*\u001b[39;49mkwargs)\n",
      "File \u001b[0;32m~/root/education/uni/y4/t2/chess-analysis/src/venv/lib64/python3.11/site-packages/torch/nn/modules/module.py:1520\u001b[0m, in \u001b[0;36mModule._call_impl\u001b[0;34m(self, *args, **kwargs)\u001b[0m\n\u001b[1;32m   1515\u001b[0m \u001b[39m# If we don't have any hooks, we want to skip the rest of the logic in\u001b[39;00m\n\u001b[1;32m   1516\u001b[0m \u001b[39m# this function, and just call forward.\u001b[39;00m\n\u001b[1;32m   1517\u001b[0m \u001b[39mif\u001b[39;00m \u001b[39mnot\u001b[39;00m (\u001b[39mself\u001b[39m\u001b[39m.\u001b[39m_backward_hooks \u001b[39mor\u001b[39;00m \u001b[39mself\u001b[39m\u001b[39m.\u001b[39m_backward_pre_hooks \u001b[39mor\u001b[39;00m \u001b[39mself\u001b[39m\u001b[39m.\u001b[39m_forward_hooks \u001b[39mor\u001b[39;00m \u001b[39mself\u001b[39m\u001b[39m.\u001b[39m_forward_pre_hooks\n\u001b[1;32m   1518\u001b[0m         \u001b[39mor\u001b[39;00m _global_backward_pre_hooks \u001b[39mor\u001b[39;00m _global_backward_hooks\n\u001b[1;32m   1519\u001b[0m         \u001b[39mor\u001b[39;00m _global_forward_hooks \u001b[39mor\u001b[39;00m _global_forward_pre_hooks):\n\u001b[0;32m-> 1520\u001b[0m     \u001b[39mreturn\u001b[39;00m forward_call(\u001b[39m*\u001b[39;49margs, \u001b[39m*\u001b[39;49m\u001b[39m*\u001b[39;49mkwargs)\n\u001b[1;32m   1522\u001b[0m \u001b[39mtry\u001b[39;00m:\n\u001b[1;32m   1523\u001b[0m     result \u001b[39m=\u001b[39m \u001b[39mNone\u001b[39;00m\n",
      "\u001b[1;32m/home/ysera/root/education/uni/y4/t2/chess-analysis/src/models.ipynb Cell 5\u001b[0m line \u001b[0;36m3\n\u001b[1;32m     <a href='vscode-notebook-cell:/home/ysera/root/education/uni/y4/t2/chess-analysis/src/models.ipynb#W5sZmlsZQ%3D%3D?line=36'>37</a>\u001b[0m h1 \u001b[39m=\u001b[39m torch\u001b[39m.\u001b[39mflatten(h, \u001b[39m2\u001b[39m, \u001b[39m3\u001b[39m)\u001b[39m.\u001b[39mmT\n\u001b[1;32m     <a href='vscode-notebook-cell:/home/ysera/root/education/uni/y4/t2/chess-analysis/src/models.ipynb#W5sZmlsZQ%3D%3D?line=37'>38</a>\u001b[0m \u001b[39m# h1.shape = B,64,H\u001b[39;00m\n\u001b[0;32m---> <a href='vscode-notebook-cell:/home/ysera/root/education/uni/y4/t2/chess-analysis/src/models.ipynb#W5sZmlsZQ%3D%3D?line=38'>39</a>\u001b[0m h2 \u001b[39m=\u001b[39m \u001b[39mself\u001b[39;49m\u001b[39m.\u001b[39;49mtransformer(h1)\n\u001b[1;32m     <a href='vscode-notebook-cell:/home/ysera/root/education/uni/y4/t2/chess-analysis/src/models.ipynb#W5sZmlsZQ%3D%3D?line=39'>40</a>\u001b[0m \u001b[39m# h2.shape = B,64,H\u001b[39;00m\n\u001b[1;32m     <a href='vscode-notebook-cell:/home/ysera/root/education/uni/y4/t2/chess-analysis/src/models.ipynb#W5sZmlsZQ%3D%3D?line=40'>41</a>\u001b[0m h3 \u001b[39m=\u001b[39m torch\u001b[39m.\u001b[39mflatten(h2, \u001b[39m1\u001b[39m, \u001b[39m2\u001b[39m)\n",
      "File \u001b[0;32m~/root/education/uni/y4/t2/chess-analysis/src/venv/lib64/python3.11/site-packages/torch/nn/modules/module.py:1511\u001b[0m, in \u001b[0;36mModule._wrapped_call_impl\u001b[0;34m(self, *args, **kwargs)\u001b[0m\n\u001b[1;32m   1509\u001b[0m     \u001b[39mreturn\u001b[39;00m \u001b[39mself\u001b[39m\u001b[39m.\u001b[39m_compiled_call_impl(\u001b[39m*\u001b[39margs, \u001b[39m*\u001b[39m\u001b[39m*\u001b[39mkwargs)  \u001b[39m# type: ignore[misc]\u001b[39;00m\n\u001b[1;32m   1510\u001b[0m \u001b[39melse\u001b[39;00m:\n\u001b[0;32m-> 1511\u001b[0m     \u001b[39mreturn\u001b[39;00m \u001b[39mself\u001b[39;49m\u001b[39m.\u001b[39;49m_call_impl(\u001b[39m*\u001b[39;49margs, \u001b[39m*\u001b[39;49m\u001b[39m*\u001b[39;49mkwargs)\n",
      "File \u001b[0;32m~/root/education/uni/y4/t2/chess-analysis/src/venv/lib64/python3.11/site-packages/torch/nn/modules/module.py:1520\u001b[0m, in \u001b[0;36mModule._call_impl\u001b[0;34m(self, *args, **kwargs)\u001b[0m\n\u001b[1;32m   1515\u001b[0m \u001b[39m# If we don't have any hooks, we want to skip the rest of the logic in\u001b[39;00m\n\u001b[1;32m   1516\u001b[0m \u001b[39m# this function, and just call forward.\u001b[39;00m\n\u001b[1;32m   1517\u001b[0m \u001b[39mif\u001b[39;00m \u001b[39mnot\u001b[39;00m (\u001b[39mself\u001b[39m\u001b[39m.\u001b[39m_backward_hooks \u001b[39mor\u001b[39;00m \u001b[39mself\u001b[39m\u001b[39m.\u001b[39m_backward_pre_hooks \u001b[39mor\u001b[39;00m \u001b[39mself\u001b[39m\u001b[39m.\u001b[39m_forward_hooks \u001b[39mor\u001b[39;00m \u001b[39mself\u001b[39m\u001b[39m.\u001b[39m_forward_pre_hooks\n\u001b[1;32m   1518\u001b[0m         \u001b[39mor\u001b[39;00m _global_backward_pre_hooks \u001b[39mor\u001b[39;00m _global_backward_hooks\n\u001b[1;32m   1519\u001b[0m         \u001b[39mor\u001b[39;00m _global_forward_hooks \u001b[39mor\u001b[39;00m _global_forward_pre_hooks):\n\u001b[0;32m-> 1520\u001b[0m     \u001b[39mreturn\u001b[39;00m forward_call(\u001b[39m*\u001b[39;49margs, \u001b[39m*\u001b[39;49m\u001b[39m*\u001b[39;49mkwargs)\n\u001b[1;32m   1522\u001b[0m \u001b[39mtry\u001b[39;00m:\n\u001b[1;32m   1523\u001b[0m     result \u001b[39m=\u001b[39m \u001b[39mNone\u001b[39;00m\n",
      "File \u001b[0;32m~/root/education/uni/y4/t2/chess-analysis/src/venv/lib64/python3.11/site-packages/torch/nn/modules/transformer.py:391\u001b[0m, in \u001b[0;36mTransformerEncoder.forward\u001b[0;34m(self, src, mask, src_key_padding_mask, is_causal)\u001b[0m\n\u001b[1;32m    388\u001b[0m is_causal \u001b[39m=\u001b[39m _detect_is_causal_mask(mask, is_causal, seq_len)\n\u001b[1;32m    390\u001b[0m \u001b[39mfor\u001b[39;00m mod \u001b[39min\u001b[39;00m \u001b[39mself\u001b[39m\u001b[39m.\u001b[39mlayers:\n\u001b[0;32m--> 391\u001b[0m     output \u001b[39m=\u001b[39m mod(output, src_mask\u001b[39m=\u001b[39;49mmask, is_causal\u001b[39m=\u001b[39;49mis_causal, src_key_padding_mask\u001b[39m=\u001b[39;49msrc_key_padding_mask_for_layers)\n\u001b[1;32m    393\u001b[0m \u001b[39mif\u001b[39;00m convert_to_nested:\n\u001b[1;32m    394\u001b[0m     output \u001b[39m=\u001b[39m output\u001b[39m.\u001b[39mto_padded_tensor(\u001b[39m0.\u001b[39m, src\u001b[39m.\u001b[39msize())\n",
      "File \u001b[0;32m~/root/education/uni/y4/t2/chess-analysis/src/venv/lib64/python3.11/site-packages/torch/nn/modules/module.py:1511\u001b[0m, in \u001b[0;36mModule._wrapped_call_impl\u001b[0;34m(self, *args, **kwargs)\u001b[0m\n\u001b[1;32m   1509\u001b[0m     \u001b[39mreturn\u001b[39;00m \u001b[39mself\u001b[39m\u001b[39m.\u001b[39m_compiled_call_impl(\u001b[39m*\u001b[39margs, \u001b[39m*\u001b[39m\u001b[39m*\u001b[39mkwargs)  \u001b[39m# type: ignore[misc]\u001b[39;00m\n\u001b[1;32m   1510\u001b[0m \u001b[39melse\u001b[39;00m:\n\u001b[0;32m-> 1511\u001b[0m     \u001b[39mreturn\u001b[39;00m \u001b[39mself\u001b[39;49m\u001b[39m.\u001b[39;49m_call_impl(\u001b[39m*\u001b[39;49margs, \u001b[39m*\u001b[39;49m\u001b[39m*\u001b[39;49mkwargs)\n",
      "File \u001b[0;32m~/root/education/uni/y4/t2/chess-analysis/src/venv/lib64/python3.11/site-packages/torch/nn/modules/module.py:1520\u001b[0m, in \u001b[0;36mModule._call_impl\u001b[0;34m(self, *args, **kwargs)\u001b[0m\n\u001b[1;32m   1515\u001b[0m \u001b[39m# If we don't have any hooks, we want to skip the rest of the logic in\u001b[39;00m\n\u001b[1;32m   1516\u001b[0m \u001b[39m# this function, and just call forward.\u001b[39;00m\n\u001b[1;32m   1517\u001b[0m \u001b[39mif\u001b[39;00m \u001b[39mnot\u001b[39;00m (\u001b[39mself\u001b[39m\u001b[39m.\u001b[39m_backward_hooks \u001b[39mor\u001b[39;00m \u001b[39mself\u001b[39m\u001b[39m.\u001b[39m_backward_pre_hooks \u001b[39mor\u001b[39;00m \u001b[39mself\u001b[39m\u001b[39m.\u001b[39m_forward_hooks \u001b[39mor\u001b[39;00m \u001b[39mself\u001b[39m\u001b[39m.\u001b[39m_forward_pre_hooks\n\u001b[1;32m   1518\u001b[0m         \u001b[39mor\u001b[39;00m _global_backward_pre_hooks \u001b[39mor\u001b[39;00m _global_backward_hooks\n\u001b[1;32m   1519\u001b[0m         \u001b[39mor\u001b[39;00m _global_forward_hooks \u001b[39mor\u001b[39;00m _global_forward_pre_hooks):\n\u001b[0;32m-> 1520\u001b[0m     \u001b[39mreturn\u001b[39;00m forward_call(\u001b[39m*\u001b[39;49margs, \u001b[39m*\u001b[39;49m\u001b[39m*\u001b[39;49mkwargs)\n\u001b[1;32m   1522\u001b[0m \u001b[39mtry\u001b[39;00m:\n\u001b[1;32m   1523\u001b[0m     result \u001b[39m=\u001b[39m \u001b[39mNone\u001b[39;00m\n",
      "File \u001b[0;32m~/root/education/uni/y4/t2/chess-analysis/src/venv/lib64/python3.11/site-packages/torch/nn/modules/transformer.py:715\u001b[0m, in \u001b[0;36mTransformerEncoderLayer.forward\u001b[0;34m(self, src, src_mask, src_key_padding_mask, is_causal)\u001b[0m\n\u001b[1;32m    713\u001b[0m \u001b[39melse\u001b[39;00m:\n\u001b[1;32m    714\u001b[0m     x \u001b[39m=\u001b[39m \u001b[39mself\u001b[39m\u001b[39m.\u001b[39mnorm1(x \u001b[39m+\u001b[39m \u001b[39mself\u001b[39m\u001b[39m.\u001b[39m_sa_block(x, src_mask, src_key_padding_mask, is_causal\u001b[39m=\u001b[39mis_causal))\n\u001b[0;32m--> 715\u001b[0m     x \u001b[39m=\u001b[39m \u001b[39mself\u001b[39m\u001b[39m.\u001b[39mnorm2(x \u001b[39m+\u001b[39m \u001b[39mself\u001b[39;49m\u001b[39m.\u001b[39;49m_ff_block(x))\n\u001b[1;32m    717\u001b[0m \u001b[39mreturn\u001b[39;00m x\n",
      "File \u001b[0;32m~/root/education/uni/y4/t2/chess-analysis/src/venv/lib64/python3.11/site-packages/torch/nn/modules/transformer.py:730\u001b[0m, in \u001b[0;36mTransformerEncoderLayer._ff_block\u001b[0;34m(self, x)\u001b[0m\n\u001b[1;32m    729\u001b[0m \u001b[39mdef\u001b[39;00m \u001b[39m_ff_block\u001b[39m(\u001b[39mself\u001b[39m, x: Tensor) \u001b[39m-\u001b[39m\u001b[39m>\u001b[39m Tensor:\n\u001b[0;32m--> 730\u001b[0m     x \u001b[39m=\u001b[39m \u001b[39mself\u001b[39m\u001b[39m.\u001b[39mlinear2(\u001b[39mself\u001b[39;49m\u001b[39m.\u001b[39;49mdropout(\u001b[39mself\u001b[39;49m\u001b[39m.\u001b[39;49mactivation(\u001b[39mself\u001b[39;49m\u001b[39m.\u001b[39;49mlinear1(x))))\n\u001b[1;32m    731\u001b[0m     \u001b[39mreturn\u001b[39;00m \u001b[39mself\u001b[39m\u001b[39m.\u001b[39mdropout2(x)\n",
      "File \u001b[0;32m~/root/education/uni/y4/t2/chess-analysis/src/venv/lib64/python3.11/site-packages/torch/nn/modules/module.py:1511\u001b[0m, in \u001b[0;36mModule._wrapped_call_impl\u001b[0;34m(self, *args, **kwargs)\u001b[0m\n\u001b[1;32m   1509\u001b[0m     \u001b[39mreturn\u001b[39;00m \u001b[39mself\u001b[39m\u001b[39m.\u001b[39m_compiled_call_impl(\u001b[39m*\u001b[39margs, \u001b[39m*\u001b[39m\u001b[39m*\u001b[39mkwargs)  \u001b[39m# type: ignore[misc]\u001b[39;00m\n\u001b[1;32m   1510\u001b[0m \u001b[39melse\u001b[39;00m:\n\u001b[0;32m-> 1511\u001b[0m     \u001b[39mreturn\u001b[39;00m \u001b[39mself\u001b[39;49m\u001b[39m.\u001b[39;49m_call_impl(\u001b[39m*\u001b[39;49margs, \u001b[39m*\u001b[39;49m\u001b[39m*\u001b[39;49mkwargs)\n",
      "File \u001b[0;32m~/root/education/uni/y4/t2/chess-analysis/src/venv/lib64/python3.11/site-packages/torch/nn/modules/module.py:1520\u001b[0m, in \u001b[0;36mModule._call_impl\u001b[0;34m(self, *args, **kwargs)\u001b[0m\n\u001b[1;32m   1515\u001b[0m \u001b[39m# If we don't have any hooks, we want to skip the rest of the logic in\u001b[39;00m\n\u001b[1;32m   1516\u001b[0m \u001b[39m# this function, and just call forward.\u001b[39;00m\n\u001b[1;32m   1517\u001b[0m \u001b[39mif\u001b[39;00m \u001b[39mnot\u001b[39;00m (\u001b[39mself\u001b[39m\u001b[39m.\u001b[39m_backward_hooks \u001b[39mor\u001b[39;00m \u001b[39mself\u001b[39m\u001b[39m.\u001b[39m_backward_pre_hooks \u001b[39mor\u001b[39;00m \u001b[39mself\u001b[39m\u001b[39m.\u001b[39m_forward_hooks \u001b[39mor\u001b[39;00m \u001b[39mself\u001b[39m\u001b[39m.\u001b[39m_forward_pre_hooks\n\u001b[1;32m   1518\u001b[0m         \u001b[39mor\u001b[39;00m _global_backward_pre_hooks \u001b[39mor\u001b[39;00m _global_backward_hooks\n\u001b[1;32m   1519\u001b[0m         \u001b[39mor\u001b[39;00m _global_forward_hooks \u001b[39mor\u001b[39;00m _global_forward_pre_hooks):\n\u001b[0;32m-> 1520\u001b[0m     \u001b[39mreturn\u001b[39;00m forward_call(\u001b[39m*\u001b[39;49margs, \u001b[39m*\u001b[39;49m\u001b[39m*\u001b[39;49mkwargs)\n\u001b[1;32m   1522\u001b[0m \u001b[39mtry\u001b[39;00m:\n\u001b[1;32m   1523\u001b[0m     result \u001b[39m=\u001b[39m \u001b[39mNone\u001b[39;00m\n",
      "File \u001b[0;32m~/root/education/uni/y4/t2/chess-analysis/src/venv/lib64/python3.11/site-packages/torch/nn/modules/dropout.py:59\u001b[0m, in \u001b[0;36mDropout.forward\u001b[0;34m(self, input)\u001b[0m\n\u001b[1;32m     58\u001b[0m \u001b[39mdef\u001b[39;00m \u001b[39mforward\u001b[39m(\u001b[39mself\u001b[39m, \u001b[39minput\u001b[39m: Tensor) \u001b[39m-\u001b[39m\u001b[39m>\u001b[39m Tensor:\n\u001b[0;32m---> 59\u001b[0m     \u001b[39mreturn\u001b[39;00m F\u001b[39m.\u001b[39;49mdropout(\u001b[39minput\u001b[39;49m, \u001b[39mself\u001b[39;49m\u001b[39m.\u001b[39;49mp, \u001b[39mself\u001b[39;49m\u001b[39m.\u001b[39;49mtraining, \u001b[39mself\u001b[39;49m\u001b[39m.\u001b[39;49minplace)\n",
      "File \u001b[0;32m~/root/education/uni/y4/t2/chess-analysis/src/venv/lib64/python3.11/site-packages/torch/nn/functional.py:1268\u001b[0m, in \u001b[0;36mdropout\u001b[0;34m(input, p, training, inplace)\u001b[0m\n\u001b[1;32m   1266\u001b[0m \u001b[39mif\u001b[39;00m p \u001b[39m<\u001b[39m \u001b[39m0.0\u001b[39m \u001b[39mor\u001b[39;00m p \u001b[39m>\u001b[39m \u001b[39m1.0\u001b[39m:\n\u001b[1;32m   1267\u001b[0m     \u001b[39mraise\u001b[39;00m \u001b[39mValueError\u001b[39;00m(\u001b[39mf\u001b[39m\u001b[39m\"\u001b[39m\u001b[39mdropout probability has to be between 0 and 1, but got \u001b[39m\u001b[39m{\u001b[39;00mp\u001b[39m}\u001b[39;00m\u001b[39m\"\u001b[39m)\n\u001b[0;32m-> 1268\u001b[0m \u001b[39mreturn\u001b[39;00m _VF\u001b[39m.\u001b[39mdropout_(\u001b[39minput\u001b[39m, p, training) \u001b[39mif\u001b[39;00m inplace \u001b[39melse\u001b[39;00m _VF\u001b[39m.\u001b[39;49mdropout(\u001b[39minput\u001b[39;49m, p, training)\n",
      "\u001b[0;31mKeyboardInterrupt\u001b[0m: "
     ]
    }
   ],
   "source": [
    "def train_loop(model: nn.Module, epochs: int):\n",
    "    print(\"Total params:\", model.total_params())\n",
    "    optim = torch.optim.Adam(model.parameters())\n",
    "    \n",
    "    for t in (tepoch := tqdm(range(epochs), \"epoch\")):\n",
    "        model.train()\n",
    "        batch_losses = []\n",
    "        # Iterate over training dataset\n",
    "        for b, (data, label) in enumerate(tbatch := tqdm(train_dataloader, leave=False, unit=\"batch\")):\n",
    "            y = model(data)\n",
    "            loss = F.binary_cross_entropy_with_logits(y, label.float())\n",
    "\n",
    "            optim.zero_grad()\n",
    "            loss.backward()\n",
    "            optim.step()\n",
    "\n",
    "            loss_item = loss.item()\n",
    "            batch_losses.append(loss_item)\n",
    "            model.batch_losses.append(loss_item)\n",
    "            if b % 100 == 0:\n",
    "                tbatch.set_postfix(loss=loss_item)\n",
    "            \n",
    "        model.eval()\n",
    "        batch_test_losses = []\n",
    "        # Iterate over test dataset\n",
    "        for b, (data, label) in enumerate(tbatch := tqdm(test_dataloader, leave=False, unit=\"batch\")):\n",
    "            y = model(data)\n",
    "            loss = F.binary_cross_entropy_with_logits(y, label)\n",
    "            loss_item = loss.item()\n",
    "            batch_test_losses.append(loss_item)\n",
    "            if b % 100 == 0:\n",
    "                tbatch.set_postfix(loss=loss_item)\n",
    "\n",
    "        # Average loss in epoch\n",
    "        avg_loss = sum(batch_losses) / len(batch_losses) \n",
    "        avg_test_loss = sum(batch_test_losses) / len(batch_test_losses)\n",
    "        model.epoch_train_losses.append(avg_loss)\n",
    "        model.epoch_test_losses.append(avg_test_loss)\n",
    "        tepoch.set_postfix(train_loss=avg_loss, test_loss=avg_test_loss)\n",
    "\n",
    "train_loop(ChessNN([16, 32], nn.ReLU()), 100)"
   ]
  },
  {
   "cell_type": "code",
   "execution_count": 8,
   "metadata": {},
   "outputs": [
    {
     "data": {
      "application/vnd.jupyter.widget-view+json": {
       "model_id": "114bda7a5dd64041a8da6059872cb96e",
       "version_major": 2,
       "version_minor": 0
      },
      "text/plain": [
       "  0%|          | 0/100000 [00:00<?, ?it/s]"
      ]
     },
     "metadata": {},
     "output_type": "display_data"
    },
    {
     "data": {
      "application/vnd.jupyter.widget-view+json": {
       "model_id": "bf7a631f182445aa81451c14bff8eabc",
       "version_major": 2,
       "version_minor": 0
      },
      "text/plain": [
       "  0%|          | 0/10000000 [00:00<?, ?it/s]"
      ]
     },
     "metadata": {},
     "output_type": "display_data"
    },
    {
     "data": {
      "application/vnd.jupyter.widget-view+json": {
       "model_id": "289246b7448f4fc28fae01d91bddf3e8",
       "version_major": 2,
       "version_minor": 0
      },
      "text/plain": [
       "  0%|          | 0/10000000 [00:00<?, ?it/s]"
      ]
     },
     "metadata": {},
     "output_type": "display_data"
    },
    {
     "data": {
      "application/vnd.jupyter.widget-view+json": {
       "model_id": "be099553d2e5482f80cd24191337eb28",
       "version_major": 2,
       "version_minor": 0
      },
      "text/plain": [
       "  0%|          | 0/10000000 [00:00<?, ?it/s]"
      ]
     },
     "metadata": {},
     "output_type": "display_data"
    },
    {
     "data": {
      "application/vnd.jupyter.widget-view+json": {
       "model_id": "3565daa140a345d8a34083e4e839b04f",
       "version_major": 2,
       "version_minor": 0
      },
      "text/plain": [
       "  0%|          | 0/10000000 [00:00<?, ?it/s]"
      ]
     },
     "metadata": {},
     "output_type": "display_data"
    },
    {
     "data": {
      "application/vnd.jupyter.widget-view+json": {
       "model_id": "d625b3ae34f4454586f405b73aa8d2ba",
       "version_major": 2,
       "version_minor": 0
      },
      "text/plain": [
       "  0%|          | 0/10000000 [00:00<?, ?it/s]"
      ]
     },
     "metadata": {},
     "output_type": "display_data"
    },
    {
     "data": {
      "application/vnd.jupyter.widget-view+json": {
       "model_id": "9e3fa64024ae473d90b7dbbbfe351e62",
       "version_major": 2,
       "version_minor": 0
      },
      "text/plain": [
       "  0%|          | 0/10000000 [00:00<?, ?it/s]"
      ]
     },
     "metadata": {},
     "output_type": "display_data"
    },
    {
     "data": {
      "application/vnd.jupyter.widget-view+json": {
       "model_id": "28415302df984d138ee6e61f1440f760",
       "version_major": 2,
       "version_minor": 0
      },
      "text/plain": [
       "  0%|          | 0/10000000 [00:00<?, ?it/s]"
      ]
     },
     "metadata": {},
     "output_type": "display_data"
    },
    {
     "data": {
      "application/vnd.jupyter.widget-view+json": {
       "model_id": "4c8c17ce7e544f53a167b74481d12122",
       "version_major": 2,
       "version_minor": 0
      },
      "text/plain": [
       "  0%|          | 0/10000000 [00:00<?, ?it/s]"
      ]
     },
     "metadata": {},
     "output_type": "display_data"
    },
    {
     "data": {
      "application/vnd.jupyter.widget-view+json": {
       "model_id": "cc24dc6f97f641959439cf4eebb73347",
       "version_major": 2,
       "version_minor": 0
      },
      "text/plain": [
       "  0%|          | 0/10000000 [00:00<?, ?it/s]"
      ]
     },
     "metadata": {},
     "output_type": "display_data"
    },
    {
     "data": {
      "application/vnd.jupyter.widget-view+json": {
       "model_id": "4306b658a26944eb990abf1e9c36085d",
       "version_major": 2,
       "version_minor": 0
      },
      "text/plain": [
       "  0%|          | 0/10000000 [00:00<?, ?it/s]"
      ]
     },
     "metadata": {},
     "output_type": "display_data"
    },
    {
     "data": {
      "application/vnd.jupyter.widget-view+json": {
       "model_id": "5e57889adbf54e36ae7bbb652ad51bcb",
       "version_major": 2,
       "version_minor": 0
      },
      "text/plain": [
       "  0%|          | 0/10000000 [00:00<?, ?it/s]"
      ]
     },
     "metadata": {},
     "output_type": "display_data"
    },
    {
     "data": {
      "application/vnd.jupyter.widget-view+json": {
       "model_id": "77691e9aa0704e2b8bc7fea4292b35b3",
       "version_major": 2,
       "version_minor": 0
      },
      "text/plain": [
       "  0%|          | 0/10000000 [00:00<?, ?it/s]"
      ]
     },
     "metadata": {},
     "output_type": "display_data"
    },
    {
     "ename": "KeyboardInterrupt",
     "evalue": "",
     "output_type": "error",
     "traceback": [
      "\u001b[0;31m---------------------------------------------------------------------------\u001b[0m",
      "\u001b[0;31mKeyboardInterrupt\u001b[0m                         Traceback (most recent call last)",
      "\u001b[1;32m/home/ysera/root/education/uni/y4/t2/chess-analysis/src/models.ipynb Cell 6\u001b[0m line \u001b[0;36m3\n\u001b[1;32m      <a href='vscode-notebook-cell:/home/ysera/root/education/uni/y4/t2/chess-analysis/src/models.ipynb#X13sZmlsZQ%3D%3D?line=0'>1</a>\u001b[0m \u001b[39mfor\u001b[39;00m i \u001b[39min\u001b[39;00m tqdm(\u001b[39mrange\u001b[39m(\u001b[39m100000\u001b[39m)):\n\u001b[1;32m      <a href='vscode-notebook-cell:/home/ysera/root/education/uni/y4/t2/chess-analysis/src/models.ipynb#X13sZmlsZQ%3D%3D?line=1'>2</a>\u001b[0m     \u001b[39mfor\u001b[39;00m j \u001b[39min\u001b[39;00m tqdm(\u001b[39mrange\u001b[39m(\u001b[39m10000000\u001b[39m), leave\u001b[39m=\u001b[39m\u001b[39mFalse\u001b[39;00m):\n\u001b[0;32m----> <a href='vscode-notebook-cell:/home/ysera/root/education/uni/y4/t2/chess-analysis/src/models.ipynb#X13sZmlsZQ%3D%3D?line=2'>3</a>\u001b[0m         \u001b[39mpass\u001b[39;00m\n",
      "\u001b[0;31mKeyboardInterrupt\u001b[0m: "
     ]
    }
   ],
   "source": []
  }
 ],
 "metadata": {
  "kernelspec": {
   "display_name": "venv",
   "language": "python",
   "name": "python3"
  },
  "language_info": {
   "codemirror_mode": {
    "name": "ipython",
    "version": 3
   },
   "file_extension": ".py",
   "mimetype": "text/x-python",
   "name": "python",
   "nbconvert_exporter": "python",
   "pygments_lexer": "ipython3",
   "version": "3.11.8"
  }
 },
 "nbformat": 4,
 "nbformat_minor": 2
}
